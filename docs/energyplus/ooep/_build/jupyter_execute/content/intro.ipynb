{
 "cells": [
  {
   "cell_type": "code",
   "execution_count": null,
   "metadata": {},
   "outputs": [],
   "source": []
  },
  {
   "cell_type": "markdown",
   "metadata": {},
   "source": [
    "Internal Clock (EnergyPlus)\n",
    "\n",
    "```mermaid\n",
    "graph LR\n",
    "    subgraph simulator[Simulator]\n",
    "        control_unit[[Control Unit]]\n",
    "        clock((CLK)) --> control_unit\n",
    "    end\n",
    "\n",
    "    input[IN] ---> control_unit ---> output[OUT]\n",
    "```\n",
    "\n",
    "External Clock (Gym/Gymnasium)\n",
    "\n",
    "```mermaid\n",
    "graph LR\n",
    "    subgraph simulator[Simulator]\n",
    "        control_unit[[Control Unit]]\n",
    "    end\n",
    "\n",
    "    clock((CLK)) --> control_unit\n",
    "    input[IN] ---> control_unit ---> output[OUT]\n",
    "\n",
    "```\n",
    "\n",
    "- IN: Input.\n",
    "- OUT: Output.\n",
    "- CLK: Clock. Controls when the state machine transitions to the next state. In a Gym/Gymnasium `Env`, this is implemented through a function called `step`."
   ]
  },
  {
   "cell_type": "markdown",
   "metadata": {},
   "source": []
  }
 ],
 "metadata": {
  "language_info": {
   "codemirror_mode": {
    "name": "ipython",
    "version": 3
   },
   "file_extension": ".py",
   "mimetype": "text/x-python",
   "name": "python",
   "nbconvert_exporter": "python",
   "pygments_lexer": "ipython3",
   "version": "3.11.2"
  }
 },
 "nbformat": 4,
 "nbformat_minor": 2
}