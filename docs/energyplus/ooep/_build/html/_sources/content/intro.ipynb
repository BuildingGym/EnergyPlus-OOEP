{
 "cells": [
  {
   "cell_type": "code",
   "execution_count": null,
   "metadata": {},
   "outputs": [],
   "source": []
  },
  {
   "cell_type": "markdown",
   "metadata": {},
   "source": [
    "Internal Clock (EnergyPlus)\n",
    "\n",
    "```mermaid\n",
    "graph LR\n",
    "    subgraph simulator[Simulator]\n",
    "        control_unit[[Control Unit]]\n",
    "        clock((CLK)) --> control_unit\n",
    "    end\n",
    "\n",
    "    input[IN] ---> control_unit ---> output[OUT]\n",
    "```\n",
    "\n",
    "External Clock (Gym/Gymnasium)\n",
    "\n",
    "```mermaid\n",
    "graph LR\n",
    "    subgraph simulator[Simulator]\n",
    "        control_unit[[Control Unit]]\n",
    "    end\n",
    "\n",
    "    clock((CLK)) --> control_unit\n",
    "    input[IN] ---> control_unit ---> output[OUT]\n",
    "\n",
    "```\n",
    "\n",
    "- IN: Input.\n",
    "- OUT: Output.\n",
    "- CLK: Clock. Controls when the state machine transitions to the next state. In a Gym/Gymnasium `Env`, this is implemented through a function called `step`."
   ]
  },
  {
   "cell_type": "markdown",
   "metadata": {},
   "source": []
  }
 ],
 "metadata": {
  "language_info": {
   "name": "python"
  }
 },
 "nbformat": 4,
 "nbformat_minor": 2
}
