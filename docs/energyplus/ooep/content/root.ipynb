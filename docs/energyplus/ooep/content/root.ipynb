{
 "cells": [
  {
   "cell_type": "markdown",
   "metadata": {},
   "source": [
    "# Introduction\n",
    "\n",
    "A progressive control systems framework for EnergyPlus and beyond.\n",
    "\n",
    "EnergyPlus-OOEP (Object-Oriented EnergyPlus&trade;) \n",
    "is an _object-oriented_ automation and control framework for energy systems\n",
    "based on [_EnergyPlus_](https://energyplus.net)&trade;."
   ]
  },
  {
   "cell_type": "markdown",
   "metadata": {},
   "source": []
  }
 ],
 "metadata": {
  "language_info": {
   "name": "python"
  }
 },
 "nbformat": 4,
 "nbformat_minor": 2
}
