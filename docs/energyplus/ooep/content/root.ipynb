{
 "cells": [
  {
   "cell_type": "markdown",
   "metadata": {},
   "source": [
    "# Introduction\n",
    "\n",
    "EnergyPlus-OOEP (Object-Oriented EnergyPlus&trade;) \n",
    "is an _object-oriented_ automation and control framework for energy systems\n",
    "based on [_EnergyPlus&trade;_](https://energyplus.net)."
   ]
  },
  {
   "cell_type": "markdown",
   "metadata": {},
   "source": []
  }
 ],
 "metadata": {
  "language_info": {
   "name": "python"
  }
 },
 "nbformat": 4,
 "nbformat_minor": 2
}
