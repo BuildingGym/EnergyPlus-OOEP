{
 "cells": [
  {
   "cell_type": "markdown",
   "metadata": {},
   "source": []
  },
  {
   "cell_type": "code",
   "execution_count": null,
   "metadata": {},
   "outputs": [],
   "source": [
    "import logging as _logging_\n",
    "_logging_.basicConfig(level='DEBUG')\n",
    "\n",
    "import energyplus.ooep as _ooep_\n",
    "\n",
    "from energyplus.ooep.addons.logging.progbar import ProgressProvider\n",
    "from energyplus.ooep.addons.logging.console import LogProvider\n",
    "\n",
    "Simulator = _ooep_.engines.simulators.Simulator\n",
    "Environment = _ooep_.datas.Environment\n",
    "Weather = _ooep_.datas.Weather\n",
    "\n",
    "\n",
    "from energyplus.dataset.basic import dataset as _epds_\n",
    "\n",
    "sim = Simulator().add(\n",
    "    ProgressProvider(),\n",
    "    #LogProvider(),\n",
    ")\n",
    "\n",
    "sim.run(\n",
    "    input=Simulator.InputSpecs(\n",
    "        environment=Environment().open(\n",
    "            _epds_.models / 'ASHRAE901_OfficeLarge_STD2019_Denver_Chiller205_Detailed.idf'\n",
    "        ),\n",
    "        weather=Weather().open(_epds_.weathers / 'USA_FL_Tampa.Intl.AP.722110_TMY3.epw'),\n",
    "    ),\n",
    "    options=Simulator.RuntimeOptions(\n",
    "        design_day=True,\n",
    "    ),\n",
    ")"
   ]
  }
 ],
 "metadata": {
  "language_info": {
   "name": "python"
  }
 },
 "nbformat": 4,
 "nbformat_minor": 2
}
