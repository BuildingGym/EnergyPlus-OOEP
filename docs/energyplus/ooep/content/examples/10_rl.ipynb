{
 "cells": [
  {
   "cell_type": "code",
   "execution_count": 3,
   "metadata": {
    "editable": true,
    "slideshow": {
     "slide_type": "skip"
    },
    "tags": []
   },
   "outputs": [],
   "source": [
    "#%pip install --extra-index-url https://test.pypi.org/simple ../../EnergyPlus-OOEP/\n",
    "#%pip install git+https://github.com/NTU-CCA-HVAC-OPTIM-a842a748/EnergyPlus-Datasets.git\n",
    "#%pip install ipywidgets tqdm gymnasium torch ray[rllib]"
   ]
  },
  {
   "cell_type": "markdown",
   "metadata": {
    "slideshow": {
     "slide_type": "slide"
    }
   },
   "source": [
    "# 🤖 Reinforcement Learning\n",
    "\n",
    "TODO description"
   ]
  },
  {
   "cell_type": "markdown",
   "metadata": {
    "slideshow": {
     "slide_type": "slide"
    }
   },
   "source": [
    "Kickstart the simulation."
   ]
  },
  {
   "cell_type": "code",
   "execution_count": 4,
   "metadata": {
    "editable": true,
    "scrolled": true,
    "slideshow": {
     "slide_type": "subslide"
    },
    "tags": []
   },
   "outputs": [
    {
     "data": {
      "application/vnd.jupyter.widget-view+json": {
       "model_id": "b0109944854444b98fc16990a8e8518b",
       "version_major": 2,
       "version_minor": 0
      },
      "text/plain": [
       "  0%|          | 0/100 [00:00<?, ?it/s]"
      ]
     },
     "metadata": {},
     "output_type": "display_data"
    }
   ],
   "source": [
    "#import logging as _logging_\n",
    "#_logging_.basicConfig(level='INFO')\n",
    "#from energyplus.ooep.addons.logging import MessageLogger\n",
    "\n",
    "from energyplus.ooep.addons.logging import ProgressLogger\n",
    "\n",
    "from energyplus.ooep import (\n",
    "    World,\n",
    "    Model,\n",
    "    Weather,\n",
    "    Report,\n",
    ")\n",
    "\n",
    "from energyplus.dataset.basic import dataset as _epds_\n",
    "\n",
    "simulator = World(\n",
    "    input=World.InputSpecs(\n",
    "        model=(\n",
    "            _epds_.models / 'ASHRAE901_OfficeLarge_STD2019_Denver_Chiller205_Detailed.idf'\n",
    "        ),\n",
    "        weather=(_epds_.weathers / 'USA_CO_Denver-Aurora-Buckley.AFB.724695_TMY3.epw'),\n",
    "    ),\n",
    "    output=World.OutputSpecs(\n",
    "        #report=('/tmp/ooep-report-9e1287d2-8e75-4cf5-bbc5-f76580b56a69'),\n",
    "    ),\n",
    "    options=World.RuntimeOptions(\n",
    "        recurring=True,\n",
    "        #design_day=True,\n",
    "    ),\n",
    ").add(\n",
    "    ProgressLogger(),\n",
    "    #MessageLogger(),\n",
    ")"
   ]
  },
  {
   "cell_type": "markdown",
   "metadata": {
    "editable": true,
    "slideshow": {
     "slide_type": "slide"
    },
    "tags": []
   },
   "source": [
    "Configure the controller (an RLlib algorithm)."
   ]
  },
  {
   "cell_type": "code",
   "execution_count": 5,
   "metadata": {
    "editable": true,
    "scrolled": true,
    "slideshow": {
     "slide_type": "subslide"
    },
    "tags": []
   },
   "outputs": [
    {
     "name": "stderr",
     "output_type": "stream",
     "text": [
      "/home/user@AD/lab/EnergyPlus-OOEP/.venv/lib/python3.11/site-packages/ray/rllib/algorithms/algorithm.py:500: RayDeprecationWarning: This API is deprecated and may be removed in future Ray releases. You could suppress this warning by setting env variable PYTHONWARNINGS=\"ignore::DeprecationWarning\"\n",
      "`UnifiedLogger` will be removed in Ray 2.7.\n",
      "  return UnifiedLogger(config, logdir, loggers=None)\n",
      "/home/user@AD/lab/EnergyPlus-OOEP/.venv/lib/python3.11/site-packages/ray/tune/logger/unified.py:53: RayDeprecationWarning: This API is deprecated and may be removed in future Ray releases. You could suppress this warning by setting env variable PYTHONWARNINGS=\"ignore::DeprecationWarning\"\n",
      "The `JsonLogger interface is deprecated in favor of the `ray.tune.json.JsonLoggerCallback` interface and will be removed in Ray 2.7.\n",
      "  self._loggers.append(cls(self.config, self.logdir, self.trial))\n",
      "2024-05-25 00:58:57,523\tWARNING unified.py:56 -- Could not instantiate JsonLogger: cannot pickle '_hashlib.HMAC' object.\n",
      "/home/user@AD/lab/EnergyPlus-OOEP/.venv/lib/python3.11/site-packages/ray/tune/logger/unified.py:53: RayDeprecationWarning: This API is deprecated and may be removed in future Ray releases. You could suppress this warning by setting env variable PYTHONWARNINGS=\"ignore::DeprecationWarning\"\n",
      "The `CSVLogger interface is deprecated in favor of the `ray.tune.csv.CSVLoggerCallback` interface and will be removed in Ray 2.7.\n",
      "  self._loggers.append(cls(self.config, self.logdir, self.trial))\n",
      "/home/user@AD/lab/EnergyPlus-OOEP/.venv/lib/python3.11/site-packages/ray/tune/logger/unified.py:53: RayDeprecationWarning: This API is deprecated and may be removed in future Ray releases. You could suppress this warning by setting env variable PYTHONWARNINGS=\"ignore::DeprecationWarning\"\n",
      "The `TBXLogger interface is deprecated in favor of the `ray.tune.tensorboardx.TBXLoggerCallback` interface and will be removed in Ray 2.7.\n",
      "  self._loggers.append(cls(self.config, self.logdir, self.trial))\n",
      "2024-05-25 00:58:57,532\tWARNING env.py:89 -- Env checking isn't implemented for RemoteBaseEnvs, ExternalMultiAgentEnv, ExternalEnvs or environments that are Ray actors.\n",
      "2024-05-25 00:58:58,086\tWARNING util.py:62 -- Install gputil for GPU system monitoring.\n"
     ]
    }
   ],
   "source": [
    "import numpy as _numpy_\n",
    "import gymnasium as _gymnasium_\n",
    "\n",
    "from energyplus.ooep.addons.rl import (\n",
    "    VariableBox,\n",
    "    SimulatorEnv,\n",
    ")\n",
    "\n",
    "from energyplus.ooep import (\n",
    "    Actuator,\n",
    "    OutputVariable,\n",
    ")\n",
    "\n",
    "from ray.rllib.algorithms.ppo import PPOConfig\n",
    "\n",
    "\n",
    "\n",
    "config = (\n",
    "    PPOConfig.from_dict({        \n",
    "        'create_env_on_local_worker': True\n",
    "    })\n",
    "    .resources(num_gpus=1)\n",
    "    .environment(\n",
    "        SimulatorEnv, \n",
    "        env_config=SimulatorEnv.Config(\n",
    "            action_space=_gymnasium_.spaces.Dict({\n",
    "                'thermostat': VariableBox(\n",
    "                    low=15., high=20.,\n",
    "                    dtype=_numpy_.float32,\n",
    "                    shape=(),\n",
    "                ).bind(Actuator.Ref(\n",
    "                    type='Zone Temperature Control',\n",
    "                    control_type='Heating Setpoint',\n",
    "                    key='CORE_MID',\n",
    "                ))\n",
    "            }),    \n",
    "            observation_space=_gymnasium_.spaces.Dict({\n",
    "                'temperature': VariableBox(\n",
    "                    low=-_numpy_.inf, high=+_numpy_.inf,\n",
    "                    dtype=_numpy_.float32,\n",
    "                    shape=(),\n",
    "                ).bind(OutputVariable.Ref(\n",
    "                    type='People Air Temperature',\n",
    "                    key='CORE_MID',\n",
    "                )),\n",
    "            }),\n",
    "            reward_function=lambda __obs: 1,\n",
    "            event_refs=[\n",
    "                'begin_zone_timestep_after_init_heat_balance',\n",
    "            ],\n",
    "            simulator_factory=lambda simulator=simulator: simulator,\n",
    "        )\n",
    "    )\n",
    "    .rollouts(\n",
    "        #num_rollout_workers=10,\n",
    "        num_rollout_workers=0,\n",
    "        enable_connectors=False,\n",
    "    )\n",
    "    .framework(\"torch\")\n",
    "    .training(\n",
    "        model={\"fcnet_hiddens\": [64, 64]},\n",
    "        lr=0.0001,\n",
    "    )\n",
    "    .evaluation(\n",
    "        #evaluation_interval=1,\n",
    "        #evaluation_num_workers=0\n",
    "    )\n",
    ")\n",
    "\n",
    "\n",
    "algo = config.build(use_copy=True)"
   ]
  },
  {
   "cell_type": "markdown",
   "metadata": {
    "editable": true,
    "slideshow": {
     "slide_type": "slide"
    },
    "tags": []
   },
   "source": [
    "Train the algorithm."
   ]
  },
  {
   "cell_type": "code",
   "execution_count": 6,
   "metadata": {},
   "outputs": [
    {
     "data": {
      "text/plain": [
       "<Task pending name='Task-5' coro=<Engine.run() running at /home/user@AD/lab/EnergyPlus-OOEP/packages/energyplus/ooep/utils/awaitables.py:68>>"
      ]
     },
     "execution_count": 6,
     "metadata": {},
     "output_type": "execute_result"
    },
    {
     "name": "stderr",
     "output_type": "stream",
     "text": [
      "Exception ignored on calling ctypes callback function: <function EventManager._core_callback_setters.<locals>.<dictcomp>.<lambda>.<locals>.<lambda> at 0x7ff8d74fd9e0>\n",
      "Traceback (most recent call last):\n",
      "  File \"/home/user@AD/lab/EnergyPlus-OOEP/packages/energyplus/ooep/components/events.py\", line 89, in <lambda>\n",
      "    state, lambda _: trigger(StateEvent(spec=spec))\n",
      "                     ^^^^^^^^^^^^^^^^^^^^^^^^^^^^^^\n",
      "  File \"/home/user@AD/lab/EnergyPlus-OOEP/packages/energyplus/ooep/components/events.py\", line 67, in trigger\n",
      "    self.trigger(*args, **kwargs)\n",
      "  File \"/home/user@AD/lab/EnergyPlus-OOEP/packages/energyplus/ooep/components/events.py\", line 142, in trigger\n",
      "    raise e\n",
      "  File \"/home/user@AD/lab/EnergyPlus-OOEP/packages/energyplus/ooep/components/events.py\", line 139, in trigger\n",
      "    try: super().trigger(event, *args, **kwargs)\n",
      "         ^^^^^^^^^^^^^^^^^^^^^^^^^^^^^^^^^^^^^^^\n",
      "  File \"/home/user@AD/lab/EnergyPlus-OOEP/packages/energyplus/ooep/utils/events.py\", line 43, in trigger\n",
      "    return self._handlers[event.ref](event, *args, **kwargs)\n",
      "           ^^^^^^^^^^^^^^^^^^^^^^^^^^^^^^^^^^^^^^^^^^^^^^^^^\n",
      "  File \"/home/user@AD/lab/EnergyPlus-OOEP/packages/energyplus/ooep/utils/containers.py\", line 26, in __call__\n",
      "    return _collections_.OrderedDict({\n",
      "                                     ^\n",
      "  File \"/home/user@AD/lab/EnergyPlus-OOEP/packages/energyplus/ooep/utils/containers.py\", line 27, in <dictcomp>\n",
      "    key: f.__call__(*args, **kwargs)\n",
      "         ^^^^^^^^^^^^^^^^^^^^^^^^^^^\n",
      "  File \"/home/user@AD/lab/EnergyPlus-OOEP/packages/energyplus/ooep/addons/rl/ray/env.py\", line 134, in step\n",
      "    self.act(action := self.get_action(episode, observation=observation))\n",
      "                       ^^^^^^^^^^^^^^^^^^^^^^^^^^^^^^^^^^^^^^^^^^^^^^^^^\n",
      "  File \"/home/user@AD/lab/EnergyPlus-OOEP/.venv/lib/python3.11/site-packages/ray/rllib/env/external_env.py\", line 139, in get_action\n",
      "    return episode.wait_for_action(observation)\n",
      "           ^^^^^^^^^^^^^^^^^^^^^^^^^^^^^^^^^^^^\n",
      "  File \"/home/user@AD/lab/EnergyPlus-OOEP/.venv/lib/python3.11/site-packages/ray/rllib/env/external_env.py\", line 297, in wait_for_action\n",
      "    return self.action_queue.get(True, timeout=300.0)\n",
      "           ^^^^^^^^^^^^^^^^^^^^^^^^^^^^^^^^^^^^^^^^^^\n",
      "  File \"/usr/lib/python3.11/queue.py\", line 179, in get\n",
      "    raise Empty\n",
      "_queue.Empty: \n",
      "Exception ignored on calling ctypes callback function: <function EventManager._core_callback_setters.<locals>.<dictcomp>.<lambda>.<locals>.<lambda> at 0x7ff9204cefc0>\n",
      "Traceback (most recent call last):\n",
      "  File \"/home/user@AD/lab/EnergyPlus-OOEP/packages/energyplus/ooep/components/events.py\", line 89, in <lambda>\n",
      "    state, lambda _: trigger(StateEvent(spec=spec))\n",
      "                     ^^^^^^^^^^^^^^^^^^^^^^^^^^^^^^\n",
      "  File \"/home/user@AD/lab/EnergyPlus-OOEP/packages/energyplus/ooep/components/events.py\", line 67, in trigger\n",
      "    self.trigger(*args, **kwargs)\n",
      "  File \"/home/user@AD/lab/EnergyPlus-OOEP/packages/energyplus/ooep/components/events.py\", line 142, in trigger\n",
      "    raise e\n",
      "  File \"/home/user@AD/lab/EnergyPlus-OOEP/packages/energyplus/ooep/components/events.py\", line 139, in trigger\n",
      "    try: super().trigger(event, *args, **kwargs)\n",
      "         ^^^^^^^^^^^^^^^^^^^^^^^^^^^^^^^^^^^^^^^\n",
      "  File \"/home/user@AD/lab/EnergyPlus-OOEP/packages/energyplus/ooep/utils/events.py\", line 43, in trigger\n",
      "    return self._handlers[event.ref](event, *args, **kwargs)\n",
      "           ^^^^^^^^^^^^^^^^^^^^^^^^^^^^^^^^^^^^^^^^^^^^^^^^^\n",
      "  File \"/home/user@AD/lab/EnergyPlus-OOEP/packages/energyplus/ooep/utils/containers.py\", line 26, in __call__\n",
      "    return _collections_.OrderedDict({\n",
      "                                     ^\n",
      "  File \"/home/user@AD/lab/EnergyPlus-OOEP/packages/energyplus/ooep/utils/containers.py\", line 27, in <dictcomp>\n",
      "    key: f.__call__(*args, **kwargs)\n",
      "         ^^^^^^^^^^^^^^^^^^^^^^^^^^^\n",
      "  File \"/home/user@AD/lab/EnergyPlus-OOEP/packages/energyplus/ooep/addons/rl/ray/env.py\", line 134, in step\n",
      "    self.act(action := self.get_action(episode, observation=observation))\n",
      "                       ^^^^^^^^^^^^^^^^^^^^^^^^^^^^^^^^^^^^^^^^^^^^^^^^^\n",
      "  File \"/home/user@AD/lab/EnergyPlus-OOEP/.venv/lib/python3.11/site-packages/ray/rllib/env/external_env.py\", line 139, in get_action\n",
      "    return episode.wait_for_action(observation)\n",
      "           ^^^^^^^^^^^^^^^^^^^^^^^^^^^^^^^^^^^^\n",
      "  File \"/home/user@AD/lab/EnergyPlus-OOEP/.venv/lib/python3.11/site-packages/ray/rllib/env/external_env.py\", line 297, in wait_for_action\n",
      "    return self.action_queue.get(True, timeout=300.0)\n",
      "           ^^^^^^^^^^^^^^^^^^^^^^^^^^^^^^^^^^^^^^^^^^\n",
      "  File \"/usr/lib/python3.11/queue.py\", line 179, in get\n",
      "    raise Empty\n",
      "_queue.Empty: \n",
      "Exception ignored on calling ctypes callback function: <function EventManager._core_callback_setters.<locals>.<dictcomp>.<lambda>.<locals>.<lambda> at 0x7ff9204cefc0>\n",
      "Traceback (most recent call last):\n",
      "  File \"/home/user@AD/lab/EnergyPlus-OOEP/packages/energyplus/ooep/components/events.py\", line 89, in <lambda>\n",
      "    state, lambda _: trigger(StateEvent(spec=spec))\n",
      "                     ^^^^^^^^^^^^^^^^^^^^^^^^^^^^^^\n",
      "  File \"/home/user@AD/lab/EnergyPlus-OOEP/packages/energyplus/ooep/components/events.py\", line 67, in trigger\n",
      "    self.trigger(*args, **kwargs)\n",
      "  File \"/home/user@AD/lab/EnergyPlus-OOEP/packages/energyplus/ooep/components/events.py\", line 142, in trigger\n",
      "    raise e\n",
      "  File \"/home/user@AD/lab/EnergyPlus-OOEP/packages/energyplus/ooep/components/events.py\", line 139, in trigger\n",
      "    try: super().trigger(event, *args, **kwargs)\n",
      "         ^^^^^^^^^^^^^^^^^^^^^^^^^^^^^^^^^^^^^^^\n",
      "  File \"/home/user@AD/lab/EnergyPlus-OOEP/packages/energyplus/ooep/utils/events.py\", line 43, in trigger\n",
      "    return self._handlers[event.ref](event, *args, **kwargs)\n",
      "           ^^^^^^^^^^^^^^^^^^^^^^^^^^^^^^^^^^^^^^^^^^^^^^^^^\n",
      "  File \"/home/user@AD/lab/EnergyPlus-OOEP/packages/energyplus/ooep/utils/containers.py\", line 26, in __call__\n",
      "    return _collections_.OrderedDict({\n",
      "                                     ^\n",
      "  File \"/home/user@AD/lab/EnergyPlus-OOEP/packages/energyplus/ooep/utils/containers.py\", line 27, in <dictcomp>\n",
      "    key: f.__call__(*args, **kwargs)\n",
      "         ^^^^^^^^^^^^^^^^^^^^^^^^^^^\n",
      "  File \"/home/user@AD/lab/EnergyPlus-OOEP/packages/energyplus/ooep/addons/rl/ray/env.py\", line 134, in step\n",
      "    self.act(action := self.get_action(episode, observation=observation))\n",
      "                       ^^^^^^^^^^^^^^^^^^^^^^^^^^^^^^^^^^^^^^^^^^^^^^^^^\n",
      "  File \"/home/user@AD/lab/EnergyPlus-OOEP/.venv/lib/python3.11/site-packages/ray/rllib/env/external_env.py\", line 139, in get_action\n",
      "    return episode.wait_for_action(observation)\n",
      "           ^^^^^^^^^^^^^^^^^^^^^^^^^^^^^^^^^^^^\n",
      "  File \"/home/user@AD/lab/EnergyPlus-OOEP/.venv/lib/python3.11/site-packages/ray/rllib/env/external_env.py\", line 297, in wait_for_action\n",
      "    return self.action_queue.get(True, timeout=300.0)\n",
      "           ^^^^^^^^^^^^^^^^^^^^^^^^^^^^^^^^^^^^^^^^^^\n",
      "  File \"/usr/lib/python3.11/queue.py\", line 179, in get\n",
      "    raise Empty\n",
      "_queue.Empty: \n",
      "Exception ignored on calling ctypes callback function: <function EventManager._core_callback_setters.<locals>.<dictcomp>.<lambda>.<locals>.<lambda> at 0x7ff9204cefc0>\n",
      "Traceback (most recent call last):\n",
      "  File \"/home/user@AD/lab/EnergyPlus-OOEP/packages/energyplus/ooep/components/events.py\", line 89, in <lambda>\n",
      "    state, lambda _: trigger(StateEvent(spec=spec))\n",
      "                     ^^^^^^^^^^^^^^^^^^^^^^^^^^^^^^\n",
      "  File \"/home/user@AD/lab/EnergyPlus-OOEP/packages/energyplus/ooep/components/events.py\", line 67, in trigger\n",
      "    self.trigger(*args, **kwargs)\n",
      "  File \"/home/user@AD/lab/EnergyPlus-OOEP/packages/energyplus/ooep/components/events.py\", line 142, in trigger\n",
      "    raise e\n",
      "  File \"/home/user@AD/lab/EnergyPlus-OOEP/packages/energyplus/ooep/components/events.py\", line 139, in trigger\n",
      "    try: super().trigger(event, *args, **kwargs)\n",
      "         ^^^^^^^^^^^^^^^^^^^^^^^^^^^^^^^^^^^^^^^\n",
      "  File \"/home/user@AD/lab/EnergyPlus-OOEP/packages/energyplus/ooep/utils/events.py\", line 43, in trigger\n",
      "    return self._handlers[event.ref](event, *args, **kwargs)\n",
      "           ^^^^^^^^^^^^^^^^^^^^^^^^^^^^^^^^^^^^^^^^^^^^^^^^^\n",
      "  File \"/home/user@AD/lab/EnergyPlus-OOEP/packages/energyplus/ooep/utils/containers.py\", line 26, in __call__\n",
      "    return _collections_.OrderedDict({\n",
      "                                     ^\n",
      "  File \"/home/user@AD/lab/EnergyPlus-OOEP/packages/energyplus/ooep/utils/containers.py\", line 27, in <dictcomp>\n",
      "    key: f.__call__(*args, **kwargs)\n",
      "         ^^^^^^^^^^^^^^^^^^^^^^^^^^^\n",
      "  File \"/home/user@AD/lab/EnergyPlus-OOEP/packages/energyplus/ooep/addons/rl/ray/env.py\", line 134, in step\n",
      "    self.act(action := self.get_action(episode, observation=observation))\n",
      "                       ^^^^^^^^^^^^^^^^^^^^^^^^^^^^^^^^^^^^^^^^^^^^^^^^^\n",
      "  File \"/home/user@AD/lab/EnergyPlus-OOEP/.venv/lib/python3.11/site-packages/ray/rllib/env/external_env.py\", line 139, in get_action\n",
      "    return episode.wait_for_action(observation)\n",
      "           ^^^^^^^^^^^^^^^^^^^^^^^^^^^^^^^^^^^^\n",
      "  File \"/home/user@AD/lab/EnergyPlus-OOEP/.venv/lib/python3.11/site-packages/ray/rllib/env/external_env.py\", line 297, in wait_for_action\n",
      "    return self.action_queue.get(True, timeout=300.0)\n",
      "           ^^^^^^^^^^^^^^^^^^^^^^^^^^^^^^^^^^^^^^^^^^\n",
      "  File \"/usr/lib/python3.11/queue.py\", line 179, in get\n",
      "    raise Empty\n",
      "_queue.Empty: \n",
      "Exception ignored on calling ctypes callback function: <function EventManager._core_callback_setters.<locals>.<dictcomp>.<lambda>.<locals>.<lambda> at 0x7ff9204cefc0>\n",
      "Traceback (most recent call last):\n",
      "  File \"/home/user@AD/lab/EnergyPlus-OOEP/packages/energyplus/ooep/components/events.py\", line 89, in <lambda>\n",
      "    state, lambda _: trigger(StateEvent(spec=spec))\n",
      "                     ^^^^^^^^^^^^^^^^^^^^^^^^^^^^^^\n",
      "  File \"/home/user@AD/lab/EnergyPlus-OOEP/packages/energyplus/ooep/components/events.py\", line 67, in trigger\n",
      "    self.trigger(*args, **kwargs)\n",
      "  File \"/home/user@AD/lab/EnergyPlus-OOEP/packages/energyplus/ooep/components/events.py\", line 142, in trigger\n",
      "    raise e\n",
      "  File \"/home/user@AD/lab/EnergyPlus-OOEP/packages/energyplus/ooep/components/events.py\", line 139, in trigger\n",
      "    try: super().trigger(event, *args, **kwargs)\n",
      "         ^^^^^^^^^^^^^^^^^^^^^^^^^^^^^^^^^^^^^^^\n",
      "  File \"/home/user@AD/lab/EnergyPlus-OOEP/packages/energyplus/ooep/utils/events.py\", line 43, in trigger\n",
      "    return self._handlers[event.ref](event, *args, **kwargs)\n",
      "           ^^^^^^^^^^^^^^^^^^^^^^^^^^^^^^^^^^^^^^^^^^^^^^^^^\n",
      "  File \"/home/user@AD/lab/EnergyPlus-OOEP/packages/energyplus/ooep/utils/containers.py\", line 26, in __call__\n",
      "    return _collections_.OrderedDict({\n",
      "                                     ^\n",
      "  File \"/home/user@AD/lab/EnergyPlus-OOEP/packages/energyplus/ooep/utils/containers.py\", line 27, in <dictcomp>\n",
      "    key: f.__call__(*args, **kwargs)\n",
      "         ^^^^^^^^^^^^^^^^^^^^^^^^^^^\n",
      "  File \"/home/user@AD/lab/EnergyPlus-OOEP/packages/energyplus/ooep/addons/rl/ray/env.py\", line 134, in step\n",
      "    self.act(action := self.get_action(episode, observation=observation))\n",
      "                       ^^^^^^^^^^^^^^^^^^^^^^^^^^^^^^^^^^^^^^^^^^^^^^^^^\n",
      "  File \"/home/user@AD/lab/EnergyPlus-OOEP/.venv/lib/python3.11/site-packages/ray/rllib/env/external_env.py\", line 139, in get_action\n",
      "    return episode.wait_for_action(observation)\n",
      "           ^^^^^^^^^^^^^^^^^^^^^^^^^^^^^^^^^^^^\n",
      "  File \"/home/user@AD/lab/EnergyPlus-OOEP/.venv/lib/python3.11/site-packages/ray/rllib/env/external_env.py\", line 297, in wait_for_action\n",
      "    return self.action_queue.get(True, timeout=300.0)\n",
      "           ^^^^^^^^^^^^^^^^^^^^^^^^^^^^^^^^^^^^^^^^^^\n",
      "  File \"/usr/lib/python3.11/queue.py\", line 179, in get\n",
      "    raise Empty\n",
      "_queue.Empty: \n",
      "Exception ignored on calling ctypes callback function: <function EventManager._core_callback_setters.<locals>.<dictcomp>.<lambda>.<locals>.<lambda> at 0x7ff9204cefc0>\n",
      "Traceback (most recent call last):\n",
      "  File \"/home/user@AD/lab/EnergyPlus-OOEP/packages/energyplus/ooep/components/events.py\", line 89, in <lambda>\n",
      "    state, lambda _: trigger(StateEvent(spec=spec))\n",
      "                     ^^^^^^^^^^^^^^^^^^^^^^^^^^^^^^\n",
      "  File \"/home/user@AD/lab/EnergyPlus-OOEP/packages/energyplus/ooep/components/events.py\", line 67, in trigger\n",
      "    self.trigger(*args, **kwargs)\n",
      "  File \"/home/user@AD/lab/EnergyPlus-OOEP/packages/energyplus/ooep/components/events.py\", line 142, in trigger\n",
      "    raise e\n",
      "  File \"/home/user@AD/lab/EnergyPlus-OOEP/packages/energyplus/ooep/components/events.py\", line 139, in trigger\n",
      "    try: super().trigger(event, *args, **kwargs)\n",
      "         ^^^^^^^^^^^^^^^^^^^^^^^^^^^^^^^^^^^^^^^\n",
      "  File \"/home/user@AD/lab/EnergyPlus-OOEP/packages/energyplus/ooep/utils/events.py\", line 43, in trigger\n",
      "    return self._handlers[event.ref](event, *args, **kwargs)\n",
      "           ^^^^^^^^^^^^^^^^^^^^^^^^^^^^^^^^^^^^^^^^^^^^^^^^^\n",
      "  File \"/home/user@AD/lab/EnergyPlus-OOEP/packages/energyplus/ooep/utils/containers.py\", line 26, in __call__\n",
      "    return _collections_.OrderedDict({\n",
      "                                     ^\n",
      "  File \"/home/user@AD/lab/EnergyPlus-OOEP/packages/energyplus/ooep/utils/containers.py\", line 27, in <dictcomp>\n",
      "    key: f.__call__(*args, **kwargs)\n",
      "         ^^^^^^^^^^^^^^^^^^^^^^^^^^^\n",
      "  File \"/home/user@AD/lab/EnergyPlus-OOEP/packages/energyplus/ooep/addons/rl/ray/env.py\", line 134, in step\n",
      "    self.act(action := self.get_action(episode, observation=observation))\n",
      "                       ^^^^^^^^^^^^^^^^^^^^^^^^^^^^^^^^^^^^^^^^^^^^^^^^^\n",
      "  File \"/home/user@AD/lab/EnergyPlus-OOEP/.venv/lib/python3.11/site-packages/ray/rllib/env/external_env.py\", line 139, in get_action\n",
      "    return episode.wait_for_action(observation)\n",
      "           ^^^^^^^^^^^^^^^^^^^^^^^^^^^^^^^^^^^^\n",
      "  File \"/home/user@AD/lab/EnergyPlus-OOEP/.venv/lib/python3.11/site-packages/ray/rllib/env/external_env.py\", line 297, in wait_for_action\n",
      "    return self.action_queue.get(True, timeout=300.0)\n",
      "           ^^^^^^^^^^^^^^^^^^^^^^^^^^^^^^^^^^^^^^^^^^\n",
      "  File \"/usr/lib/python3.11/queue.py\", line 179, in get\n",
      "    raise Empty\n",
      "_queue.Empty: \n",
      "Exception ignored on calling ctypes callback function: <function EventManager._core_callback_setters.<locals>.<dictcomp>.<lambda>.<locals>.<lambda> at 0x7ff9204cefc0>\n",
      "Traceback (most recent call last):\n",
      "  File \"/home/user@AD/lab/EnergyPlus-OOEP/packages/energyplus/ooep/components/events.py\", line 89, in <lambda>\n",
      "    state, lambda _: trigger(StateEvent(spec=spec))\n",
      "                     ^^^^^^^^^^^^^^^^^^^^^^^^^^^^^^\n",
      "  File \"/home/user@AD/lab/EnergyPlus-OOEP/packages/energyplus/ooep/components/events.py\", line 67, in trigger\n",
      "    self.trigger(*args, **kwargs)\n",
      "  File \"/home/user@AD/lab/EnergyPlus-OOEP/packages/energyplus/ooep/components/events.py\", line 142, in trigger\n",
      "    raise e\n",
      "  File \"/home/user@AD/lab/EnergyPlus-OOEP/packages/energyplus/ooep/components/events.py\", line 139, in trigger\n",
      "    try: super().trigger(event, *args, **kwargs)\n",
      "         ^^^^^^^^^^^^^^^^^^^^^^^^^^^^^^^^^^^^^^^\n",
      "  File \"/home/user@AD/lab/EnergyPlus-OOEP/packages/energyplus/ooep/utils/events.py\", line 43, in trigger\n",
      "    return self._handlers[event.ref](event, *args, **kwargs)\n",
      "           ^^^^^^^^^^^^^^^^^^^^^^^^^^^^^^^^^^^^^^^^^^^^^^^^^\n",
      "  File \"/home/user@AD/lab/EnergyPlus-OOEP/packages/energyplus/ooep/utils/containers.py\", line 26, in __call__\n",
      "    return _collections_.OrderedDict({\n",
      "                                     ^\n",
      "  File \"/home/user@AD/lab/EnergyPlus-OOEP/packages/energyplus/ooep/utils/containers.py\", line 27, in <dictcomp>\n",
      "    key: f.__call__(*args, **kwargs)\n",
      "         ^^^^^^^^^^^^^^^^^^^^^^^^^^^\n",
      "  File \"/home/user@AD/lab/EnergyPlus-OOEP/packages/energyplus/ooep/addons/rl/ray/env.py\", line 134, in step\n",
      "    self.act(action := self.get_action(episode, observation=observation))\n",
      "                       ^^^^^^^^^^^^^^^^^^^^^^^^^^^^^^^^^^^^^^^^^^^^^^^^^\n",
      "  File \"/home/user@AD/lab/EnergyPlus-OOEP/.venv/lib/python3.11/site-packages/ray/rllib/env/external_env.py\", line 139, in get_action\n",
      "    return episode.wait_for_action(observation)\n",
      "           ^^^^^^^^^^^^^^^^^^^^^^^^^^^^^^^^^^^^\n",
      "  File \"/home/user@AD/lab/EnergyPlus-OOEP/.venv/lib/python3.11/site-packages/ray/rllib/env/external_env.py\", line 297, in wait_for_action\n",
      "    return self.action_queue.get(True, timeout=300.0)\n",
      "           ^^^^^^^^^^^^^^^^^^^^^^^^^^^^^^^^^^^^^^^^^^\n",
      "  File \"/usr/lib/python3.11/queue.py\", line 179, in get\n",
      "    raise Empty\n",
      "_queue.Empty: \n",
      "Exception ignored on calling ctypes callback function: <function EventManager._core_callback_setters.<locals>.<dictcomp>.<lambda>.<locals>.<lambda> at 0x7ff9204cefc0>\n",
      "Traceback (most recent call last):\n",
      "  File \"/home/user@AD/lab/EnergyPlus-OOEP/packages/energyplus/ooep/components/events.py\", line 89, in <lambda>\n",
      "    state, lambda _: trigger(StateEvent(spec=spec))\n",
      "                     ^^^^^^^^^^^^^^^^^^^^^^^^^^^^^^\n",
      "  File \"/home/user@AD/lab/EnergyPlus-OOEP/packages/energyplus/ooep/components/events.py\", line 67, in trigger\n",
      "    self.trigger(*args, **kwargs)\n",
      "  File \"/home/user@AD/lab/EnergyPlus-OOEP/packages/energyplus/ooep/components/events.py\", line 142, in trigger\n",
      "    raise e\n",
      "  File \"/home/user@AD/lab/EnergyPlus-OOEP/packages/energyplus/ooep/components/events.py\", line 139, in trigger\n",
      "    try: super().trigger(event, *args, **kwargs)\n",
      "         ^^^^^^^^^^^^^^^^^^^^^^^^^^^^^^^^^^^^^^^\n",
      "  File \"/home/user@AD/lab/EnergyPlus-OOEP/packages/energyplus/ooep/utils/events.py\", line 43, in trigger\n",
      "    return self._handlers[event.ref](event, *args, **kwargs)\n",
      "           ^^^^^^^^^^^^^^^^^^^^^^^^^^^^^^^^^^^^^^^^^^^^^^^^^\n",
      "  File \"/home/user@AD/lab/EnergyPlus-OOEP/packages/energyplus/ooep/utils/containers.py\", line 26, in __call__\n",
      "    return _collections_.OrderedDict({\n",
      "                                     ^\n",
      "  File \"/home/user@AD/lab/EnergyPlus-OOEP/packages/energyplus/ooep/utils/containers.py\", line 27, in <dictcomp>\n",
      "    key: f.__call__(*args, **kwargs)\n",
      "         ^^^^^^^^^^^^^^^^^^^^^^^^^^^\n",
      "  File \"/home/user@AD/lab/EnergyPlus-OOEP/packages/energyplus/ooep/addons/rl/ray/env.py\", line 134, in step\n",
      "    self.act(action := self.get_action(episode, observation=observation))\n",
      "                       ^^^^^^^^^^^^^^^^^^^^^^^^^^^^^^^^^^^^^^^^^^^^^^^^^\n",
      "  File \"/home/user@AD/lab/EnergyPlus-OOEP/.venv/lib/python3.11/site-packages/ray/rllib/env/external_env.py\", line 139, in get_action\n",
      "    return episode.wait_for_action(observation)\n",
      "           ^^^^^^^^^^^^^^^^^^^^^^^^^^^^^^^^^^^^\n",
      "  File \"/home/user@AD/lab/EnergyPlus-OOEP/.venv/lib/python3.11/site-packages/ray/rllib/env/external_env.py\", line 297, in wait_for_action\n",
      "    return self.action_queue.get(True, timeout=300.0)\n",
      "           ^^^^^^^^^^^^^^^^^^^^^^^^^^^^^^^^^^^^^^^^^^\n",
      "  File \"/usr/lib/python3.11/queue.py\", line 179, in get\n",
      "    raise Empty\n",
      "_queue.Empty: \n",
      "Exception ignored on calling ctypes callback function: <function EventManager._core_callback_setters.<locals>.<dictcomp>.<lambda>.<locals>.<lambda> at 0x7ff9204cefc0>\n",
      "Traceback (most recent call last):\n",
      "  File \"/home/user@AD/lab/EnergyPlus-OOEP/packages/energyplus/ooep/components/events.py\", line 89, in <lambda>\n",
      "    state, lambda _: trigger(StateEvent(spec=spec))\n",
      "                     ^^^^^^^^^^^^^^^^^^^^^^^^^^^^^^\n",
      "  File \"/home/user@AD/lab/EnergyPlus-OOEP/packages/energyplus/ooep/components/events.py\", line 67, in trigger\n",
      "    self.trigger(*args, **kwargs)\n",
      "  File \"/home/user@AD/lab/EnergyPlus-OOEP/packages/energyplus/ooep/components/events.py\", line 142, in trigger\n",
      "    raise e\n",
      "  File \"/home/user@AD/lab/EnergyPlus-OOEP/packages/energyplus/ooep/components/events.py\", line 139, in trigger\n",
      "    try: super().trigger(event, *args, **kwargs)\n",
      "         ^^^^^^^^^^^^^^^^^^^^^^^^^^^^^^^^^^^^^^^\n",
      "  File \"/home/user@AD/lab/EnergyPlus-OOEP/packages/energyplus/ooep/utils/events.py\", line 43, in trigger\n",
      "    return self._handlers[event.ref](event, *args, **kwargs)\n",
      "           ^^^^^^^^^^^^^^^^^^^^^^^^^^^^^^^^^^^^^^^^^^^^^^^^^\n",
      "  File \"/home/user@AD/lab/EnergyPlus-OOEP/packages/energyplus/ooep/utils/containers.py\", line 26, in __call__\n",
      "    return _collections_.OrderedDict({\n",
      "                                     ^\n",
      "  File \"/home/user@AD/lab/EnergyPlus-OOEP/packages/energyplus/ooep/utils/containers.py\", line 27, in <dictcomp>\n",
      "    key: f.__call__(*args, **kwargs)\n",
      "         ^^^^^^^^^^^^^^^^^^^^^^^^^^^\n",
      "  File \"/home/user@AD/lab/EnergyPlus-OOEP/packages/energyplus/ooep/addons/rl/ray/env.py\", line 134, in step\n",
      "    self.act(action := self.get_action(episode, observation=observation))\n",
      "                       ^^^^^^^^^^^^^^^^^^^^^^^^^^^^^^^^^^^^^^^^^^^^^^^^^\n",
      "  File \"/home/user@AD/lab/EnergyPlus-OOEP/.venv/lib/python3.11/site-packages/ray/rllib/env/external_env.py\", line 139, in get_action\n",
      "    return episode.wait_for_action(observation)\n",
      "           ^^^^^^^^^^^^^^^^^^^^^^^^^^^^^^^^^^^^\n",
      "  File \"/home/user@AD/lab/EnergyPlus-OOEP/.venv/lib/python3.11/site-packages/ray/rllib/env/external_env.py\", line 297, in wait_for_action\n",
      "    return self.action_queue.get(True, timeout=300.0)\n",
      "           ^^^^^^^^^^^^^^^^^^^^^^^^^^^^^^^^^^^^^^^^^^\n",
      "  File \"/usr/lib/python3.11/queue.py\", line 179, in get\n",
      "    raise Empty\n",
      "_queue.Empty: \n",
      "Exception ignored on calling ctypes callback function: <function EventManager._core_callback_setters.<locals>.<dictcomp>.<lambda>.<locals>.<lambda> at 0x7ff9204cefc0>\n",
      "Traceback (most recent call last):\n",
      "  File \"/home/user@AD/lab/EnergyPlus-OOEP/packages/energyplus/ooep/components/events.py\", line 89, in <lambda>\n",
      "    state, lambda _: trigger(StateEvent(spec=spec))\n",
      "                     ^^^^^^^^^^^^^^^^^^^^^^^^^^^^^^\n",
      "  File \"/home/user@AD/lab/EnergyPlus-OOEP/packages/energyplus/ooep/components/events.py\", line 67, in trigger\n",
      "    self.trigger(*args, **kwargs)\n",
      "  File \"/home/user@AD/lab/EnergyPlus-OOEP/packages/energyplus/ooep/components/events.py\", line 142, in trigger\n",
      "    raise e\n",
      "  File \"/home/user@AD/lab/EnergyPlus-OOEP/packages/energyplus/ooep/components/events.py\", line 139, in trigger\n",
      "    try: super().trigger(event, *args, **kwargs)\n",
      "         ^^^^^^^^^^^^^^^^^^^^^^^^^^^^^^^^^^^^^^^\n",
      "  File \"/home/user@AD/lab/EnergyPlus-OOEP/packages/energyplus/ooep/utils/events.py\", line 43, in trigger\n",
      "    return self._handlers[event.ref](event, *args, **kwargs)\n",
      "           ^^^^^^^^^^^^^^^^^^^^^^^^^^^^^^^^^^^^^^^^^^^^^^^^^\n",
      "  File \"/home/user@AD/lab/EnergyPlus-OOEP/packages/energyplus/ooep/utils/containers.py\", line 26, in __call__\n",
      "    return _collections_.OrderedDict({\n",
      "                                     ^\n",
      "  File \"/home/user@AD/lab/EnergyPlus-OOEP/packages/energyplus/ooep/utils/containers.py\", line 27, in <dictcomp>\n",
      "    key: f.__call__(*args, **kwargs)\n",
      "         ^^^^^^^^^^^^^^^^^^^^^^^^^^^\n",
      "  File \"/home/user@AD/lab/EnergyPlus-OOEP/packages/energyplus/ooep/addons/rl/ray/env.py\", line 134, in step\n",
      "    self.act(action := self.get_action(episode, observation=observation))\n",
      "                       ^^^^^^^^^^^^^^^^^^^^^^^^^^^^^^^^^^^^^^^^^^^^^^^^^\n",
      "  File \"/home/user@AD/lab/EnergyPlus-OOEP/.venv/lib/python3.11/site-packages/ray/rllib/env/external_env.py\", line 139, in get_action\n",
      "    return episode.wait_for_action(observation)\n",
      "           ^^^^^^^^^^^^^^^^^^^^^^^^^^^^^^^^^^^^\n",
      "  File \"/home/user@AD/lab/EnergyPlus-OOEP/.venv/lib/python3.11/site-packages/ray/rllib/env/external_env.py\", line 297, in wait_for_action\n",
      "    return self.action_queue.get(True, timeout=300.0)\n",
      "           ^^^^^^^^^^^^^^^^^^^^^^^^^^^^^^^^^^^^^^^^^^\n",
      "  File \"/usr/lib/python3.11/queue.py\", line 179, in get\n",
      "    raise Empty\n",
      "_queue.Empty: \n"
     ]
    }
   ],
   "source": [
    "simulator.awaitable.run()"
   ]
  },
  {
   "cell_type": "code",
   "execution_count": 7,
   "metadata": {
    "editable": true,
    "scrolled": true,
    "slideshow": {
     "slide_type": "subslide"
    },
    "tags": []
   },
   "outputs": [
    {
     "name": "stderr",
     "output_type": "stream",
     "text": [
      "2024-05-25 00:59:09,932\tWARNING deprecation.py:50 -- DeprecationWarning: `ray.rllib.execution.train_ops.multi_gpu_train_one_step` has been deprecated. This will raise an error in the future!\n"
     ]
    },
    {
     "name": "stdout",
     "output_type": "stream",
     "text": [
      "{'custom_metrics': {}, 'episode_media': {}, 'info': {'learner': {'default_policy': {'custom_metrics': {}, 'learner_stats': {'cur_kl_coeff': 0.20000000000000004, 'cur_lr': 0.00010000000000000003, 'total_loss': 9.937246103184197, 'policy_loss': -0.0637053886047935, 'vf_loss': 10.0, 'vf_explained_var': 0.7400906451286808, 'kl': 0.004757339720402743, 'entropy': 1.4149406410032703, 'entropy_coeff': 0.0}, 'model': {}, 'num_grad_updates_lifetime': 465.5, 'diff_num_grad_updates_vs_sampler_policy': 464.5}}, 'num_env_steps_sampled': 4000, 'num_env_steps_trained': 4000, 'num_agent_steps_sampled': 4000, 'num_agent_steps_trained': 4000}, 'sampler_results': {'episode_reward_max': nan, 'episode_reward_min': nan, 'episode_reward_mean': nan, 'episode_len_mean': nan, 'episode_media': {}, 'episodes_this_iter': 0, 'policy_reward_min': {}, 'policy_reward_max': {}, 'policy_reward_mean': {}, 'custom_metrics': {}, 'hist_stats': {'episode_reward': [], 'episode_lengths': []}, 'sampler_perf': {}, 'num_faulty_episodes': 0, 'connector_metrics': {}}, 'episode_reward_max': nan, 'episode_reward_min': nan, 'episode_reward_mean': nan, 'episode_len_mean': nan, 'episodes_this_iter': 0, 'policy_reward_min': {}, 'policy_reward_max': {}, 'policy_reward_mean': {}, 'hist_stats': {'episode_reward': [], 'episode_lengths': []}, 'sampler_perf': {}, 'num_faulty_episodes': 0, 'connector_metrics': {}, 'num_healthy_workers': 0, 'num_in_flight_async_reqs': 0, 'num_remote_worker_restarts': 0, 'num_agent_steps_sampled': 4000, 'num_agent_steps_trained': 4000, 'num_env_steps_sampled': 4000, 'num_env_steps_trained': 4000, 'num_env_steps_sampled_this_iter': 4000, 'num_env_steps_trained_this_iter': 4000, 'num_env_steps_sampled_throughput_per_sec': 253.6622823738462, 'num_env_steps_trained_throughput_per_sec': 253.6622823738462, 'timesteps_total': 4000, 'num_steps_trained_this_iter': 4000, 'agent_timesteps_total': 4000, 'timers': {'training_iteration_time_ms': 15768.976, 'sample_time_ms': 11761.675, 'load_time_ms': 0.638, 'load_throughput': 6267170.713, 'learn_time_ms': 4005.783, 'learn_throughput': 998.556, 'synch_weights_time_ms': 0.003}, 'counters': {'num_env_steps_sampled': 4000, 'num_env_steps_trained': 4000, 'num_agent_steps_sampled': 4000, 'num_agent_steps_trained': 4000}, 'done': False, 'episodes_total': 0, 'training_iteration': 1, 'trial_id': 'default', 'date': '2024-05-25_00-59-13', 'timestamp': 1716623953, 'time_this_iter_s': 15.769087314605713, 'time_total_s': 15.769087314605713, 'pid': 120432, 'hostname': 'hvaclab-srv.ad.hvaiclab.internal', 'node_ip': '192.168.200.111', 'config': {'extra_python_environs_for_driver': {}, 'extra_python_environs_for_worker': {}, 'num_gpus': 1, 'num_cpus_per_worker': 1, 'num_gpus_per_worker': 0, '_fake_gpus': False, 'num_learner_workers': 0, 'num_gpus_per_learner_worker': 0, 'num_cpus_per_learner_worker': 1, 'local_gpu_idx': 0, 'custom_resources_per_worker': {}, 'placement_strategy': 'PACK', 'eager_tracing': True, 'eager_max_retraces': 20, 'tf_session_args': {'intra_op_parallelism_threads': 2, 'inter_op_parallelism_threads': 2, 'gpu_options': {'allow_growth': True}, 'log_device_placement': False, 'device_count': {'CPU': 1}, 'allow_soft_placement': True}, 'local_tf_session_args': {'intra_op_parallelism_threads': 8, 'inter_op_parallelism_threads': 8}, 'torch_compile_learner': False, 'torch_compile_learner_what_to_compile': <TorchCompileWhatToCompile.FORWARD_TRAIN: 'forward_train'>, 'torch_compile_learner_dynamo_backend': 'inductor', 'torch_compile_learner_dynamo_mode': None, 'torch_compile_worker': False, 'torch_compile_worker_dynamo_backend': 'onnxrt', 'torch_compile_worker_dynamo_mode': None, 'env': <class 'energyplus.ooep.addons.rl.ray.env.SimulatorEnv'>, 'env_config': {'action_space': Dict('thermostat': Box(15.0, 20.0, (), float32)), 'observation_space': Dict('temperature': Box(-inf, inf, (), float32)), 'reward_function': <function <lambda> at 0x7ffa585c42c0>, 'event_refs': ['begin_zone_timestep_after_init_heat_balance'], 'simulator_factory': <function <lambda> at 0x7ffa585d6b60>}, 'observation_space': None, 'action_space': None, 'env_task_fn': None, 'render_env': False, 'clip_rewards': None, 'normalize_actions': True, 'clip_actions': False, 'disable_env_checking': False, 'auto_wrap_old_gym_envs': True, 'action_mask_key': 'action_mask', '_is_atari': None, 'env_runner_cls': None, 'num_envs_per_worker': 1, 'enable_connectors': False, '_env_to_module_connector': None, '_module_to_env_connector': None, 'add_default_connectors_to_env_to_module_pipeline': True, 'add_default_connectors_to_module_to_env_pipeline': True, 'episode_lookback_horizon': 1, 'rollout_fragment_length': 'auto', 'batch_mode': 'truncate_episodes', 'validate_workers_after_construction': True, 'compress_observations': False, 'sampler_perf_stats_ema_coef': None, 'sample_async': -1, 'remote_worker_envs': False, 'remote_env_batch_wait_ms': 0, 'enable_tf1_exec_eagerly': False, 'sample_collector': <class 'ray.rllib.evaluation.collectors.simple_list_collector.SimpleListCollector'>, 'preprocessor_pref': 'deepmind', 'observation_filter': 'NoFilter', 'update_worker_filter_stats': True, 'use_worker_filter_stats': True, 'gamma': 0.99, 'lr': 0.0001, 'grad_clip': None, 'grad_clip_by': 'global_norm', 'train_batch_size': 4000, 'train_batch_size_per_learner': None, 'model': {'_disable_preprocessor_api': False, '_disable_action_flattening': False, 'fcnet_hiddens': [64, 64], 'fcnet_activation': 'tanh', 'fcnet_weights_initializer': None, 'fcnet_weights_initializer_config': None, 'fcnet_bias_initializer': None, 'fcnet_bias_initializer_config': None, 'conv_filters': None, 'conv_activation': 'relu', 'conv_kernel_initializer': None, 'conv_kernel_initializer_config': None, 'conv_bias_initializer': None, 'conv_bias_initializer_config': None, 'conv_transpose_kernel_initializer': None, 'conv_transpose_kernel_initializer_config': None, 'conv_transpose_bias_initializer': None, 'conv_transpose_bias_initializer_config': None, 'post_fcnet_hiddens': [], 'post_fcnet_activation': 'relu', 'post_fcnet_weights_initializer': None, 'post_fcnet_weights_initializer_config': None, 'post_fcnet_bias_initializer': None, 'post_fcnet_bias_initializer_config': None, 'free_log_std': False, 'no_final_linear': False, 'vf_share_layers': False, 'use_lstm': False, 'max_seq_len': 20, 'lstm_cell_size': 256, 'lstm_use_prev_action': False, 'lstm_use_prev_reward': False, 'lstm_weights_initializer': None, 'lstm_weights_initializer_config': None, 'lstm_bias_initializer': None, 'lstm_bias_initializer_config': None, '_time_major': False, 'use_attention': False, 'attention_num_transformer_units': 1, 'attention_dim': 64, 'attention_num_heads': 1, 'attention_head_dim': 32, 'attention_memory_inference': 50, 'attention_memory_training': 50, 'attention_position_wise_mlp_dim': 32, 'attention_init_gru_gate_bias': 2.0, 'attention_use_n_prev_actions': 0, 'attention_use_n_prev_rewards': 0, 'framestack': True, 'dim': 84, 'grayscale': False, 'zero_mean': True, 'custom_model': None, 'custom_model_config': {}, 'custom_action_dist': None, 'custom_preprocessor': None, 'encoder_latent_dim': None, 'always_check_shapes': False, 'lstm_use_prev_action_reward': -1, '_use_default_native_models': -1}, '_learner_connector': None, 'add_default_connectors_to_learner_pipeline': True, 'optimizer': {}, 'max_requests_in_flight_per_sampler_worker': 2, '_learner_class': None, 'explore': True, 'exploration_config': {'type': 'StochasticSampling'}, 'algorithm_config_overrides_per_module': {}, '_per_module_overrides': {}, 'count_steps_by': 'env_steps', 'policy_map_capacity': 100, 'policy_mapping_fn': <function AlgorithmConfig.DEFAULT_POLICY_MAPPING_FN at 0x7ff931a514e0>, 'policies_to_train': None, 'policy_states_are_swappable': False, 'observation_fn': None, 'input_config': {}, 'actions_in_input_normalized': False, 'postprocess_inputs': False, 'shuffle_buffer_size': 0, 'output': None, 'output_config': {}, 'output_compress_columns': ['obs', 'new_obs'], 'output_max_file_size': 67108864, 'offline_sampling': False, 'evaluation_interval': None, 'evaluation_duration': 10, 'evaluation_duration_unit': 'episodes', 'evaluation_sample_timeout_s': 180.0, 'evaluation_parallel_to_training': False, 'evaluation_config': None, 'off_policy_estimation_methods': {}, 'ope_split_batch_by_episode': True, 'evaluation_num_workers': 0, 'custom_async_evaluation_function': None, 'always_attach_evaluation_results': False, 'enable_async_evaluation': False, 'in_evaluation': False, 'sync_filters_on_rollout_workers_timeout_s': 60.0, 'keep_per_episode_custom_metrics': False, 'metrics_episode_collection_timeout_s': 60.0, 'metrics_num_episodes_for_smoothing': 100, 'min_time_s_per_iteration': None, 'min_train_timesteps_per_iteration': 0, 'min_sample_timesteps_per_iteration': 0, 'export_native_model_files': False, 'checkpoint_trainable_policies_only': False, 'logger_creator': None, 'logger_config': None, 'log_level': 'WARN', 'log_sys_usage': True, 'fake_sampler': False, 'seed': None, 'ignore_worker_failures': False, 'recreate_failed_workers': False, 'max_num_worker_restarts': 1000, 'delay_between_worker_restarts_s': 60.0, 'restart_failed_sub_environments': False, 'num_consecutive_worker_failures_tolerance': 100, 'worker_health_probe_timeout_s': 60, 'worker_restore_timeout_s': 1800, '_rl_module_spec': None, '_AlgorithmConfig__prior_exploration_config': None, '_enable_new_api_stack': False, '_tf_policy_handles_more_than_one_loss': False, '_disable_preprocessor_api': False, '_disable_action_flattening': False, '_disable_initialize_loss_from_dummy_batch': False, 'simple_optimizer': False, 'policy_map_cache': -1, 'worker_cls': -1, 'synchronize_filters': -1, 'replay_sequence_length': None, '_disable_execution_plan_api': -1, 'lr_schedule': None, 'use_critic': True, 'use_gae': True, 'use_kl_loss': True, 'kl_coeff': 0.2, 'kl_target': 0.01, 'sgd_minibatch_size': 128, 'mini_batch_size_per_learner': None, 'num_sgd_iter': 30, 'shuffle_sequences': True, 'vf_loss_coeff': 1.0, 'entropy_coeff': 0.0, 'entropy_coeff_schedule': None, 'clip_param': 0.3, 'vf_clip_param': 10.0, 'vf_share_layers': -1, 'lambda': 1.0, 'input': 'sampler', 'policies': {'default_policy': (None, None, None, None)}, 'callbacks': <class 'ray.rllib.algorithms.callbacks.DefaultCallbacks'>, 'create_env_on_driver': True, 'custom_eval_function': None, 'framework': 'torch', 'num_cpus_for_driver': 1, 'num_workers': 0}, 'time_since_restore': 15.769087314605713, 'iterations_since_restore': 1, 'perf': {'cpu_util_percent': 8.839130434782607, 'ram_util_percent': 29.48695652173914}}\n",
      "{'custom_metrics': {}, 'episode_media': {}, 'info': {'learner': {'default_policy': {'custom_metrics': {}, 'learner_stats': {'cur_kl_coeff': 0.10000000000000002, 'cur_lr': 0.00010000000000000003, 'total_loss': 9.938433630748461, 'policy_loss': -0.06157620064113089, 'vf_loss': 10.0, 'vf_explained_var': 0.7428942149685275, 'kl': 9.811966573902135e-05, 'entropy': 1.408596153797642, 'entropy_coeff': 0.0}, 'model': {}, 'num_grad_updates_lifetime': 1395.5, 'diff_num_grad_updates_vs_sampler_policy': 464.5}}, 'num_env_steps_sampled': 8000, 'num_env_steps_trained': 8000, 'num_agent_steps_sampled': 8000, 'num_agent_steps_trained': 8000}, 'sampler_results': {'episode_reward_max': nan, 'episode_reward_min': nan, 'episode_reward_mean': nan, 'episode_len_mean': nan, 'episode_media': {}, 'episodes_this_iter': 0, 'policy_reward_min': {}, 'policy_reward_max': {}, 'policy_reward_mean': {}, 'custom_metrics': {}, 'hist_stats': {'episode_reward': [], 'episode_lengths': []}, 'sampler_perf': {}, 'num_faulty_episodes': 0, 'connector_metrics': {}}, 'episode_reward_max': nan, 'episode_reward_min': nan, 'episode_reward_mean': nan, 'episode_len_mean': nan, 'episodes_this_iter': 0, 'policy_reward_min': {}, 'policy_reward_max': {}, 'policy_reward_mean': {}, 'hist_stats': {'episode_reward': [], 'episode_lengths': []}, 'sampler_perf': {}, 'num_faulty_episodes': 0, 'connector_metrics': {}, 'num_healthy_workers': 0, 'num_in_flight_async_reqs': 0, 'num_remote_worker_restarts': 0, 'num_agent_steps_sampled': 8000, 'num_agent_steps_trained': 8000, 'num_env_steps_sampled': 8000, 'num_env_steps_trained': 8000, 'num_env_steps_sampled_this_iter': 4000, 'num_env_steps_trained_this_iter': 4000, 'num_env_steps_sampled_throughput_per_sec': 243.16844887891614, 'num_env_steps_trained_throughput_per_sec': 243.16844887891614, 'timesteps_total': 8000, 'num_steps_trained_this_iter': 4000, 'agent_timesteps_total': 8000, 'timers': {'training_iteration_time_ms': 16109.232, 'sample_time_ms': 12141.686, 'load_time_ms': 0.589, 'load_throughput': 6795146.213, 'learn_time_ms': 3966.355, 'learn_throughput': 1008.483, 'synch_weights_time_ms': 0.003}, 'counters': {'num_env_steps_sampled': 8000, 'num_env_steps_trained': 8000, 'num_agent_steps_sampled': 8000, 'num_agent_steps_trained': 8000}, 'done': False, 'episodes_total': 0, 'training_iteration': 2, 'trial_id': 'default', 'date': '2024-05-25_00-59-30', 'timestamp': 1716623970, 'time_this_iter_s': 16.44958257675171, 'time_total_s': 32.21866989135742, 'pid': 120432, 'hostname': 'hvaclab-srv.ad.hvaiclab.internal', 'node_ip': '192.168.200.111', 'config': {'extra_python_environs_for_driver': {}, 'extra_python_environs_for_worker': {}, 'num_gpus': 1, 'num_cpus_per_worker': 1, 'num_gpus_per_worker': 0, '_fake_gpus': False, 'num_learner_workers': 0, 'num_gpus_per_learner_worker': 0, 'num_cpus_per_learner_worker': 1, 'local_gpu_idx': 0, 'custom_resources_per_worker': {}, 'placement_strategy': 'PACK', 'eager_tracing': True, 'eager_max_retraces': 20, 'tf_session_args': {'intra_op_parallelism_threads': 2, 'inter_op_parallelism_threads': 2, 'gpu_options': {'allow_growth': True}, 'log_device_placement': False, 'device_count': {'CPU': 1}, 'allow_soft_placement': True}, 'local_tf_session_args': {'intra_op_parallelism_threads': 8, 'inter_op_parallelism_threads': 8}, 'torch_compile_learner': False, 'torch_compile_learner_what_to_compile': <TorchCompileWhatToCompile.FORWARD_TRAIN: 'forward_train'>, 'torch_compile_learner_dynamo_backend': 'inductor', 'torch_compile_learner_dynamo_mode': None, 'torch_compile_worker': False, 'torch_compile_worker_dynamo_backend': 'onnxrt', 'torch_compile_worker_dynamo_mode': None, 'env': <class 'energyplus.ooep.addons.rl.ray.env.SimulatorEnv'>, 'env_config': {'action_space': Dict('thermostat': Box(15.0, 20.0, (), float32)), 'observation_space': Dict('temperature': Box(-inf, inf, (), float32)), 'reward_function': <function <lambda> at 0x7ffa585c42c0>, 'event_refs': ['begin_zone_timestep_after_init_heat_balance'], 'simulator_factory': <function <lambda> at 0x7ffa585d6b60>}, 'observation_space': None, 'action_space': None, 'env_task_fn': None, 'render_env': False, 'clip_rewards': None, 'normalize_actions': True, 'clip_actions': False, 'disable_env_checking': False, 'auto_wrap_old_gym_envs': True, 'action_mask_key': 'action_mask', '_is_atari': None, 'env_runner_cls': None, 'num_envs_per_worker': 1, 'enable_connectors': False, '_env_to_module_connector': None, '_module_to_env_connector': None, 'add_default_connectors_to_env_to_module_pipeline': True, 'add_default_connectors_to_module_to_env_pipeline': True, 'episode_lookback_horizon': 1, 'rollout_fragment_length': 'auto', 'batch_mode': 'truncate_episodes', 'validate_workers_after_construction': True, 'compress_observations': False, 'sampler_perf_stats_ema_coef': None, 'sample_async': -1, 'remote_worker_envs': False, 'remote_env_batch_wait_ms': 0, 'enable_tf1_exec_eagerly': False, 'sample_collector': <class 'ray.rllib.evaluation.collectors.simple_list_collector.SimpleListCollector'>, 'preprocessor_pref': 'deepmind', 'observation_filter': 'NoFilter', 'update_worker_filter_stats': True, 'use_worker_filter_stats': True, 'gamma': 0.99, 'lr': 0.0001, 'grad_clip': None, 'grad_clip_by': 'global_norm', 'train_batch_size': 4000, 'train_batch_size_per_learner': None, 'model': {'_disable_preprocessor_api': False, '_disable_action_flattening': False, 'fcnet_hiddens': [64, 64], 'fcnet_activation': 'tanh', 'fcnet_weights_initializer': None, 'fcnet_weights_initializer_config': None, 'fcnet_bias_initializer': None, 'fcnet_bias_initializer_config': None, 'conv_filters': None, 'conv_activation': 'relu', 'conv_kernel_initializer': None, 'conv_kernel_initializer_config': None, 'conv_bias_initializer': None, 'conv_bias_initializer_config': None, 'conv_transpose_kernel_initializer': None, 'conv_transpose_kernel_initializer_config': None, 'conv_transpose_bias_initializer': None, 'conv_transpose_bias_initializer_config': None, 'post_fcnet_hiddens': [], 'post_fcnet_activation': 'relu', 'post_fcnet_weights_initializer': None, 'post_fcnet_weights_initializer_config': None, 'post_fcnet_bias_initializer': None, 'post_fcnet_bias_initializer_config': None, 'free_log_std': False, 'no_final_linear': False, 'vf_share_layers': False, 'use_lstm': False, 'max_seq_len': 20, 'lstm_cell_size': 256, 'lstm_use_prev_action': False, 'lstm_use_prev_reward': False, 'lstm_weights_initializer': None, 'lstm_weights_initializer_config': None, 'lstm_bias_initializer': None, 'lstm_bias_initializer_config': None, '_time_major': False, 'use_attention': False, 'attention_num_transformer_units': 1, 'attention_dim': 64, 'attention_num_heads': 1, 'attention_head_dim': 32, 'attention_memory_inference': 50, 'attention_memory_training': 50, 'attention_position_wise_mlp_dim': 32, 'attention_init_gru_gate_bias': 2.0, 'attention_use_n_prev_actions': 0, 'attention_use_n_prev_rewards': 0, 'framestack': True, 'dim': 84, 'grayscale': False, 'zero_mean': True, 'custom_model': None, 'custom_model_config': {}, 'custom_action_dist': None, 'custom_preprocessor': None, 'encoder_latent_dim': None, 'always_check_shapes': False, 'lstm_use_prev_action_reward': -1, '_use_default_native_models': -1}, '_learner_connector': None, 'add_default_connectors_to_learner_pipeline': True, 'optimizer': {}, 'max_requests_in_flight_per_sampler_worker': 2, '_learner_class': None, 'explore': True, 'exploration_config': {'type': 'StochasticSampling'}, 'algorithm_config_overrides_per_module': {}, '_per_module_overrides': {}, 'count_steps_by': 'env_steps', 'policy_map_capacity': 100, 'policy_mapping_fn': <function AlgorithmConfig.DEFAULT_POLICY_MAPPING_FN at 0x7ff931a514e0>, 'policies_to_train': None, 'policy_states_are_swappable': False, 'observation_fn': None, 'input_config': {}, 'actions_in_input_normalized': False, 'postprocess_inputs': False, 'shuffle_buffer_size': 0, 'output': None, 'output_config': {}, 'output_compress_columns': ['obs', 'new_obs'], 'output_max_file_size': 67108864, 'offline_sampling': False, 'evaluation_interval': None, 'evaluation_duration': 10, 'evaluation_duration_unit': 'episodes', 'evaluation_sample_timeout_s': 180.0, 'evaluation_parallel_to_training': False, 'evaluation_config': None, 'off_policy_estimation_methods': {}, 'ope_split_batch_by_episode': True, 'evaluation_num_workers': 0, 'custom_async_evaluation_function': None, 'always_attach_evaluation_results': False, 'enable_async_evaluation': False, 'in_evaluation': False, 'sync_filters_on_rollout_workers_timeout_s': 60.0, 'keep_per_episode_custom_metrics': False, 'metrics_episode_collection_timeout_s': 60.0, 'metrics_num_episodes_for_smoothing': 100, 'min_time_s_per_iteration': None, 'min_train_timesteps_per_iteration': 0, 'min_sample_timesteps_per_iteration': 0, 'export_native_model_files': False, 'checkpoint_trainable_policies_only': False, 'logger_creator': None, 'logger_config': None, 'log_level': 'WARN', 'log_sys_usage': True, 'fake_sampler': False, 'seed': None, 'ignore_worker_failures': False, 'recreate_failed_workers': False, 'max_num_worker_restarts': 1000, 'delay_between_worker_restarts_s': 60.0, 'restart_failed_sub_environments': False, 'num_consecutive_worker_failures_tolerance': 100, 'worker_health_probe_timeout_s': 60, 'worker_restore_timeout_s': 1800, '_rl_module_spec': None, '_AlgorithmConfig__prior_exploration_config': None, '_enable_new_api_stack': False, '_tf_policy_handles_more_than_one_loss': False, '_disable_preprocessor_api': False, '_disable_action_flattening': False, '_disable_initialize_loss_from_dummy_batch': False, 'simple_optimizer': False, 'policy_map_cache': -1, 'worker_cls': -1, 'synchronize_filters': -1, 'replay_sequence_length': None, '_disable_execution_plan_api': -1, 'lr_schedule': None, 'use_critic': True, 'use_gae': True, 'use_kl_loss': True, 'kl_coeff': 0.2, 'kl_target': 0.01, 'sgd_minibatch_size': 128, 'mini_batch_size_per_learner': None, 'num_sgd_iter': 30, 'shuffle_sequences': True, 'vf_loss_coeff': 1.0, 'entropy_coeff': 0.0, 'entropy_coeff_schedule': None, 'clip_param': 0.3, 'vf_clip_param': 10.0, 'vf_share_layers': -1, 'lambda': 1.0, 'input': 'sampler', 'policies': {'default_policy': (None, None, None, None)}, 'callbacks': <class 'ray.rllib.algorithms.callbacks.DefaultCallbacks'>, 'create_env_on_driver': True, 'custom_eval_function': None, 'framework': 'torch', 'num_cpus_for_driver': 1, 'num_workers': 0}, 'time_since_restore': 32.21866989135742, 'iterations_since_restore': 2, 'perf': {'cpu_util_percent': 14.266666666666666, 'ram_util_percent': 29.833333333333332}}\n",
      "{'custom_metrics': {}, 'episode_media': {}, 'info': {'learner': {'default_policy': {'custom_metrics': {}, 'learner_stats': {'cur_kl_coeff': 0.05000000000000001, 'cur_lr': 0.00010000000000000003, 'total_loss': 9.94692657122048, 'policy_loss': -0.044219498584667845, 'vf_loss': 9.991034338551183, 'vf_explained_var': 0.424990592592506, 'kl': 0.0022342459106444185, 'entropy': 1.4595106099241524, 'entropy_coeff': 0.0}, 'model': {}, 'num_grad_updates_lifetime': 2325.5, 'diff_num_grad_updates_vs_sampler_policy': 464.5}}, 'num_env_steps_sampled': 12000, 'num_env_steps_trained': 12000, 'num_agent_steps_sampled': 12000, 'num_agent_steps_trained': 12000}, 'sampler_results': {'episode_reward_max': 9023.0, 'episode_reward_min': 9023.0, 'episode_reward_mean': 9023.0, 'episode_len_mean': 9024.0, 'episode_media': {}, 'episodes_this_iter': 1, 'policy_reward_min': {}, 'policy_reward_max': {}, 'policy_reward_mean': {}, 'custom_metrics': {}, 'hist_stats': {'episode_reward': [9023.0], 'episode_lengths': [9024]}, 'sampler_perf': {'mean_raw_obs_processing_ms': 0.11170520283464312, 'mean_inference_ms': 0.9639367245173697, 'mean_action_processing_ms': 0.08726755672048638, 'mean_env_wait_ms': 1.8240168300832715, 'mean_env_render_ms': 0.0}, 'num_faulty_episodes': 0, 'connector_metrics': {}}, 'episode_reward_max': 9023.0, 'episode_reward_min': 9023.0, 'episode_reward_mean': 9023.0, 'episode_len_mean': 9024.0, 'episodes_this_iter': 1, 'policy_reward_min': {}, 'policy_reward_max': {}, 'policy_reward_mean': {}, 'hist_stats': {'episode_reward': [9023.0], 'episode_lengths': [9024]}, 'sampler_perf': {'mean_raw_obs_processing_ms': 0.11170520283464312, 'mean_inference_ms': 0.9639367245173697, 'mean_action_processing_ms': 0.08726755672048638, 'mean_env_wait_ms': 1.8240168300832715, 'mean_env_render_ms': 0.0}, 'num_faulty_episodes': 0, 'connector_metrics': {}, 'num_healthy_workers': 0, 'num_in_flight_async_reqs': 0, 'num_remote_worker_restarts': 0, 'num_agent_steps_sampled': 12000, 'num_agent_steps_trained': 12000, 'num_env_steps_sampled': 12000, 'num_env_steps_trained': 12000, 'num_env_steps_sampled_this_iter': 4000, 'num_env_steps_trained_this_iter': 4000, 'num_env_steps_sampled_throughput_per_sec': 257.40078326339886, 'num_env_steps_trained_throughput_per_sec': 257.40078326339886, 'timesteps_total': 12000, 'num_steps_trained_this_iter': 4000, 'agent_timesteps_total': 12000, 'timers': {'training_iteration_time_ms': 15919.474, 'sample_time_ms': 11965.865, 'load_time_ms': 0.571, 'load_throughput': 7005100.626, 'learn_time_ms': 3952.503, 'learn_throughput': 1012.017, 'synch_weights_time_ms': 0.003}, 'counters': {'num_env_steps_sampled': 12000, 'num_env_steps_trained': 12000, 'num_agent_steps_sampled': 12000, 'num_agent_steps_trained': 12000}, 'done': False, 'episodes_total': 1, 'training_iteration': 3, 'trial_id': 'default', 'date': '2024-05-25_00-59-45', 'timestamp': 1716623985, 'time_this_iter_s': 15.540109872817993, 'time_total_s': 47.758779764175415, 'pid': 120432, 'hostname': 'hvaclab-srv.ad.hvaiclab.internal', 'node_ip': '192.168.200.111', 'config': {'extra_python_environs_for_driver': {}, 'extra_python_environs_for_worker': {}, 'num_gpus': 1, 'num_cpus_per_worker': 1, 'num_gpus_per_worker': 0, '_fake_gpus': False, 'num_learner_workers': 0, 'num_gpus_per_learner_worker': 0, 'num_cpus_per_learner_worker': 1, 'local_gpu_idx': 0, 'custom_resources_per_worker': {}, 'placement_strategy': 'PACK', 'eager_tracing': True, 'eager_max_retraces': 20, 'tf_session_args': {'intra_op_parallelism_threads': 2, 'inter_op_parallelism_threads': 2, 'gpu_options': {'allow_growth': True}, 'log_device_placement': False, 'device_count': {'CPU': 1}, 'allow_soft_placement': True}, 'local_tf_session_args': {'intra_op_parallelism_threads': 8, 'inter_op_parallelism_threads': 8}, 'torch_compile_learner': False, 'torch_compile_learner_what_to_compile': <TorchCompileWhatToCompile.FORWARD_TRAIN: 'forward_train'>, 'torch_compile_learner_dynamo_backend': 'inductor', 'torch_compile_learner_dynamo_mode': None, 'torch_compile_worker': False, 'torch_compile_worker_dynamo_backend': 'onnxrt', 'torch_compile_worker_dynamo_mode': None, 'env': <class 'energyplus.ooep.addons.rl.ray.env.SimulatorEnv'>, 'env_config': {'action_space': Dict('thermostat': Box(15.0, 20.0, (), float32)), 'observation_space': Dict('temperature': Box(-inf, inf, (), float32)), 'reward_function': <function <lambda> at 0x7ffa585c42c0>, 'event_refs': ['begin_zone_timestep_after_init_heat_balance'], 'simulator_factory': <function <lambda> at 0x7ffa585d6b60>}, 'observation_space': None, 'action_space': None, 'env_task_fn': None, 'render_env': False, 'clip_rewards': None, 'normalize_actions': True, 'clip_actions': False, 'disable_env_checking': False, 'auto_wrap_old_gym_envs': True, 'action_mask_key': 'action_mask', '_is_atari': None, 'env_runner_cls': None, 'num_envs_per_worker': 1, 'enable_connectors': False, '_env_to_module_connector': None, '_module_to_env_connector': None, 'add_default_connectors_to_env_to_module_pipeline': True, 'add_default_connectors_to_module_to_env_pipeline': True, 'episode_lookback_horizon': 1, 'rollout_fragment_length': 'auto', 'batch_mode': 'truncate_episodes', 'validate_workers_after_construction': True, 'compress_observations': False, 'sampler_perf_stats_ema_coef': None, 'sample_async': -1, 'remote_worker_envs': False, 'remote_env_batch_wait_ms': 0, 'enable_tf1_exec_eagerly': False, 'sample_collector': <class 'ray.rllib.evaluation.collectors.simple_list_collector.SimpleListCollector'>, 'preprocessor_pref': 'deepmind', 'observation_filter': 'NoFilter', 'update_worker_filter_stats': True, 'use_worker_filter_stats': True, 'gamma': 0.99, 'lr': 0.0001, 'grad_clip': None, 'grad_clip_by': 'global_norm', 'train_batch_size': 4000, 'train_batch_size_per_learner': None, 'model': {'_disable_preprocessor_api': False, '_disable_action_flattening': False, 'fcnet_hiddens': [64, 64], 'fcnet_activation': 'tanh', 'fcnet_weights_initializer': None, 'fcnet_weights_initializer_config': None, 'fcnet_bias_initializer': None, 'fcnet_bias_initializer_config': None, 'conv_filters': None, 'conv_activation': 'relu', 'conv_kernel_initializer': None, 'conv_kernel_initializer_config': None, 'conv_bias_initializer': None, 'conv_bias_initializer_config': None, 'conv_transpose_kernel_initializer': None, 'conv_transpose_kernel_initializer_config': None, 'conv_transpose_bias_initializer': None, 'conv_transpose_bias_initializer_config': None, 'post_fcnet_hiddens': [], 'post_fcnet_activation': 'relu', 'post_fcnet_weights_initializer': None, 'post_fcnet_weights_initializer_config': None, 'post_fcnet_bias_initializer': None, 'post_fcnet_bias_initializer_config': None, 'free_log_std': False, 'no_final_linear': False, 'vf_share_layers': False, 'use_lstm': False, 'max_seq_len': 20, 'lstm_cell_size': 256, 'lstm_use_prev_action': False, 'lstm_use_prev_reward': False, 'lstm_weights_initializer': None, 'lstm_weights_initializer_config': None, 'lstm_bias_initializer': None, 'lstm_bias_initializer_config': None, '_time_major': False, 'use_attention': False, 'attention_num_transformer_units': 1, 'attention_dim': 64, 'attention_num_heads': 1, 'attention_head_dim': 32, 'attention_memory_inference': 50, 'attention_memory_training': 50, 'attention_position_wise_mlp_dim': 32, 'attention_init_gru_gate_bias': 2.0, 'attention_use_n_prev_actions': 0, 'attention_use_n_prev_rewards': 0, 'framestack': True, 'dim': 84, 'grayscale': False, 'zero_mean': True, 'custom_model': None, 'custom_model_config': {}, 'custom_action_dist': None, 'custom_preprocessor': None, 'encoder_latent_dim': None, 'always_check_shapes': False, 'lstm_use_prev_action_reward': -1, '_use_default_native_models': -1}, '_learner_connector': None, 'add_default_connectors_to_learner_pipeline': True, 'optimizer': {}, 'max_requests_in_flight_per_sampler_worker': 2, '_learner_class': None, 'explore': True, 'exploration_config': {'type': 'StochasticSampling'}, 'algorithm_config_overrides_per_module': {}, '_per_module_overrides': {}, 'count_steps_by': 'env_steps', 'policy_map_capacity': 100, 'policy_mapping_fn': <function AlgorithmConfig.DEFAULT_POLICY_MAPPING_FN at 0x7ff931a514e0>, 'policies_to_train': None, 'policy_states_are_swappable': False, 'observation_fn': None, 'input_config': {}, 'actions_in_input_normalized': False, 'postprocess_inputs': False, 'shuffle_buffer_size': 0, 'output': None, 'output_config': {}, 'output_compress_columns': ['obs', 'new_obs'], 'output_max_file_size': 67108864, 'offline_sampling': False, 'evaluation_interval': None, 'evaluation_duration': 10, 'evaluation_duration_unit': 'episodes', 'evaluation_sample_timeout_s': 180.0, 'evaluation_parallel_to_training': False, 'evaluation_config': None, 'off_policy_estimation_methods': {}, 'ope_split_batch_by_episode': True, 'evaluation_num_workers': 0, 'custom_async_evaluation_function': None, 'always_attach_evaluation_results': False, 'enable_async_evaluation': False, 'in_evaluation': False, 'sync_filters_on_rollout_workers_timeout_s': 60.0, 'keep_per_episode_custom_metrics': False, 'metrics_episode_collection_timeout_s': 60.0, 'metrics_num_episodes_for_smoothing': 100, 'min_time_s_per_iteration': None, 'min_train_timesteps_per_iteration': 0, 'min_sample_timesteps_per_iteration': 0, 'export_native_model_files': False, 'checkpoint_trainable_policies_only': False, 'logger_creator': None, 'logger_config': None, 'log_level': 'WARN', 'log_sys_usage': True, 'fake_sampler': False, 'seed': None, 'ignore_worker_failures': False, 'recreate_failed_workers': False, 'max_num_worker_restarts': 1000, 'delay_between_worker_restarts_s': 60.0, 'restart_failed_sub_environments': False, 'num_consecutive_worker_failures_tolerance': 100, 'worker_health_probe_timeout_s': 60, 'worker_restore_timeout_s': 1800, '_rl_module_spec': None, '_AlgorithmConfig__prior_exploration_config': None, '_enable_new_api_stack': False, '_tf_policy_handles_more_than_one_loss': False, '_disable_preprocessor_api': False, '_disable_action_flattening': False, '_disable_initialize_loss_from_dummy_batch': False, 'simple_optimizer': False, 'policy_map_cache': -1, 'worker_cls': -1, 'synchronize_filters': -1, 'replay_sequence_length': None, '_disable_execution_plan_api': -1, 'lr_schedule': None, 'use_critic': True, 'use_gae': True, 'use_kl_loss': True, 'kl_coeff': 0.2, 'kl_target': 0.01, 'sgd_minibatch_size': 128, 'mini_batch_size_per_learner': None, 'num_sgd_iter': 30, 'shuffle_sequences': True, 'vf_loss_coeff': 1.0, 'entropy_coeff': 0.0, 'entropy_coeff_schedule': None, 'clip_param': 0.3, 'vf_clip_param': 10.0, 'vf_share_layers': -1, 'lambda': 1.0, 'input': 'sampler', 'policies': {'default_policy': (None, None, None, None)}, 'callbacks': <class 'ray.rllib.algorithms.callbacks.DefaultCallbacks'>, 'create_env_on_driver': True, 'custom_eval_function': None, 'framework': 'torch', 'num_cpus_for_driver': 1, 'num_workers': 0}, 'time_since_restore': 47.758779764175415, 'iterations_since_restore': 3, 'perf': {'cpu_util_percent': 10.727272727272727, 'ram_util_percent': 30.19545454545456}}\n",
      "{'custom_metrics': {}, 'episode_media': {}, 'info': {'learner': {'default_policy': {'custom_metrics': {}, 'learner_stats': {'cur_kl_coeff': 0.025000000000000005, 'cur_lr': 0.00010000000000000003, 'total_loss': 9.937827458945653, 'policy_loss': -0.06222572166432617, 'vf_loss': 10.0, 'vf_explained_var': 0.7432575560385181, 'kl': 0.0021260512771331505, 'entropy': 1.5048513943149198, 'entropy_coeff': 0.0}, 'model': {}, 'num_grad_updates_lifetime': 3255.5, 'diff_num_grad_updates_vs_sampler_policy': 464.5}}, 'num_env_steps_sampled': 16000, 'num_env_steps_trained': 16000, 'num_agent_steps_sampled': 16000, 'num_agent_steps_trained': 16000}, 'sampler_results': {'episode_reward_max': 9023.0, 'episode_reward_min': 9023.0, 'episode_reward_mean': 9023.0, 'episode_len_mean': 9024.0, 'episode_media': {}, 'episodes_this_iter': 0, 'policy_reward_min': {}, 'policy_reward_max': {}, 'policy_reward_mean': {}, 'custom_metrics': {}, 'hist_stats': {'episode_reward': [9023.0], 'episode_lengths': [9024]}, 'sampler_perf': {'mean_raw_obs_processing_ms': 0.11170520283464312, 'mean_inference_ms': 0.9639367245173697, 'mean_action_processing_ms': 0.08726755672048638, 'mean_env_wait_ms': 1.8240168300832715, 'mean_env_render_ms': 0.0}, 'num_faulty_episodes': 0, 'connector_metrics': {}}, 'episode_reward_max': 9023.0, 'episode_reward_min': 9023.0, 'episode_reward_mean': 9023.0, 'episode_len_mean': 9024.0, 'episodes_this_iter': 0, 'policy_reward_min': {}, 'policy_reward_max': {}, 'policy_reward_mean': {}, 'hist_stats': {'episode_reward': [9023.0], 'episode_lengths': [9024]}, 'sampler_perf': {'mean_raw_obs_processing_ms': 0.11170520283464312, 'mean_inference_ms': 0.9639367245173697, 'mean_action_processing_ms': 0.08726755672048638, 'mean_env_wait_ms': 1.8240168300832715, 'mean_env_render_ms': 0.0}, 'num_faulty_episodes': 0, 'connector_metrics': {}, 'num_healthy_workers': 0, 'num_in_flight_async_reqs': 0, 'num_remote_worker_restarts': 0, 'num_agent_steps_sampled': 16000, 'num_agent_steps_trained': 16000, 'num_env_steps_sampled': 16000, 'num_env_steps_trained': 16000, 'num_env_steps_sampled_this_iter': 4000, 'num_env_steps_trained_this_iter': 4000, 'num_env_steps_sampled_throughput_per_sec': 247.19883360547152, 'num_env_steps_trained_throughput_per_sec': 247.19883360547152, 'timesteps_total': 16000, 'num_steps_trained_this_iter': 4000, 'agent_timesteps_total': 16000, 'timers': {'training_iteration_time_ms': 15984.928, 'sample_time_ms': 12056.495, 'load_time_ms': 0.555, 'load_throughput': 7205934.071, 'learn_time_ms': 3927.394, 'learn_throughput': 1018.487, 'synch_weights_time_ms': 0.003}, 'counters': {'num_env_steps_sampled': 16000, 'num_env_steps_trained': 16000, 'num_agent_steps_sampled': 16000, 'num_agent_steps_trained': 16000}, 'done': False, 'episodes_total': 1, 'training_iteration': 4, 'trial_id': 'default', 'date': '2024-05-25_01-00-02', 'timestamp': 1716624002, 'time_this_iter_s': 16.181445598602295, 'time_total_s': 63.94022536277771, 'pid': 120432, 'hostname': 'hvaclab-srv.ad.hvaiclab.internal', 'node_ip': '192.168.200.111', 'config': {'extra_python_environs_for_driver': {}, 'extra_python_environs_for_worker': {}, 'num_gpus': 1, 'num_cpus_per_worker': 1, 'num_gpus_per_worker': 0, '_fake_gpus': False, 'num_learner_workers': 0, 'num_gpus_per_learner_worker': 0, 'num_cpus_per_learner_worker': 1, 'local_gpu_idx': 0, 'custom_resources_per_worker': {}, 'placement_strategy': 'PACK', 'eager_tracing': True, 'eager_max_retraces': 20, 'tf_session_args': {'intra_op_parallelism_threads': 2, 'inter_op_parallelism_threads': 2, 'gpu_options': {'allow_growth': True}, 'log_device_placement': False, 'device_count': {'CPU': 1}, 'allow_soft_placement': True}, 'local_tf_session_args': {'intra_op_parallelism_threads': 8, 'inter_op_parallelism_threads': 8}, 'torch_compile_learner': False, 'torch_compile_learner_what_to_compile': <TorchCompileWhatToCompile.FORWARD_TRAIN: 'forward_train'>, 'torch_compile_learner_dynamo_backend': 'inductor', 'torch_compile_learner_dynamo_mode': None, 'torch_compile_worker': False, 'torch_compile_worker_dynamo_backend': 'onnxrt', 'torch_compile_worker_dynamo_mode': None, 'env': <class 'energyplus.ooep.addons.rl.ray.env.SimulatorEnv'>, 'env_config': {'action_space': Dict('thermostat': Box(15.0, 20.0, (), float32)), 'observation_space': Dict('temperature': Box(-inf, inf, (), float32)), 'reward_function': <function <lambda> at 0x7ffa585c42c0>, 'event_refs': ['begin_zone_timestep_after_init_heat_balance'], 'simulator_factory': <function <lambda> at 0x7ffa585d6b60>}, 'observation_space': None, 'action_space': None, 'env_task_fn': None, 'render_env': False, 'clip_rewards': None, 'normalize_actions': True, 'clip_actions': False, 'disable_env_checking': False, 'auto_wrap_old_gym_envs': True, 'action_mask_key': 'action_mask', '_is_atari': None, 'env_runner_cls': None, 'num_envs_per_worker': 1, 'enable_connectors': False, '_env_to_module_connector': None, '_module_to_env_connector': None, 'add_default_connectors_to_env_to_module_pipeline': True, 'add_default_connectors_to_module_to_env_pipeline': True, 'episode_lookback_horizon': 1, 'rollout_fragment_length': 'auto', 'batch_mode': 'truncate_episodes', 'validate_workers_after_construction': True, 'compress_observations': False, 'sampler_perf_stats_ema_coef': None, 'sample_async': -1, 'remote_worker_envs': False, 'remote_env_batch_wait_ms': 0, 'enable_tf1_exec_eagerly': False, 'sample_collector': <class 'ray.rllib.evaluation.collectors.simple_list_collector.SimpleListCollector'>, 'preprocessor_pref': 'deepmind', 'observation_filter': 'NoFilter', 'update_worker_filter_stats': True, 'use_worker_filter_stats': True, 'gamma': 0.99, 'lr': 0.0001, 'grad_clip': None, 'grad_clip_by': 'global_norm', 'train_batch_size': 4000, 'train_batch_size_per_learner': None, 'model': {'_disable_preprocessor_api': False, '_disable_action_flattening': False, 'fcnet_hiddens': [64, 64], 'fcnet_activation': 'tanh', 'fcnet_weights_initializer': None, 'fcnet_weights_initializer_config': None, 'fcnet_bias_initializer': None, 'fcnet_bias_initializer_config': None, 'conv_filters': None, 'conv_activation': 'relu', 'conv_kernel_initializer': None, 'conv_kernel_initializer_config': None, 'conv_bias_initializer': None, 'conv_bias_initializer_config': None, 'conv_transpose_kernel_initializer': None, 'conv_transpose_kernel_initializer_config': None, 'conv_transpose_bias_initializer': None, 'conv_transpose_bias_initializer_config': None, 'post_fcnet_hiddens': [], 'post_fcnet_activation': 'relu', 'post_fcnet_weights_initializer': None, 'post_fcnet_weights_initializer_config': None, 'post_fcnet_bias_initializer': None, 'post_fcnet_bias_initializer_config': None, 'free_log_std': False, 'no_final_linear': False, 'vf_share_layers': False, 'use_lstm': False, 'max_seq_len': 20, 'lstm_cell_size': 256, 'lstm_use_prev_action': False, 'lstm_use_prev_reward': False, 'lstm_weights_initializer': None, 'lstm_weights_initializer_config': None, 'lstm_bias_initializer': None, 'lstm_bias_initializer_config': None, '_time_major': False, 'use_attention': False, 'attention_num_transformer_units': 1, 'attention_dim': 64, 'attention_num_heads': 1, 'attention_head_dim': 32, 'attention_memory_inference': 50, 'attention_memory_training': 50, 'attention_position_wise_mlp_dim': 32, 'attention_init_gru_gate_bias': 2.0, 'attention_use_n_prev_actions': 0, 'attention_use_n_prev_rewards': 0, 'framestack': True, 'dim': 84, 'grayscale': False, 'zero_mean': True, 'custom_model': None, 'custom_model_config': {}, 'custom_action_dist': None, 'custom_preprocessor': None, 'encoder_latent_dim': None, 'always_check_shapes': False, 'lstm_use_prev_action_reward': -1, '_use_default_native_models': -1}, '_learner_connector': None, 'add_default_connectors_to_learner_pipeline': True, 'optimizer': {}, 'max_requests_in_flight_per_sampler_worker': 2, '_learner_class': None, 'explore': True, 'exploration_config': {'type': 'StochasticSampling'}, 'algorithm_config_overrides_per_module': {}, '_per_module_overrides': {}, 'count_steps_by': 'env_steps', 'policy_map_capacity': 100, 'policy_mapping_fn': <function AlgorithmConfig.DEFAULT_POLICY_MAPPING_FN at 0x7ff931a514e0>, 'policies_to_train': None, 'policy_states_are_swappable': False, 'observation_fn': None, 'input_config': {}, 'actions_in_input_normalized': False, 'postprocess_inputs': False, 'shuffle_buffer_size': 0, 'output': None, 'output_config': {}, 'output_compress_columns': ['obs', 'new_obs'], 'output_max_file_size': 67108864, 'offline_sampling': False, 'evaluation_interval': None, 'evaluation_duration': 10, 'evaluation_duration_unit': 'episodes', 'evaluation_sample_timeout_s': 180.0, 'evaluation_parallel_to_training': False, 'evaluation_config': None, 'off_policy_estimation_methods': {}, 'ope_split_batch_by_episode': True, 'evaluation_num_workers': 0, 'custom_async_evaluation_function': None, 'always_attach_evaluation_results': False, 'enable_async_evaluation': False, 'in_evaluation': False, 'sync_filters_on_rollout_workers_timeout_s': 60.0, 'keep_per_episode_custom_metrics': False, 'metrics_episode_collection_timeout_s': 60.0, 'metrics_num_episodes_for_smoothing': 100, 'min_time_s_per_iteration': None, 'min_train_timesteps_per_iteration': 0, 'min_sample_timesteps_per_iteration': 0, 'export_native_model_files': False, 'checkpoint_trainable_policies_only': False, 'logger_creator': None, 'logger_config': None, 'log_level': 'WARN', 'log_sys_usage': True, 'fake_sampler': False, 'seed': None, 'ignore_worker_failures': False, 'recreate_failed_workers': False, 'max_num_worker_restarts': 1000, 'delay_between_worker_restarts_s': 60.0, 'restart_failed_sub_environments': False, 'num_consecutive_worker_failures_tolerance': 100, 'worker_health_probe_timeout_s': 60, 'worker_restore_timeout_s': 1800, '_rl_module_spec': None, '_AlgorithmConfig__prior_exploration_config': None, '_enable_new_api_stack': False, '_tf_policy_handles_more_than_one_loss': False, '_disable_preprocessor_api': False, '_disable_action_flattening': False, '_disable_initialize_loss_from_dummy_batch': False, 'simple_optimizer': False, 'policy_map_cache': -1, 'worker_cls': -1, 'synchronize_filters': -1, 'replay_sequence_length': None, '_disable_execution_plan_api': -1, 'lr_schedule': None, 'use_critic': True, 'use_gae': True, 'use_kl_loss': True, 'kl_coeff': 0.2, 'kl_target': 0.01, 'sgd_minibatch_size': 128, 'mini_batch_size_per_learner': None, 'num_sgd_iter': 30, 'shuffle_sequences': True, 'vf_loss_coeff': 1.0, 'entropy_coeff': 0.0, 'entropy_coeff_schedule': None, 'clip_param': 0.3, 'vf_clip_param': 10.0, 'vf_share_layers': -1, 'lambda': 1.0, 'input': 'sampler', 'policies': {'default_policy': (None, None, None, None)}, 'callbacks': <class 'ray.rllib.algorithms.callbacks.DefaultCallbacks'>, 'create_env_on_driver': True, 'custom_eval_function': None, 'framework': 'torch', 'num_cpus_for_driver': 1, 'num_workers': 0}, 'time_since_restore': 63.94022536277771, 'iterations_since_restore': 4, 'perf': {'cpu_util_percent': 9.439130434782609, 'ram_util_percent': 29.87391304347827}}\n",
      "{'custom_metrics': {}, 'episode_media': {}, 'info': {'learner': {'default_policy': {'custom_metrics': {}, 'learner_stats': {'cur_kl_coeff': 0.012500000000000002, 'cur_lr': 0.00010000000000000003, 'total_loss': 9.94594973492366, 'policy_loss': -0.043339656321432, 'vf_loss': 9.98922259320495, 'vf_explained_var': 0.4134070985419776, 'kl': 0.0053429802538933775, 'entropy': 1.4936143741812757, 'entropy_coeff': 0.0}, 'model': {}, 'num_grad_updates_lifetime': 4185.5, 'diff_num_grad_updates_vs_sampler_policy': 464.5}}, 'num_env_steps_sampled': 20000, 'num_env_steps_trained': 20000, 'num_agent_steps_sampled': 20000, 'num_agent_steps_trained': 20000}, 'sampler_results': {'episode_reward_max': 9023.0, 'episode_reward_min': 9023.0, 'episode_reward_mean': 9023.0, 'episode_len_mean': 9024.0, 'episode_media': {}, 'episodes_this_iter': 1, 'policy_reward_min': {}, 'policy_reward_max': {}, 'policy_reward_mean': {}, 'custom_metrics': {}, 'hist_stats': {'episode_reward': [9023.0, 9023.0], 'episode_lengths': [9024, 9024]}, 'sampler_perf': {'mean_raw_obs_processing_ms': 0.11174423111967408, 'mean_inference_ms': 0.965367871766234, 'mean_action_processing_ms': 0.08718136151817965, 'mean_env_wait_ms': 1.843800201544809, 'mean_env_render_ms': 0.0}, 'num_faulty_episodes': 0, 'connector_metrics': {}}, 'episode_reward_max': 9023.0, 'episode_reward_min': 9023.0, 'episode_reward_mean': 9023.0, 'episode_len_mean': 9024.0, 'episodes_this_iter': 1, 'policy_reward_min': {}, 'policy_reward_max': {}, 'policy_reward_mean': {}, 'hist_stats': {'episode_reward': [9023.0, 9023.0], 'episode_lengths': [9024, 9024]}, 'sampler_perf': {'mean_raw_obs_processing_ms': 0.11174423111967408, 'mean_inference_ms': 0.965367871766234, 'mean_action_processing_ms': 0.08718136151817965, 'mean_env_wait_ms': 1.843800201544809, 'mean_env_render_ms': 0.0}, 'num_faulty_episodes': 0, 'connector_metrics': {}, 'num_healthy_workers': 0, 'num_in_flight_async_reqs': 0, 'num_remote_worker_restarts': 0, 'num_agent_steps_sampled': 20000, 'num_agent_steps_trained': 20000, 'num_env_steps_sampled': 20000, 'num_env_steps_trained': 20000, 'num_env_steps_sampled_this_iter': 4000, 'num_env_steps_trained_this_iter': 4000, 'num_env_steps_sampled_throughput_per_sec': 244.53313618185044, 'num_env_steps_trained_throughput_per_sec': 244.53313618185044, 'timesteps_total': 20000, 'num_steps_trained_this_iter': 4000, 'agent_timesteps_total': 20000, 'timers': {'training_iteration_time_ms': 16059.481, 'sample_time_ms': 12134.727, 'load_time_ms': 0.548, 'load_throughput': 7297614.615, 'learn_time_ms': 3923.756, 'learn_throughput': 1019.431, 'synch_weights_time_ms': 0.002}, 'counters': {'num_env_steps_sampled': 20000, 'num_env_steps_trained': 20000, 'num_agent_steps_sampled': 20000, 'num_agent_steps_trained': 20000}, 'done': False, 'episodes_total': 2, 'training_iteration': 5, 'trial_id': 'default', 'date': '2024-05-25_01-00-18', 'timestamp': 1716624018, 'time_this_iter_s': 16.357839107513428, 'time_total_s': 80.29806447029114, 'pid': 120432, 'hostname': 'hvaclab-srv.ad.hvaiclab.internal', 'node_ip': '192.168.200.111', 'config': {'extra_python_environs_for_driver': {}, 'extra_python_environs_for_worker': {}, 'num_gpus': 1, 'num_cpus_per_worker': 1, 'num_gpus_per_worker': 0, '_fake_gpus': False, 'num_learner_workers': 0, 'num_gpus_per_learner_worker': 0, 'num_cpus_per_learner_worker': 1, 'local_gpu_idx': 0, 'custom_resources_per_worker': {}, 'placement_strategy': 'PACK', 'eager_tracing': True, 'eager_max_retraces': 20, 'tf_session_args': {'intra_op_parallelism_threads': 2, 'inter_op_parallelism_threads': 2, 'gpu_options': {'allow_growth': True}, 'log_device_placement': False, 'device_count': {'CPU': 1}, 'allow_soft_placement': True}, 'local_tf_session_args': {'intra_op_parallelism_threads': 8, 'inter_op_parallelism_threads': 8}, 'torch_compile_learner': False, 'torch_compile_learner_what_to_compile': <TorchCompileWhatToCompile.FORWARD_TRAIN: 'forward_train'>, 'torch_compile_learner_dynamo_backend': 'inductor', 'torch_compile_learner_dynamo_mode': None, 'torch_compile_worker': False, 'torch_compile_worker_dynamo_backend': 'onnxrt', 'torch_compile_worker_dynamo_mode': None, 'env': <class 'energyplus.ooep.addons.rl.ray.env.SimulatorEnv'>, 'env_config': {'action_space': Dict('thermostat': Box(15.0, 20.0, (), float32)), 'observation_space': Dict('temperature': Box(-inf, inf, (), float32)), 'reward_function': <function <lambda> at 0x7ffa585c42c0>, 'event_refs': ['begin_zone_timestep_after_init_heat_balance'], 'simulator_factory': <function <lambda> at 0x7ffa585d6b60>}, 'observation_space': None, 'action_space': None, 'env_task_fn': None, 'render_env': False, 'clip_rewards': None, 'normalize_actions': True, 'clip_actions': False, 'disable_env_checking': False, 'auto_wrap_old_gym_envs': True, 'action_mask_key': 'action_mask', '_is_atari': None, 'env_runner_cls': None, 'num_envs_per_worker': 1, 'enable_connectors': False, '_env_to_module_connector': None, '_module_to_env_connector': None, 'add_default_connectors_to_env_to_module_pipeline': True, 'add_default_connectors_to_module_to_env_pipeline': True, 'episode_lookback_horizon': 1, 'rollout_fragment_length': 'auto', 'batch_mode': 'truncate_episodes', 'validate_workers_after_construction': True, 'compress_observations': False, 'sampler_perf_stats_ema_coef': None, 'sample_async': -1, 'remote_worker_envs': False, 'remote_env_batch_wait_ms': 0, 'enable_tf1_exec_eagerly': False, 'sample_collector': <class 'ray.rllib.evaluation.collectors.simple_list_collector.SimpleListCollector'>, 'preprocessor_pref': 'deepmind', 'observation_filter': 'NoFilter', 'update_worker_filter_stats': True, 'use_worker_filter_stats': True, 'gamma': 0.99, 'lr': 0.0001, 'grad_clip': None, 'grad_clip_by': 'global_norm', 'train_batch_size': 4000, 'train_batch_size_per_learner': None, 'model': {'_disable_preprocessor_api': False, '_disable_action_flattening': False, 'fcnet_hiddens': [64, 64], 'fcnet_activation': 'tanh', 'fcnet_weights_initializer': None, 'fcnet_weights_initializer_config': None, 'fcnet_bias_initializer': None, 'fcnet_bias_initializer_config': None, 'conv_filters': None, 'conv_activation': 'relu', 'conv_kernel_initializer': None, 'conv_kernel_initializer_config': None, 'conv_bias_initializer': None, 'conv_bias_initializer_config': None, 'conv_transpose_kernel_initializer': None, 'conv_transpose_kernel_initializer_config': None, 'conv_transpose_bias_initializer': None, 'conv_transpose_bias_initializer_config': None, 'post_fcnet_hiddens': [], 'post_fcnet_activation': 'relu', 'post_fcnet_weights_initializer': None, 'post_fcnet_weights_initializer_config': None, 'post_fcnet_bias_initializer': None, 'post_fcnet_bias_initializer_config': None, 'free_log_std': False, 'no_final_linear': False, 'vf_share_layers': False, 'use_lstm': False, 'max_seq_len': 20, 'lstm_cell_size': 256, 'lstm_use_prev_action': False, 'lstm_use_prev_reward': False, 'lstm_weights_initializer': None, 'lstm_weights_initializer_config': None, 'lstm_bias_initializer': None, 'lstm_bias_initializer_config': None, '_time_major': False, 'use_attention': False, 'attention_num_transformer_units': 1, 'attention_dim': 64, 'attention_num_heads': 1, 'attention_head_dim': 32, 'attention_memory_inference': 50, 'attention_memory_training': 50, 'attention_position_wise_mlp_dim': 32, 'attention_init_gru_gate_bias': 2.0, 'attention_use_n_prev_actions': 0, 'attention_use_n_prev_rewards': 0, 'framestack': True, 'dim': 84, 'grayscale': False, 'zero_mean': True, 'custom_model': None, 'custom_model_config': {}, 'custom_action_dist': None, 'custom_preprocessor': None, 'encoder_latent_dim': None, 'always_check_shapes': False, 'lstm_use_prev_action_reward': -1, '_use_default_native_models': -1}, '_learner_connector': None, 'add_default_connectors_to_learner_pipeline': True, 'optimizer': {}, 'max_requests_in_flight_per_sampler_worker': 2, '_learner_class': None, 'explore': True, 'exploration_config': {'type': 'StochasticSampling'}, 'algorithm_config_overrides_per_module': {}, '_per_module_overrides': {}, 'count_steps_by': 'env_steps', 'policy_map_capacity': 100, 'policy_mapping_fn': <function AlgorithmConfig.DEFAULT_POLICY_MAPPING_FN at 0x7ff931a514e0>, 'policies_to_train': None, 'policy_states_are_swappable': False, 'observation_fn': None, 'input_config': {}, 'actions_in_input_normalized': False, 'postprocess_inputs': False, 'shuffle_buffer_size': 0, 'output': None, 'output_config': {}, 'output_compress_columns': ['obs', 'new_obs'], 'output_max_file_size': 67108864, 'offline_sampling': False, 'evaluation_interval': None, 'evaluation_duration': 10, 'evaluation_duration_unit': 'episodes', 'evaluation_sample_timeout_s': 180.0, 'evaluation_parallel_to_training': False, 'evaluation_config': None, 'off_policy_estimation_methods': {}, 'ope_split_batch_by_episode': True, 'evaluation_num_workers': 0, 'custom_async_evaluation_function': None, 'always_attach_evaluation_results': False, 'enable_async_evaluation': False, 'in_evaluation': False, 'sync_filters_on_rollout_workers_timeout_s': 60.0, 'keep_per_episode_custom_metrics': False, 'metrics_episode_collection_timeout_s': 60.0, 'metrics_num_episodes_for_smoothing': 100, 'min_time_s_per_iteration': None, 'min_train_timesteps_per_iteration': 0, 'min_sample_timesteps_per_iteration': 0, 'export_native_model_files': False, 'checkpoint_trainable_policies_only': False, 'logger_creator': None, 'logger_config': None, 'log_level': 'WARN', 'log_sys_usage': True, 'fake_sampler': False, 'seed': None, 'ignore_worker_failures': False, 'recreate_failed_workers': False, 'max_num_worker_restarts': 1000, 'delay_between_worker_restarts_s': 60.0, 'restart_failed_sub_environments': False, 'num_consecutive_worker_failures_tolerance': 100, 'worker_health_probe_timeout_s': 60, 'worker_restore_timeout_s': 1800, '_rl_module_spec': None, '_AlgorithmConfig__prior_exploration_config': None, '_enable_new_api_stack': False, '_tf_policy_handles_more_than_one_loss': False, '_disable_preprocessor_api': False, '_disable_action_flattening': False, '_disable_initialize_loss_from_dummy_batch': False, 'simple_optimizer': False, 'policy_map_cache': -1, 'worker_cls': -1, 'synchronize_filters': -1, 'replay_sequence_length': None, '_disable_execution_plan_api': -1, 'lr_schedule': None, 'use_critic': True, 'use_gae': True, 'use_kl_loss': True, 'kl_coeff': 0.2, 'kl_target': 0.01, 'sgd_minibatch_size': 128, 'mini_batch_size_per_learner': None, 'num_sgd_iter': 30, 'shuffle_sequences': True, 'vf_loss_coeff': 1.0, 'entropy_coeff': 0.0, 'entropy_coeff_schedule': None, 'clip_param': 0.3, 'vf_clip_param': 10.0, 'vf_share_layers': -1, 'lambda': 1.0, 'input': 'sampler', 'policies': {'default_policy': (None, None, None, None)}, 'callbacks': <class 'ray.rllib.algorithms.callbacks.DefaultCallbacks'>, 'create_env_on_driver': True, 'custom_eval_function': None, 'framework': 'torch', 'num_cpus_for_driver': 1, 'num_workers': 0}, 'time_since_restore': 80.29806447029114, 'iterations_since_restore': 5, 'perf': {'cpu_util_percent': 9.882608695652175, 'ram_util_percent': 29.70000000000001}}\n"
     ]
    }
   ],
   "source": [
    "# TODO rm: force simulator to rerun to make the newly requested variables available\n",
    "#simulator.stop()\n",
    "# start training\n",
    "for _ in range(5):\n",
    "    print(algo.train())"
   ]
  },
  {
   "cell_type": "markdown",
   "metadata": {
    "editable": true,
    "slideshow": {
     "slide_type": "slide"
    },
    "tags": []
   },
   "source": [
    "Evaluate the algorithm."
   ]
  },
  {
   "cell_type": "code",
   "execution_count": 8,
   "metadata": {
    "editable": true,
    "scrolled": true,
    "slideshow": {
     "slide_type": "subslide"
    },
    "tags": []
   },
   "outputs": [
    {
     "data": {
      "text/plain": [
       "{'evaluation': {'sampler_results': {'episode_reward_max': 9023.0,\n",
       "   'episode_reward_min': 9023.0,\n",
       "   'episode_reward_mean': 9023.0,\n",
       "   'episode_len_mean': 9024.0,\n",
       "   'episode_media': {},\n",
       "   'episodes_this_iter': 4,\n",
       "   'policy_reward_min': {},\n",
       "   'policy_reward_max': {},\n",
       "   'policy_reward_mean': {},\n",
       "   'custom_metrics': {},\n",
       "   'hist_stats': {'episode_reward': [9023.0, 9023.0, 9023.0, 9023.0],\n",
       "    'episode_lengths': [9024, 9024, 9024, 9024]},\n",
       "   'sampler_perf': {'mean_raw_obs_processing_ms': 0.11319857229959117,\n",
       "    'mean_inference_ms': 0.9809485921214974,\n",
       "    'mean_action_processing_ms': 0.08844645103167123,\n",
       "    'mean_env_wait_ms': 1.8602753165506953,\n",
       "    'mean_env_render_ms': 0.0},\n",
       "   'num_faulty_episodes': 0,\n",
       "   'connector_metrics': {}},\n",
       "  'episode_reward_max': 9023.0,\n",
       "  'episode_reward_min': 9023.0,\n",
       "  'episode_reward_mean': 9023.0,\n",
       "  'episode_len_mean': 9024.0,\n",
       "  'episode_media': {},\n",
       "  'episodes_this_iter': 4,\n",
       "  'policy_reward_min': {},\n",
       "  'policy_reward_max': {},\n",
       "  'policy_reward_mean': {},\n",
       "  'custom_metrics': {},\n",
       "  'hist_stats': {'episode_reward': [9023.0, 9023.0, 9023.0, 9023.0],\n",
       "   'episode_lengths': [9024, 9024, 9024, 9024]},\n",
       "  'sampler_perf': {'mean_raw_obs_processing_ms': 0.11319857229959117,\n",
       "   'mean_inference_ms': 0.9809485921214974,\n",
       "   'mean_action_processing_ms': 0.08844645103167123,\n",
       "   'mean_env_wait_ms': 1.8602753165506953,\n",
       "   'mean_env_render_ms': 0.0},\n",
       "  'num_faulty_episodes': 0,\n",
       "  'connector_metrics': {},\n",
       "  'num_agent_steps_sampled_this_iter': 40000,\n",
       "  'num_env_steps_sampled_this_iter': 40000,\n",
       "  'timesteps_this_iter': 40000}}"
      ]
     },
     "execution_count": 8,
     "metadata": {},
     "output_type": "execute_result"
    }
   ],
   "source": [
    "algo.evaluate()"
   ]
  },
  {
   "cell_type": "markdown",
   "metadata": {
    "editable": true,
    "slideshow": {
     "slide_type": "slide"
    },
    "tags": []
   },
   "source": [
    "Stop the simulation environment when we are done!"
   ]
  },
  {
   "cell_type": "code",
   "execution_count": 9,
   "metadata": {
    "editable": true,
    "slideshow": {
     "slide_type": "subslide"
    },
    "tags": []
   },
   "outputs": [],
   "source": [
    "simulator.stop()"
   ]
  }
 ],
 "metadata": {
  "kernelspec": {
   "display_name": "Python 3 (ipykernel)",
   "language": "python",
   "name": "python3"
  },
  "language_info": {
   "codemirror_mode": {
    "name": "ipython",
    "version": 3
   },
   "file_extension": ".py",
   "mimetype": "text/x-python",
   "name": "python",
   "nbconvert_exporter": "python",
   "pygments_lexer": "ipython3",
   "version": "3.11.2"
  }
 },
 "nbformat": 4,
 "nbformat_minor": 4
}
