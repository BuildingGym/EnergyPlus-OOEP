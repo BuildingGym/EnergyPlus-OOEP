{
 "cells": [
  {
   "cell_type": "code",
   "execution_count": 1,
   "metadata": {},
   "outputs": [],
   "source": [
    "from energyplus.ooep import (\n",
    "    World,\n",
    "    #WeatherModel,\n",
    "    #Report,\n",
    "    Actuator,\n",
    "    OutputVariable,\n",
    ")\n",
    "\n",
    "from energyplus.dataset.basic import dataset as _epds_\n",
    "\n",
    "world = World(\n",
    "    input=World.Specs.Input(\n",
    "        world=(\n",
    "            _epds_.models / 'ASHRAE901_OfficeLarge_STD2019_Denver_Chiller205_Detailed.idf'\n",
    "        ),\n",
    "        weather=(_epds_.weathers / 'USA_CO_Denver-Aurora-Buckley.AFB.724695_TMY3.epw'),\n",
    "    ),\n",
    "    output=World.Specs.Output(\n",
    "        report=('/tmp/ooep-report-9e1287d2-8e75-4cf5-bbc5-f76580b56a69'),\n",
    "    ),\n",
    "    runtime=World.Specs.Runtime(\n",
    "        #recurring=True,\n",
    "        #design_day=True,\n",
    "    ),\n",
    ")"
   ]
  },
  {
   "cell_type": "code",
   "execution_count": 2,
   "metadata": {},
   "outputs": [],
   "source": [
    "from energyplus.ooep.addons.rl import (\n",
    "    SpaceVariableContainer,\n",
    "    VariableBox,\n",
    "\n",
    ")\n",
    "\n",
    "import gymnasium as _gymnasium_\n",
    "import numpy as _numpy_\n",
    "\n",
    "\n",
    "env = SpaceVariableContainer(\n",
    "    action_space=_gymnasium_.spaces.Dict({\n",
    "        'thermostat': VariableBox(\n",
    "            low=15., high=20.,\n",
    "            dtype=_numpy_.float32,\n",
    "            shape=(),\n",
    "        ).bind(Actuator.Ref(\n",
    "            type='Zone Temperature Control',\n",
    "            control_type='Heating Setpoint',\n",
    "            key='CORE_MID',\n",
    "        ))\n",
    "    }),    \n",
    "    observation_space=_gymnasium_.spaces.Dict({\n",
    "        'temperature': VariableBox(\n",
    "            low=-_numpy_.inf, high=+_numpy_.inf,\n",
    "            dtype=_numpy_.float32,\n",
    "            shape=(),\n",
    "        ).bind(OutputVariable.Ref(\n",
    "            type='People Air Temperature',\n",
    "            key='CORE_MID',\n",
    "        )),\n",
    "    }),\n",
    ").__attach__(world)\n",
    "\n",
    "@world.on('end_zone_timestep_after_zone_reporting')\n",
    "def _(_):\n",
    "    env.observation.value\n",
    "    env.observe()\n",
    "\n",
    "    # env.action.value = {\n",
    "    #     'thermostat': 20,\n",
    "    # }\n",
    "    # env.act(...)\n",
    "\n",
    "# world.on('end_zone_timestep_after_zone_reporting', ...)"
   ]
  },
  {
   "cell_type": "code",
   "execution_count": 3,
   "metadata": {},
   "outputs": [
    {
     "data": {
      "text/plain": [
       "<Task pending name='Task-5' coro=<World.run() running at /home/user@AD/lab/EnergyPlus-OOEP/packages/energyplus/ooep/utils/awaitables.py:81>>"
      ]
     },
     "execution_count": 3,
     "metadata": {},
     "output_type": "execute_result"
    }
   ],
   "source": [
    "world.awaitable.run()"
   ]
  },
  {
   "cell_type": "code",
   "execution_count": 8,
   "metadata": {},
   "outputs": [
    {
     "name": "stdout",
     "output_type": "stream",
     "text": [
      "1999-04-01 00:14:00+00:00 {'temperature': array(19.979559, dtype=float32)}\n",
      "1999-04-01 00:29:00+00:00 {'temperature': array(19.999172, dtype=float32)}\n",
      "1999-04-01 00:44:00+00:00 {'temperature': array(19.709154, dtype=float32)}\n",
      "1999-04-01 00:59:00+00:00 {'temperature': array(19.468616, dtype=float32)}\n",
      "1999-04-01 01:14:00+00:00 {'temperature': array(19.95597, dtype=float32)}\n",
      "1999-04-01 01:29:00+00:00 {'temperature': array(19.998209, dtype=float32)}\n",
      "1999-04-01 01:44:00+00:00 {'temperature': array(19.69606, dtype=float32)}\n",
      "1999-04-01 01:59:00+00:00 {'temperature': array(19.45612, dtype=float32)}\n",
      "1999-04-01 02:14:00+00:00 {'temperature': array(19.95487, dtype=float32)}\n",
      "1999-04-01 02:29:00+00:00 {'temperature': array(19.998095, dtype=float32)}\n"
     ]
    }
   ],
   "source": [
    "for _ in range(10):\n",
    "    ctx = await world.events['end_zone_timestep_after_zone_reporting'].awaitable(deferred=True)\n",
    "    print(world['wallclock'].value, env.observe())\n",
    "    env.act({'thermostat': 20})\n",
    "    ctx.ack()"
   ]
  },
  {
   "cell_type": "code",
   "execution_count": 5,
   "metadata": {},
   "outputs": [],
   "source": [
    "#event_ctx, = ctx.input\n",
    "#event_ctx.event"
   ]
  }
 ],
 "metadata": {
  "kernelspec": {
   "display_name": ".venv",
   "language": "python",
   "name": "python3"
  },
  "language_info": {
   "codemirror_mode": {
    "name": "ipython",
    "version": 3
   },
   "file_extension": ".py",
   "mimetype": "text/x-python",
   "name": "python",
   "nbconvert_exporter": "python",
   "pygments_lexer": "ipython3",
   "version": "3.11.2"
  }
 },
 "nbformat": 4,
 "nbformat_minor": 2
}
