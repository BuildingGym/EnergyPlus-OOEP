{
 "cells": [
  {
   "cell_type": "markdown",
   "metadata": {},
   "source": [
    "# 🤗 Get Started\n",
    "\n",
    "Before you start:\n",
    "- Make sure you have the following packages installed via `pip`:\n",
    "    - `energyplus-ooep`\n",
    "    - `energyplus-dataset`\n",
    "\n",
    "What you will learn in this chapter:\n",
    "- How to _configure_ and _run_ a simulator.\n",
    "- How to _add progress report_ to a running simulator."
   ]
  },
  {
   "cell_type": "markdown",
   "metadata": {},
   "source": [
    "## 🧳 Prepare"
   ]
  },
  {
   "cell_type": "markdown",
   "metadata": {},
   "source": [
    "Import `energyplus.ooep` into your program. Here, it's imported as `_ooep_`."
   ]
  },
  {
   "cell_type": "code",
   "execution_count": 1,
   "metadata": {},
   "outputs": [],
   "source": [
    "import energyplus.ooep as _ooep_"
   ]
  },
  {
   "cell_type": "markdown",
   "metadata": {},
   "source": [
    "Import `energyplus.dataset`.\n",
    "This will be used later to run the simulation as it contains relevant model and weather files."
   ]
  },
  {
   "cell_type": "code",
   "execution_count": 2,
   "metadata": {},
   "outputs": [],
   "source": [
    "from energyplus.dataset.basic import dataset as _epds_"
   ]
  },
  {
   "cell_type": "markdown",
   "metadata": {},
   "source": [
    "## 🛠️ Configure"
   ]
  },
  {
   "cell_type": "markdown",
   "metadata": {},
   "source": [
    "Create a simulator and configure it!"
   ]
  },
  {
   "cell_type": "markdown",
   "metadata": {},
   "source": [
    "Ready to go!\n",
    "\n",
    "But wait... Not so early!\n",
    "\n",
    "In order for a simulator to run, it needs to know its \n",
    "- Inputs: `_ooep_.World.Specs.Input`\n",
    "- Expected outputs: `_ooep_.World.Specs.Output`\n",
    "- Expected runtime behavior: `_ooep_.World.Specs.Runtime`\n",
    "\n",
    "For inputs, model and weather are the absolute mandatory, \n",
    "as they are the basis of a simulation environment.\n",
    "\n",
    "The rest is optional. So leave it for another time."
   ]
  },
  {
   "cell_type": "code",
   "execution_count": 3,
   "metadata": {},
   "outputs": [],
   "source": [
    "simulator = _ooep_.World(\n",
    "    input=_ooep_.World.Specs.Input(\n",
    "        input=(\n",
    "            _epds_.models / 'ASHRAE901_OfficeLarge_STD2019_Denver_Chiller205_Detailed.idf'\n",
    "        ),\n",
    "        weather=(_epds_.weathers / 'USA_CO_Denver-Aurora-Buckley.AFB.724695_TMY3.epw'),\n",
    "    )\n",
    ")"
   ]
  },
  {
   "cell_type": "markdown",
   "metadata": {},
   "source": [
    "## 💨 Run!"
   ]
  },
  {
   "cell_type": "code",
   "execution_count": 4,
   "metadata": {},
   "outputs": [
    {
     "name": "stderr",
     "output_type": "stream",
     "text": [
      "INFO:<energyplus.ooep.components.worlds.World object at 0x7f77b40d0410>:Performing Zone Sizing Simulation\n",
      "INFO:<energyplus.ooep.components.worlds.World object at 0x7f77b40d0410>:...for Sizing Period: #1 DENVER-AURORA-BUCKLEY.AFB_CO_USA ANN HTG 99.6% CONDNS DB\n",
      "INFO:<energyplus.ooep.components.worlds.World object at 0x7f77b40d0410>:Performing Zone Sizing Simulation\n",
      "INFO:<energyplus.ooep.components.worlds.World object at 0x7f77b40d0410>:...for Sizing Period: #2 DENVER-AURORA-BUCKLEY.AFB_CO_USA ANN CLG .4% CONDNS DB=>MWB\n",
      "INFO:<energyplus.ooep.components.worlds.World object at 0x7f77b40d0410>:Calculating System sizing\n",
      "INFO:<energyplus.ooep.components.worlds.World object at 0x7f77b40d0410>:...for Sizing Period: #1 DENVER-AURORA-BUCKLEY.AFB_CO_USA ANN HTG 99.6% CONDNS DB\n",
      "INFO:<energyplus.ooep.components.worlds.World object at 0x7f77b40d0410>:Calculating System sizing\n",
      "INFO:<energyplus.ooep.components.worlds.World object at 0x7f77b40d0410>:...for Sizing Period: #2 DENVER-AURORA-BUCKLEY.AFB_CO_USA ANN CLG .4% CONDNS DB=>MWB\n",
      "INFO:<energyplus.ooep.components.worlds.World object at 0x7f77b40d0410>:Adjusting Air System Sizing\n",
      "INFO:<energyplus.ooep.components.worlds.World object at 0x7f77b40d0410>:Adjusting Standard 62.1 Ventilation Sizing\n",
      "INFO:<energyplus.ooep.components.worlds.World object at 0x7f77b40d0410>:Initializing Simulation\n",
      "INFO:<energyplus.ooep.components.worlds.World object at 0x7f77b40d0410>:Reporting Surfaces\n",
      "INFO:<energyplus.ooep.components.worlds.World object at 0x7f77b40d0410>:Beginning Primary Simulation\n",
      "INFO:<energyplus.ooep.components.worlds.World object at 0x7f77b40d0410>:Starting Simulation at 01/01/2017 for RUNPERIOD 1\n",
      "INFO:<energyplus.ooep.components.worlds.World object at 0x7f77b40d0410>:Updating Shadowing Calculations, Start Date=01/31/2017\n",
      "INFO:<energyplus.ooep.components.worlds.World object at 0x7f77b40d0410>:Updating Detailed Daylighting Factors, Start Date=01/31\n",
      "INFO:<energyplus.ooep.components.worlds.World object at 0x7f77b40d0410>:Initializing New Environment Parameters\n",
      "INFO:<energyplus.ooep.components.worlds.World object at 0x7f77b40d0410>:Starting Simulation at 04/01/2007 for RUNPERIOD 2\n",
      "INFO:<energyplus.ooep.components.worlds.World object at 0x7f77b40d0410>:Continuing Simulation at 04/01/2007 for RUNPERIOD 2\n",
      "INFO:<energyplus.ooep.components.worlds.World object at 0x7f77b40d0410>:Initializing New Environment Parameters\n",
      "INFO:<energyplus.ooep.components.worlds.World object at 0x7f77b40d0410>:Starting Simulation at 07/01/2007 for RUNPERIOD 3\n",
      "INFO:<energyplus.ooep.components.worlds.World object at 0x7f77b40d0410>:Updating Shadowing Calculations, Start Date=07/31/2007\n",
      "INFO:<energyplus.ooep.components.worlds.World object at 0x7f77b40d0410>:Updating Detailed Daylighting Factors, Start Date=07/31\n",
      "INFO:<energyplus.ooep.components.worlds.World object at 0x7f77b40d0410>:Writing tabular output file results using comma format.\n",
      "INFO:<energyplus.ooep.components.worlds.World object at 0x7f77b40d0410>:Writing tabular output file results using HTML format.\n",
      "INFO:<energyplus.ooep.components.worlds.World object at 0x7f77b40d0410>:EnergyPlus Run Time=00hr 00min 13.14sec\n"
     ]
    }
   ],
   "source": [
    "_ = simulator.awaitable.run()"
   ]
  },
  {
   "cell_type": "markdown",
   "metadata": {},
   "source": [
    "And that's it! Your simulation should run in the background.\n",
    "You may notice that there isn't any useful user feedback yet.\n",
    "So let's go ahead and spice it up.\n",
    "Yeehaw!"
   ]
  },
  {
   "cell_type": "markdown",
   "metadata": {},
   "source": [
    "## 👀 Observe"
   ]
  },
  {
   "cell_type": "markdown",
   "metadata": {},
   "source": [
    "### ⏱️ Progress Tracking"
   ]
  },
  {
   "cell_type": "markdown",
   "metadata": {},
   "source": [
    "Put a progress bar here so we can track the simulation progress in real time."
   ]
  },
  {
   "cell_type": "code",
   "execution_count": 5,
   "metadata": {},
   "outputs": [
    {
     "data": {
      "application/vnd.jupyter.widget-view+json": {
       "model_id": "a8e432957ebc4f55ae5631ed6c2f1183",
       "version_major": 2,
       "version_minor": 0
      },
      "text/plain": [
       "  0%|          | 0/100 [00:00<?, ?it/s]"
      ]
     },
     "metadata": {},
     "output_type": "display_data"
    }
   ],
   "source": [
    "from energyplus.ooep.addons.logging import ProgressLogger\n",
    "\n",
    "# add progress provider\n",
    "_ = simulator.add(ProgressLogger())"
   ]
  },
  {
   "cell_type": "markdown",
   "metadata": {},
   "source": [
    "### 📝 Logging"
   ]
  },
  {
   "cell_type": "markdown",
   "metadata": {},
   "source": [
    "Optionally, if progress bars aren't enough, there's also the good old standard text output.\n",
    "Activate it by adding a `MessageLogger` instance to the `simulator` and setting the global log level\n",
    "to `INFO`."
   ]
  },
  {
   "cell_type": "code",
   "execution_count": 6,
   "metadata": {},
   "outputs": [
    {
     "name": "stdout",
     "output_type": "stream",
     "text": [
      "EnergyPlus Starting\n",
      "EnergyPlus, Version 23.2.0-7636e6b3e9, YMD=2024.06.20 10:38\n"
     ]
    },
    {
     "name": "stdout",
     "output_type": "stream",
     "text": [
      "Initializing Response Factors\n",
      "Calculating CTFs for \"INTERIORFURNISHINGS\"\n",
      "Calculating CTFs for \"DROPCEILING\"\n",
      "Calculating CTFs for \"INT_WALL\"\n",
      "Calculating CTFs for \"EXT_SLAB_8IN_WITH_CARPET\"\n",
      "Calculating CTFs for \"INT_SLAB_FLOOR\"\n",
      "Calculating CTFs for \"NONRES_ROOF\"\n",
      "Calculating CTFs for \"NONRES_EXT_WALL\"\n",
      "Calculating CTFs for \"BASEMENT_WALL_EAST_CFACTOR\"\n",
      "Calculating CTFs for \"BASEMENT_WALL_SOUTH_CFACTOR\"\n",
      "Calculating CTFs for \"BASEMENT_WALL_NORTH_CFACTOR\"\n",
      "Calculating CTFs for \"DATACENTER_BASEMENT_ZN_6_WALL_NORTH_CFACTOR\"\n",
      "Calculating CTFs for \"DATACENTER_BASEMENT_ZN_6_WALL_SOUTH_CFACTOR\"\n",
      "Calculating CTFs for \"DATACENTER_BASEMENT_ZN_6_WALL_WEST_CFACTOR\"\n",
      "Initializing Window Optical Properties\n",
      "Initializing Solar Calculations\n",
      "Allocate Solar Module Arrays\n",
      "Initializing Zone and Enclosure Report Variables\n",
      "Initializing Surface (Shading) Report Variables\n",
      "Computing Interior Solar Absorption Factors\n",
      "Determining Shadowing Combinations\n",
      "Computing Window Shade Absorption Factors\n",
      "Proceeding with Initializing Solar Calculations\n",
      "Initializing Surfaces\n",
      "Initializing Outdoor environment for Surfaces\n",
      "Setting up Surface Reporting Variables\n",
      "Initializing Temperature and Flux Histories\n",
      "Initializing Window Shading\n",
      "Computing Interior Absorption Factors\n",
      "Computing Interior Diffuse Solar Absorption Factors\n",
      "Initializing Solar Heat Gains\n",
      "Initializing Internal Heat Gains\n",
      "Initializing Interior Solar Distribution\n",
      "Initializing Interior Convection Coefficients\n",
      "Gathering Information for Predefined Reporting\n",
      "Completed Initializing Surface Heat Balance\n",
      "Calculate Outside Surface Heat Balance\n",
      "Calculate Inside Surface Heat Balance\n",
      "Calculate Air Heat Balance\n",
      "Initializing HVAC\n",
      "Warming up\n",
      "Calculating Detailed Daylighting Factors, Start Date=12/21\n",
      "Warming up\n",
      "Warming up\n",
      "Warming up\n",
      "Warming up\n",
      "Warming up\n",
      "Warming up\n",
      "Performing Zone Sizing Simulation\n",
      "...for Sizing Period: #1 DENVER-AURORA-BUCKLEY.AFB_CO_USA ANN HTG 99.6% CONDNS DB\n",
      "Warming up\n",
      "Calculating Detailed Daylighting Factors, Start Date=07/21\n",
      "Warming up\n",
      "Warming up\n",
      "Warming up\n",
      "Warming up\n",
      "Warming up\n",
      "Performing Zone Sizing Simulation\n",
      "...for Sizing Period: #2 DENVER-AURORA-BUCKLEY.AFB_CO_USA ANN CLG .4% CONDNS DB=>MWB\n",
      "Calculating System sizing\n",
      "...for Sizing Period: #1 DENVER-AURORA-BUCKLEY.AFB_CO_USA ANN HTG 99.6% CONDNS DB\n",
      "Calculating System sizing\n",
      "...for Sizing Period: #2 DENVER-AURORA-BUCKLEY.AFB_CO_USA ANN CLG .4% CONDNS DB=>MWB\n",
      "Adjusting Air System Sizing\n",
      "Adjusting Standard 62.1 Ventilation Sizing\n",
      "Initializing Simulation\n",
      "Reporting Surfaces\n",
      "Beginning Primary Simulation\n",
      "Initializing New Environment Parameters\n",
      "Warming up {1}\n",
      "Calculating Detailed Daylighting Factors, Start Date=01/01\n",
      "Warming up {2}\n",
      "Warming up {3}\n",
      "Warming up {4}\n",
      "Warming up {5}\n",
      "Warming up {6}\n",
      "Warming up {7}\n",
      "Warming up {8}\n",
      "Warming up {9}\n",
      "Warming up {10}\n",
      "Warming up {11}\n",
      "Warming up {12}\n",
      "Warming up {13}\n",
      "Starting Simulation at 01/01/2017 for RUNPERIOD 1\n",
      "Updating Shadowing Calculations, Start Date=01/31/2017\n",
      "Updating Detailed Daylighting Factors, Start Date=01/31\n",
      "Initializing New Environment Parameters\n",
      "Warming up {1}\n",
      "Calculating Detailed Daylighting Factors, Start Date=04/01\n",
      "Warming up {2}\n",
      "Warming up {3}\n",
      "Warming up {4}\n",
      "Warming up {5}\n",
      "Warming up {6}\n",
      "Warming up {7}\n",
      "Warming up {8}\n",
      "Warming up {9}\n",
      "Warming up {10}\n",
      "Warming up {11}\n",
      "Warming up {12}\n",
      "Warming up {13}\n",
      "Warming up {14}\n",
      "Warming up {15}\n",
      "Starting Simulation at 04/01/2007 for RUNPERIOD 2\n",
      "Continuing Simulation at 04/01/2007 for RUNPERIOD 2\n",
      "Initializing New Environment Parameters\n",
      "Warming up {1}\n",
      "Calculating Detailed Daylighting Factors, Start Date=07/01\n",
      "Warming up {2}\n",
      "Warming up {3}\n",
      "Warming up {4}\n",
      "Warming up {5}\n",
      "Warming up {6}\n",
      "Warming up {7}\n",
      "Warming up {8}\n",
      "Warming up {9}\n",
      "Warming up {10}\n",
      "Starting Simulation at 07/01/2007 for RUNPERIOD 3\n",
      "Updating Shadowing Calculations, Start Date=07/31/2007\n",
      "Updating Detailed Daylighting Factors, Start Date=07/31\n",
      "Writing tabular output file results using comma format.\n",
      "Writing tabular output file results using HTML format.\n"
     ]
    },
    {
     "name": "stderr",
     "output_type": "stream",
     "text": [
      "EnergyPlus Completed Successfully.\n"
     ]
    },
    {
     "name": "stdout",
     "output_type": "stream",
     "text": [
      "EnergyPlus Run Time=00hr 00min 13.14sec\n"
     ]
    }
   ],
   "source": [
    "import logging as _logging_\n",
    "from energyplus.ooep.addons.logging import MessageLogger\n",
    "\n",
    "# configure the global log level\n",
    "_logging_.basicConfig(level='INFO')\n",
    "# add log provider\n",
    "_ = simulator.add(MessageLogger())"
   ]
  },
  {
   "cell_type": "markdown",
   "metadata": {},
   "source": [
    "## 🤔 Reflect"
   ]
  },
  {
   "cell_type": "markdown",
   "metadata": {},
   "source": [
    "As you may have noticed, `MessageLogger` and `ProgressLogger` are imported and added to the `simulator` as addons.\n",
    "\n",
    "Addons may be added at any point - either before you kick off the simulation or during. \n",
    "It's totally up to you and what works best for your setup! \n",
    "\n",
    "Just a heads-up, though: some addons need to be added right at the start to wake up properly. \n",
    "If you plug them in halfway through, you might not see their magic until the next round of your simulation.\n",
    "\n",
    "So what are addons? Learn more about addons here TODO!"
   ]
  }
 ],
 "metadata": {
  "kernelspec": {
   "display_name": "Python 3 (ipykernel)",
   "language": "python",
   "name": "python3"
  },
  "language_info": {
   "codemirror_mode": {
    "name": "ipython",
    "version": 3
   },
   "file_extension": ".py",
   "mimetype": "text/x-python",
   "name": "python",
   "nbconvert_exporter": "python",
   "pygments_lexer": "ipython3",
   "version": "3.11.2"
  }
 },
 "nbformat": 4,
 "nbformat_minor": 4
}
