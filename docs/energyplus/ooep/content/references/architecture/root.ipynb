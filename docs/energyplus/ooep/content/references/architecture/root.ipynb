{
 "cells": [
  {
   "cell_type": "markdown",
   "metadata": {},
   "source": [
    "# 🏛️ Architecture"
   ]
  },
  {
   "cell_type": "markdown",
   "metadata": {},
   "source": [
    "## Components\n",
    "\n",
    "A component-oriented pattern is used to model \n",
    "the relationship between different parts of a system.\n",
    "\n",
    "The relationship is relative and local between objects.\n",
    "A relationship consists of a *Component System* and a *Component*, under the following rules:\n",
    "- A *Component System* shall contain and manage multiple *Component*s.\n",
    "- A *Component* shall only associate one *Component System*.\n",
    "- A *Component* may allow its associated *Component System* to be displaced with another compatible *Component System*.\n",
    "- A *Component* may interact with its associated *Component System* by changing its state. \n",
    "\n",
    "```{mermaid}\n",
    "---\n",
    "caption: Component Relationship\n",
    "---\n",
    "\n",
    "graph\n",
    "    component_system(((\"Component System\")))\n",
    "    component_0((\"Component\"))\n",
    "    component_1((\"Component\"))\n",
    "    component_2((\"Component\"))\n",
    "\n",
    "    component_system --> component_0\n",
    "    component_system --> component_1\n",
    "    component_system --> component_2\n",
    "\n",
    "    component_0 -.-> component_system\n",
    "    component_1 -.-> component_system\n",
    "    component_2 -.-> component_system\n",
    "```\n",
    "\n",
    "Now, translate this into a representation for real-time control systems:\n",
    "\n",
    "```{mermaid}\n",
    "---\n",
    "caption: Component Relationship\n",
    "---\n",
    "\n",
    "graph LR\n",
    "    subgraph System[\"🌎 System\"]\n",
    "        VarSys[[\"🔢 Variable Subsystem\"]]\n",
    "        EvSys[[\"🔔 Event Subsystem\"]]\n",
    "        AnySys[\"&hellip;\"]\n",
    "    end\n",
    "\n",
    "    Actor[\"🤔 Actor\"] ---> System ---> Actor\n",
    "```\n"
   ]
  },
  {
   "cell_type": "markdown",
   "metadata": {},
   "source": [
    "## Callbacks\n",
    "\n",
    "TODO"
   ]
  },
  {
   "cell_type": "markdown",
   "metadata": {},
   "source": [
    "## Variables\n",
    "\n",
    "TODO"
   ]
  }
 ],
 "metadata": {
  "language_info": {
   "name": "python"
  }
 },
 "nbformat": 4,
 "nbformat_minor": 2
}
