{
 "cells": [
  {
   "cell_type": "markdown",
   "metadata": {},
   "source": [
    "# 🔔 Chapter 3: Events"
   ]
  },
  {
   "cell_type": "markdown",
   "metadata": {},
   "source": [
    "Keep me updated - Get [in the \"loop\"](https://wiktionary.org/wiki/in_the_loop), [literally](https://wikipedia.org/wiki/Event_loop).\n",
    "\n",
    "```python\n",
    "system.events.on('message', lambda event: print('🥳', event))\n",
    "\n",
    "@system.on('message')\n",
    "def _(event): print('😋', event)\n",
    "\n",
    "@system.events['message'].on\n",
    "def _(event): print('😎', event)\n",
    "```"
   ]
  }
 ],
 "metadata": {
  "language_info": {
   "name": "python"
  }
 },
 "nbformat": 4,
 "nbformat_minor": 2
}
