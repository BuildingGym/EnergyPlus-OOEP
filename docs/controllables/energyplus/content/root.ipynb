{
 "cells": [
  {
   "cell_type": "markdown",
   "metadata": {},
   "source": [
    "# Introduction\n",
    "\n",
    "A progressive simulation/control system framework.\n",
    "Event-driven, object-oriented, *human-centric*.\n",
    "\n",
    "- `controllables.energyplus`: \n",
    "(Formerly EnergyPlus-OOEP, Object-Oriented EnergyPlus&trade;) \n",
    "is a `controllables` adapter for [_EnergyPlus_](https://energyplus.net)&trade;."
   ]
  },
  {
   "cell_type": "markdown",
   "metadata": {},
   "source": []
  }
 ],
 "metadata": {
  "language_info": {
   "name": "python"
  }
 },
 "nbformat": 4,
 "nbformat_minor": 2
}
