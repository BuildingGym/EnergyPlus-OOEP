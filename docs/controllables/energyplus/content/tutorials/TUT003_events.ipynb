{
 "cells": [
  {
   "cell_type": "markdown",
   "metadata": {},
   "source": [
    "# 🔔 Chapter 3: Events\n",
    "\n",
    "Before you start:\n",
    "- Make sure you have completed [](TUT000_setup.ipynb).\n",
    "\n",
    "What you will learn in this chapter:\n",
    "- How to _interact_ with events."
   ]
  },
  {
   "cell_type": "code",
   "execution_count": 1,
   "metadata": {},
   "outputs": [],
   "source": [
    "from controllables.energyplus import examples\n",
    "\n",
    "system = examples.systems.X1ZoneEvapCooler(repeat=True)"
   ]
  },
  {
   "cell_type": "code",
   "execution_count": 2,
   "metadata": {},
   "outputs": [
    {
     "data": {
      "application/vnd.jupyter.widget-view+json": {
       "model_id": "e938a370e00c4c8a81646d5b058efb0e",
       "version_major": 2,
       "version_minor": 0
      },
      "text/plain": [
       "  0%|          | 0/100 [00:00<?, ?it/s]"
      ]
     },
     "metadata": {},
     "output_type": "display_data"
    },
    {
     "data": {
      "text/plain": [
       "<controllables.energyplus.systems.System at 0x7f09c2bc9610>"
      ]
     },
     "execution_count": 2,
     "metadata": {},
     "output_type": "execute_result"
    }
   ],
   "source": [
    "system.add('logging:progress').start()"
   ]
  },
  {
   "cell_type": "code",
   "execution_count": 3,
   "metadata": {},
   "outputs": [
    {
     "name": "stdout",
     "output_type": "stream",
     "text": [
      "ExecutionContext(vars=Arguments(Context(event=<controllables.energyplus.events.Event object at 0x7f09c1842890>), ), ack=<controllables.core.callables.ExecutionContext.Ack object at 0x7f09c21c9a10>)\n",
      "ExecutionContext(vars=Arguments(Context(event=<controllables.energyplus.events.Event object at 0x7f09c1842890>), ), ack=<controllables.core.callables.ExecutionContext.Ack object at 0x7f09c184dd10>)\n",
      "ExecutionContext(vars=Arguments(Context(event=<controllables.energyplus.events.Event object at 0x7f09c1842890>), ), ack=<controllables.core.callables.ExecutionContext.Ack object at 0x7f09c184f690>)\n",
      "ExecutionContext(vars=Arguments(Context(event=<controllables.energyplus.events.Event object at 0x7f09c1842890>), ), ack=<controllables.core.callables.ExecutionContext.Ack object at 0x7f09c184f890>)\n",
      "ExecutionContext(vars=Arguments(Context(event=<controllables.energyplus.events.Event object at 0x7f09c1842890>), ), ack=<controllables.core.callables.ExecutionContext.Ack object at 0x7f09c184fb10>)\n",
      "ExecutionContext(vars=Arguments(Context(event=<controllables.energyplus.events.Event object at 0x7f09c1842890>), ), ack=<controllables.core.callables.ExecutionContext.Ack object at 0x7f09c184fd10>)\n",
      "ExecutionContext(vars=Arguments(Context(event=<controllables.energyplus.events.Event object at 0x7f09c1842890>), ), ack=<controllables.core.callables.ExecutionContext.Ack object at 0x7f09c184fb50>)\n",
      "ExecutionContext(vars=Arguments(Context(event=<controllables.energyplus.events.Event object at 0x7f09c1842890>), ), ack=<controllables.core.callables.ExecutionContext.Ack object at 0x7f09c184f790>)\n",
      "ExecutionContext(vars=Arguments(Context(event=<controllables.energyplus.events.Event object at 0x7f09c1842890>), ), ack=<controllables.core.callables.ExecutionContext.Ack object at 0x7f09c184f550>)\n",
      "ExecutionContext(vars=Arguments(Context(event=<controllables.energyplus.events.Event object at 0x7f09c1842890>), ), ack=<controllables.core.callables.ExecutionContext.Ack object at 0x7f09c184f510>)\n",
      "ExecutionContext(vars=Arguments(Context(event=<controllables.energyplus.events.Event object at 0x7f09c1842890>), ), ack=<controllables.core.callables.ExecutionContext.Ack object at 0x7f09c184fd50>)\n",
      "ExecutionContext(vars=Arguments(Context(event=<controllables.energyplus.events.Event object at 0x7f09c1842890>), ), ack=<controllables.core.callables.ExecutionContext.Ack object at 0x7f09c1850150>)\n",
      "ExecutionContext(vars=Arguments(Context(event=<controllables.energyplus.events.Event object at 0x7f09c1842890>), ), ack=<controllables.core.callables.ExecutionContext.Ack object at 0x7f09c18503d0>)\n",
      "ExecutionContext(vars=Arguments(Context(event=<controllables.energyplus.events.Event object at 0x7f09c1842890>), ), ack=<controllables.core.callables.ExecutionContext.Ack object at 0x7f09c1850590>)\n",
      "ExecutionContext(vars=Arguments(Context(event=<controllables.energyplus.events.Event object at 0x7f09c1842890>), ), ack=<controllables.core.callables.ExecutionContext.Ack object at 0x7f09c1850850>)\n",
      "ExecutionContext(vars=Arguments(Context(event=<controllables.energyplus.events.Event object at 0x7f09c1842890>), ), ack=<controllables.core.callables.ExecutionContext.Ack object at 0x7f09c1850a90>)\n",
      "ExecutionContext(vars=Arguments(Context(event=<controllables.energyplus.events.Event object at 0x7f09c1842890>), ), ack=<controllables.core.callables.ExecutionContext.Ack object at 0x7f09c1850d90>)\n",
      "ExecutionContext(vars=Arguments(Context(event=<controllables.energyplus.events.Event object at 0x7f09c1842890>), ), ack=<controllables.core.callables.ExecutionContext.Ack object at 0x7f09c1850fd0>)\n",
      "ExecutionContext(vars=Arguments(Context(event=<controllables.energyplus.events.Event object at 0x7f09c1842890>), ), ack=<controllables.core.callables.ExecutionContext.Ack object at 0x7f09c18512d0>)\n",
      "ExecutionContext(vars=Arguments(Context(event=<controllables.energyplus.events.Event object at 0x7f09c1842890>), ), ack=<controllables.core.callables.ExecutionContext.Ack object at 0x7f09c1851510>)\n"
     ]
    }
   ],
   "source": [
    "for _ in range(10):\n",
    "    ctx = system.events['timestep'].wait()\n",
    "    print(ctx)\n",
    "\n",
    "    with system.events['timestep'].wait(deferred=True) as ctx:\n",
    "        print(ctx)"
   ]
  },
  {
   "cell_type": "markdown",
   "metadata": {},
   "source": [
    "TODO more info see `controllables-core`"
   ]
  },
  {
   "cell_type": "code",
   "execution_count": 4,
   "metadata": {},
   "outputs": [
    {
     "data": {
      "text/plain": [
       "<controllables.energyplus.systems.System at 0x7f09c2bc9610>"
      ]
     },
     "execution_count": 4,
     "metadata": {},
     "output_type": "execute_result"
    }
   ],
   "source": [
    "system.stop()"
   ]
  }
 ],
 "metadata": {
  "kernelspec": {
   "display_name": ".venv",
   "language": "python",
   "name": "python3"
  },
  "language_info": {
   "codemirror_mode": {
    "name": "ipython",
    "version": 3
   },
   "file_extension": ".py",
   "mimetype": "text/x-python",
   "name": "python",
   "nbconvert_exporter": "python",
   "pygments_lexer": "ipython3",
   "version": "3.11.2"
  }
 },
 "nbformat": 4,
 "nbformat_minor": 2
}
