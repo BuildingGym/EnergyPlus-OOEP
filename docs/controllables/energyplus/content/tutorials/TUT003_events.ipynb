{
 "cells": [
  {
   "cell_type": "markdown",
   "metadata": {},
   "source": [
    "# 🔔 Chapter 3: Events\n",
    "\n",
    "Before you start:\n",
    "- Make sure you have completed [](TUT000_setup.ipynb).\n",
    "\n",
    "What you will learn in this chapter:\n",
    "- How to _interact_ with events."
   ]
  },
  {
   "cell_type": "code",
   "execution_count": 1,
   "metadata": {},
   "outputs": [],
   "source": [
    "from controllables.energyplus import examples\n",
    "\n",
    "system = examples.systems.X1ZoneEvapCooler(repeat=True)"
   ]
  },
  {
   "cell_type": "code",
   "execution_count": 2,
   "metadata": {},
   "outputs": [
    {
     "name": "stderr",
     "output_type": "stream",
     "text": [
      "/home/AD/user/lab/controllables-core/.venv/lib/python3.11/site-packages/tqdm/auto.py:21: TqdmWarning: IProgress not found. Please update jupyter and ipywidgets. See https://ipywidgets.readthedocs.io/en/stable/user_install.html\n",
      "  from .autonotebook import tqdm as notebook_tqdm\n",
      "  0%|          | 0/100.0 [00:00<?, ?it/s]"
     ]
    },
    {
     "data": {
      "text/plain": [
       "System({'building': PosixPath('/home/AD/user/lab/controllables-core/.venv/lib/python3.11/site-packages/energyplus/dataset/basic/assets/models/1ZoneEvapCooler.idf'), 'weather': PosixPath('/home/AD/user/lab/controllables-core/.venv/lib/python3.11/site-packages/energyplus/dataset/basic/assets/weathers/USA_CO_Denver-Aurora-Buckley.AFB.724695_TMY3.epw'), 'repeat': True})"
      ]
     },
     "execution_count": 2,
     "metadata": {},
     "output_type": "execute_result"
    },
    {
     "name": "stderr",
     "output_type": "stream",
     "text": [
      "  0%|          | 0/100.0 [00:00<?, ?it/s, EnergyPlus, Version 23.2.0-7636e6b3e9, YMD=2025.01.22 14:39]"
     ]
    },
    {
     "name": "stderr",
     "output_type": "stream",
     "text": [
      " 63%|██████▎   | 63.0/100.0 [00:06<00:00, 64.50it/s, Continuing Simulation at 08/09/2013 for RUN PERIOD 1]                       "
     ]
    }
   ],
   "source": [
    "system.add('logging:progress').start()"
   ]
  },
  {
   "cell_type": "code",
   "execution_count": null,
   "metadata": {},
   "outputs": [
    {
     "name": "stderr",
     "output_type": "stream",
     "text": [
      "  0%|          | 0.0/100.0 [00:00<?, ?it/s, Starting Simulation at 12/21 for DENVER CENTENNIAL ANN HTG 99.6% CONDNS DB]"
     ]
    },
    {
     "name": "stdout",
     "output_type": "stream",
     "text": [
      "ExecutionContext(vars=Arguments(Context(event=<controllables.energyplus.events.Event object at 0x7fb46cdab010>), ), ack=<controllables.core.callables.ExecutionContext.Ack object at 0x7fb46cdac750>)\n",
      "ExecutionContext(vars=Arguments(Context(event=<controllables.energyplus.events.Event object at 0x7fb46cdab010>), ), ack=<controllables.core.callables.ExecutionContext.Ack object at 0x7fb46cdb6490>)\n",
      "ExecutionContext(vars=Arguments(Context(event=<controllables.energyplus.events.Event object at 0x7fb46cdab010>), ), ack=<controllables.core.callables.ExecutionContext.Ack object at 0x7fb46cdae490>)\n",
      "ExecutionContext(vars=Arguments(Context(event=<controllables.energyplus.events.Event object at 0x7fb46cdab010>), ), ack=<controllables.core.callables.ExecutionContext.Ack object at 0x7fb46cdb6490>)\n",
      "ExecutionContext(vars=Arguments(Context(event=<controllables.energyplus.events.Event object at 0x7fb46cdab010>), ), ack=<controllables.core.callables.ExecutionContext.Ack object at 0x7fb46cdae250>)\n",
      "ExecutionContext(vars=Arguments(Context(event=<controllables.energyplus.events.Event object at 0x7fb46cdab010>), ), ack=<controllables.core.callables.ExecutionContext.Ack object at 0x7fb46cdb5a90>)\n",
      "ExecutionContext(vars=Arguments(Context(event=<controllables.energyplus.events.Event object at 0x7fb46cdab010>), ), ack=<controllables.core.callables.ExecutionContext.Ack object at 0x7fb46cda8cd0>)\n",
      "ExecutionContext(vars=Arguments(Context(event=<controllables.energyplus.events.Event object at 0x7fb46cdab010>), ), ack=<controllables.core.callables.ExecutionContext.Ack object at 0x7fb46cdb6490>)\n",
      "ExecutionContext(vars=Arguments(Context(event=<controllables.energyplus.events.Event object at 0x7fb46cdab010>), ), ack=<controllables.core.callables.ExecutionContext.Ack object at 0x7fb46cdb6550>)\n",
      "ExecutionContext(vars=Arguments(Context(event=<controllables.energyplus.events.Event object at 0x7fb46cdab010>), ), ack=<controllables.core.callables.ExecutionContext.Ack object at 0x7fb46cdb6010>)\n"
     ]
    },
    {
     "name": "stderr",
     "output_type": "stream",
     "text": [
      " 28%|██▊       | 28.000000000000004/100.0 [00:09<00:01, 55.15it/s, Continuing Simulation at 04/11/2013 for RUN PERIOD 1]         "
     ]
    }
   ],
   "source": [
    "for _ in range(5):\n",
    "    ctx = system.events['timestep'].wait()\n",
    "    # TODO\n",
    "    #ctx = system.events['timestep'].cancel_on(system.idle).wait()\n",
    "    print(ctx)\n",
    "\n",
    "    with system.events['timestep'].wait(deferred=True) as ctx:\n",
    "        print(ctx)"
   ]
  },
  {
   "cell_type": "markdown",
   "metadata": {},
   "source": [
    "TODO more info see `controllables-core`"
   ]
  },
  {
   "cell_type": "code",
   "execution_count": 4,
   "metadata": {},
   "outputs": [
    {
     "name": "stderr",
     "output_type": "stream",
     "text": [
      " 29%|██▉       | 28.999999999999996/100.0 [00:09<00:01, 55.15it/s, EnergyPlus Run Time=00hr 00min  0.56sec]               "
     ]
    },
    {
     "data": {
      "text/plain": [
       "System({'building': PosixPath('/home/AD/user/lab/controllables-core/.venv/lib/python3.11/site-packages/energyplus/dataset/basic/assets/models/1ZoneEvapCooler.idf'), 'weather': PosixPath('/home/AD/user/lab/controllables-core/.venv/lib/python3.11/site-packages/energyplus/dataset/basic/assets/weathers/USA_CO_Denver-Aurora-Buckley.AFB.724695_TMY3.epw'), 'repeat': True})"
      ]
     },
     "execution_count": 4,
     "metadata": {},
     "output_type": "execute_result"
    }
   ],
   "source": [
    "system.stop().wait()"
   ]
  },
  {
   "cell_type": "markdown",
   "metadata": {},
   "source": [
    "TODO"
   ]
  },
  {
   "cell_type": "code",
   "execution_count": 5,
   "metadata": {},
   "outputs": [
    {
     "data": {
      "text/plain": [
       "System({'building': PosixPath('/home/AD/user/lab/controllables-core/.venv/lib/python3.11/site-packages/energyplus/dataset/basic/assets/models/1ZoneEvapCooler.idf'), 'weather': PosixPath('/home/AD/user/lab/controllables-core/.venv/lib/python3.11/site-packages/energyplus/dataset/basic/assets/weathers/USA_CO_Denver-Aurora-Buckley.AFB.724695_TMY3.epw'), 'repeat': True})"
      ]
     },
     "execution_count": 5,
     "metadata": {},
     "output_type": "execute_result"
    },
    {
     "name": "stderr",
     "output_type": "stream",
     "text": [
      " 91%|█████████ | 91.0/100.0 [00:14<00:00, 58.42it/s, Continuing Simulation at 11/17/2013 for RUN PERIOD 1]                       "
     ]
    }
   ],
   "source": [
    "system.start()"
   ]
  },
  {
   "cell_type": "code",
   "execution_count": 6,
   "metadata": {},
   "outputs": [
    {
     "name": "stdout",
     "output_type": "stream",
     "text": [
      "(ExecutionContext(vars=Arguments(Context(event=<controllables.energyplus.events.Event object at 0x7f3ac8367210>), ), ack=<controllables.core.callables.ExecutionContext.Ack object at 0x7f3ac83f0490>), 0)\n",
      "(ExecutionContext(vars=Arguments(Context(event=<controllables.energyplus.events.Event object at 0x7f3ac8367210>), ), ack=<controllables.core.callables.ExecutionContext.Ack object at 0x7f3ac83f1bd0>), 1)\n",
      "(ExecutionContext(vars=Arguments(Context(event=<controllables.energyplus.events.Event object at 0x7f3ac8367210>), ), ack=<controllables.core.callables.ExecutionContext.Ack object at 0x7f3ac83ee690>), 2)\n",
      "(ExecutionContext(vars=Arguments(Context(event=<controllables.energyplus.events.Event object at 0x7f3ac8367210>), ), ack=<controllables.core.callables.ExecutionContext.Ack object at 0x7f3ac83fead0>), 3)\n",
      "(ExecutionContext(vars=Arguments(Context(event=<controllables.energyplus.events.Event object at 0x7f3ac8367210>), ), ack=<controllables.core.callables.ExecutionContext.Ack object at 0x7f3ac83e99d0>), 4)\n"
     ]
    },
    {
     "name": "stderr",
     "output_type": "stream",
     "text": [
      " 12%|█▏        | 12.0/100.0 [00:17<00:01, 49.23it/s, Continuing Simulation at 02/10/2013 for RUN PERIOD 1]                       "
     ]
    }
   ],
   "source": [
    "for ctx in zip(system.events['timestep'].queue(end=system.events['end']), range(5)):\n",
    "    print(ctx)"
   ]
  },
  {
   "cell_type": "code",
   "execution_count": 7,
   "metadata": {},
   "outputs": [
    {
     "name": "stderr",
     "output_type": "stream",
     "text": [
      " 48%|████▊     | 48.0/100.0 [00:19<00:00, 56.45it/s, Continuing Simulation at 06/10/2013 for RUN PERIOD 1]                       "
     ]
    }
   ],
   "source": [
    "for ctx in (system.events['timestep'].queue(end=system['running'].when(False))):\n",
    "    pass"
   ]
  },
  {
   "cell_type": "code",
   "execution_count": 8,
   "metadata": {},
   "outputs": [
    {
     "name": "stderr",
     "output_type": "stream",
     "text": [
      " 49%|████▉     | 49.0/100.0 [00:19<00:00, 56.45it/s, EnergyPlus Run Time=00hr 00min  0.89sec]               "
     ]
    },
    {
     "data": {
      "text/plain": [
       "System({'building': PosixPath('/home/AD/user/lab/controllables-core/.venv/lib/python3.11/site-packages/energyplus/dataset/basic/assets/models/1ZoneEvapCooler.idf'), 'weather': PosixPath('/home/AD/user/lab/controllables-core/.venv/lib/python3.11/site-packages/energyplus/dataset/basic/assets/weathers/USA_CO_Denver-Aurora-Buckley.AFB.724695_TMY3.epw'), 'repeat': True})"
      ]
     },
     "execution_count": 8,
     "metadata": {},
     "output_type": "execute_result"
    },
    {
     "name": "stderr",
     "output_type": "stream",
     "text": [
      "100%|██████████| 100.0/100.0 [00:29<00:00, 56.45it/s, EnergyPlus Run Time=00hr 00min  0.89sec]"
     ]
    }
   ],
   "source": [
    "system.stop().wait()"
   ]
  },
  {
   "cell_type": "code",
   "execution_count": null,
   "metadata": {},
   "outputs": [],
   "source": []
  }
 ],
 "metadata": {
  "kernelspec": {
   "display_name": ".venv",
   "language": "python",
   "name": "python3"
  },
  "language_info": {
   "codemirror_mode": {
    "name": "ipython",
    "version": 3
   },
   "file_extension": ".py",
   "mimetype": "text/x-python",
   "name": "python",
   "nbconvert_exporter": "python",
   "pygments_lexer": "ipython3",
   "version": "3.11.2"
  }
 },
 "nbformat": 4,
 "nbformat_minor": 2
}
