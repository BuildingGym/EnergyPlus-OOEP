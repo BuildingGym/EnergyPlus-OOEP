{
 "cells": [
  {
   "cell_type": "markdown",
   "metadata": {},
   "source": [
    "# 🎼 Chapter 1: Models\n",
    "\n",
    "Before you start:\n",
    "- Make sure you have completed [](TUT000_setup.ipynb).\n",
    "\n",
    "What you will learn in this chapter:\n",
    "- How to _use_ the builtin example models.\n",
    "- How to _modify_ models and use them to _build_ and _run_ a system."
   ]
  },
  {
   "cell_type": "code",
   "execution_count": 1,
   "metadata": {},
   "outputs": [],
   "source": [
    "from controllables.energyplus import BuildingModel, System, examples\n",
    "\n",
    "model = BuildingModel.from_file(\n",
    "    examples.files.buildings.X1ZoneEvapCooler\n",
    ")"
   ]
  },
  {
   "cell_type": "markdown",
   "metadata": {},
   "source": [
    "TODO seealso https://energyplus.readthedocs.io/en/latest/schema.html"
   ]
  },
  {
   "cell_type": "code",
   "execution_count": 2,
   "metadata": {},
   "outputs": [],
   "source": [
    "model['Timestep']['Timestep 1']['number_of_timesteps_per_hour'] = 60"
   ]
  },
  {
   "cell_type": "code",
   "execution_count": 3,
   "metadata": {},
   "outputs": [
    {
     "data": {
      "application/vnd.jupyter.widget-view+json": {
       "model_id": "3642c6b942d6413db83c04a1cc227108",
       "version_major": 2,
       "version_minor": 0
      },
      "text/plain": [
       "  0%|          | 0/100 [00:00<?, ?it/s]"
      ]
     },
     "metadata": {},
     "output_type": "display_data"
    },
    {
     "data": {
      "text/plain": [
       "<controllables.energyplus.systems.System at 0x7fb793f0ead0>"
      ]
     },
     "execution_count": 3,
     "metadata": {},
     "output_type": "execute_result"
    }
   ],
   "source": [
    "System(\n",
    "    building=model,\n",
    "    weather=examples.files.weathers.DenverAuroraBuckleyAFB,\n",
    ").add('logging:progress').start()"
   ]
  }
 ],
 "metadata": {
  "kernelspec": {
   "display_name": ".venv",
   "language": "python",
   "name": "python3"
  },
  "language_info": {
   "codemirror_mode": {
    "name": "ipython",
    "version": 3
   },
   "file_extension": ".py",
   "mimetype": "text/x-python",
   "name": "python",
   "nbconvert_exporter": "python",
   "pygments_lexer": "ipython3",
   "version": "3.11.2"
  }
 },
 "nbformat": 4,
 "nbformat_minor": 2
}
