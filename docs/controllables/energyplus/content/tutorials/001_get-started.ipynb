{
 "cells": [
  {
   "cell_type": "markdown",
   "metadata": {},
   "source": [
    "# 🤗 Get Started\n",
    "\n",
    "Before you start:\n",
    "- Make sure you have the following packages installed via `pip`:\n",
    "    - TODO ~~`controllables-energyplus`~~: see 000_installation.ipynb (TODO hyperlink)\n",
    "    - `energyplus-dataset`:\n",
    "    `python3 -m pip install git+https://github.com/SGHVAIC/EnergyPlus-Datasets`\n",
    "\n",
    "What you will learn in this chapter:\n",
    "- How to _configure_ and _run_ a world.\n",
    "- How to _add progress report_ to a running world."
   ]
  },
  {
   "cell_type": "markdown",
   "metadata": {},
   "source": [
    "## 🧳 Prepare"
   ]
  },
  {
   "cell_type": "markdown",
   "metadata": {},
   "source": [
    "Import `controllables.energyplus` into your program."
   ]
  },
  {
   "cell_type": "code",
   "execution_count": 1,
   "metadata": {},
   "outputs": [],
   "source": [
    "from controllables.energyplus import World"
   ]
  },
  {
   "cell_type": "markdown",
   "metadata": {},
   "source": [
    "Import `energyplus.dataset`.\n",
    "This will be used later to run the simulation as it contains relevant model and weather files."
   ]
  },
  {
   "cell_type": "code",
   "execution_count": 2,
   "metadata": {},
   "outputs": [],
   "source": [
    "from energyplus.dataset.basic import dataset as _epds_"
   ]
  },
  {
   "cell_type": "markdown",
   "metadata": {},
   "source": [
    "## 🛠️ Configure"
   ]
  },
  {
   "cell_type": "markdown",
   "metadata": {},
   "source": [
    "Create a world and configure it!"
   ]
  },
  {
   "cell_type": "code",
   "execution_count": null,
   "metadata": {},
   "outputs": [],
   "source": []
  },
  {
   "cell_type": "markdown",
   "metadata": {},
   "source": [
    "Ready to go!\n",
    "\n",
    "But wait... Not so early!\n",
    "\n",
    "In order for a world to run, it needs to know its \n",
    "- Inputs: `_ooep_.World.Specs.Input`\n",
    "- Expected outputs: `_ooep_.World.Specs.Output`\n",
    "- Expected runtime behavior: `_ooep_.World.Specs.Runtime`\n",
    "\n",
    "For inputs, model and weather are the absolute mandatory, \n",
    "as they are the basis of a simulation environment.\n",
    "\n",
    "The rest is optional. So leave it for another time."
   ]
  },
  {
   "cell_type": "code",
   "execution_count": 3,
   "metadata": {},
   "outputs": [],
   "source": [
    "world = World(\n",
    "    input=World.Specs.Input(\n",
    "        world=(\n",
    "            _epds_.models / '1ZoneEvapCooler.idf'\n",
    "        ),\n",
    "        weather=(_epds_.weathers / 'USA_CO_Denver-Aurora-Buckley.AFB.724695_TMY3.epw'),\n",
    "    )\n",
    ")"
   ]
  },
  {
   "cell_type": "markdown",
   "metadata": {},
   "source": [
    "## 💨 Run!"
   ]
  },
  {
   "cell_type": "code",
   "execution_count": 4,
   "metadata": {},
   "outputs": [],
   "source": [
    "_ = world.start()"
   ]
  },
  {
   "cell_type": "markdown",
   "metadata": {},
   "source": [
    "And that's it! Your simulation should run in the background.\n",
    "You may notice that there isn't any useful user feedback yet.\n",
    "So let's go ahead and spice it up.\n",
    "Yeehaw!"
   ]
  },
  {
   "cell_type": "markdown",
   "metadata": {},
   "source": [
    "## 👀 Observe"
   ]
  },
  {
   "cell_type": "markdown",
   "metadata": {},
   "source": [
    "### ⏱️ Progress Reporting"
   ]
  },
  {
   "cell_type": "markdown",
   "metadata": {},
   "source": [
    "Put a progress bar here so we can track the simulation progress in real time."
   ]
  },
  {
   "cell_type": "code",
   "execution_count": 5,
   "metadata": {},
   "outputs": [
    {
     "data": {
      "application/vnd.jupyter.widget-view+json": {
       "model_id": "d4e1fdb1a05740338e5c71dcaf24a0b8",
       "version_major": 2,
       "version_minor": 0
      },
      "text/plain": [
       "  0%|          | 0/100 [00:00<?, ?it/s]"
      ]
     },
     "metadata": {},
     "output_type": "display_data"
    }
   ],
   "source": [
    "#from controllables.energyplus.logging import ProgressLogger\n",
    "\n",
    "# add progress provider\n",
    "_ = world.add('logging:progress')"
   ]
  },
  {
   "cell_type": "markdown",
   "metadata": {},
   "source": [
    "### 📝 Message Logging"
   ]
  },
  {
   "cell_type": "markdown",
   "metadata": {},
   "source": [
    "Optionally, if progress bars aren't enough, there's also the good old standard text output.\n",
    "Activate it by adding a `MessageLogger` instance to the `world` and setting the global log level\n",
    "to `INFO`."
   ]
  },
  {
   "cell_type": "code",
   "execution_count": 6,
   "metadata": {},
   "outputs": [
    {
     "name": "stderr",
     "output_type": "stream",
     "text": [
      "INFO:<controllables.energyplus.world.World object at 0x7f1e4c560250>:Computing Window Shade Absorption Factors\n",
      "INFO:<controllables.energyplus.world.World object at 0x7f1e4c560250>:Proceeding with Initializing Solar Calculations\n",
      "INFO:<controllables.energyplus.world.World object at 0x7f1e4c560250>:Initializing Surfaces\n",
      "INFO:<controllables.energyplus.world.World object at 0x7f1e4c560250>:Initializing Outdoor environment for Surfaces\n"
     ]
    },
    {
     "name": "stderr",
     "output_type": "stream",
     "text": [
      "INFO:<controllables.energyplus.world.World object at 0x7f1e4c560250>:Setting up Surface Reporting Variables\n",
      "INFO:<controllables.energyplus.world.World object at 0x7f1e4c560250>:Initializing Temperature and Flux Histories\n",
      "INFO:<controllables.energyplus.world.World object at 0x7f1e4c560250>:Initializing Window Shading\n",
      "INFO:<controllables.energyplus.world.World object at 0x7f1e4c560250>:Computing Interior Absorption Factors\n",
      "INFO:<controllables.energyplus.world.World object at 0x7f1e4c560250>:Computing Interior Diffuse Solar Absorption Factors\n",
      "INFO:<controllables.energyplus.world.World object at 0x7f1e4c560250>:Initializing Solar Heat Gains\n",
      "INFO:<controllables.energyplus.world.World object at 0x7f1e4c560250>:Initializing Internal Heat Gains\n",
      "INFO:<controllables.energyplus.world.World object at 0x7f1e4c560250>:Initializing Interior Solar Distribution\n",
      "INFO:<controllables.energyplus.world.World object at 0x7f1e4c560250>:Initializing Interior Convection Coefficients\n",
      "INFO:<controllables.energyplus.world.World object at 0x7f1e4c560250>:Gathering Information for Predefined Reporting\n",
      "INFO:<controllables.energyplus.world.World object at 0x7f1e4c560250>:Completed Initializing Surface Heat Balance\n",
      "INFO:<controllables.energyplus.world.World object at 0x7f1e4c560250>:Calculate Outside Surface Heat Balance\n",
      "INFO:<controllables.energyplus.world.World object at 0x7f1e4c560250>:Calculate Inside Surface Heat Balance\n",
      "INFO:<controllables.energyplus.world.World object at 0x7f1e4c560250>:Calculate Air Heat Balance\n",
      "INFO:<controllables.energyplus.world.World object at 0x7f1e4c560250>:Initializing HVAC\n",
      "INFO:<controllables.energyplus.world.World object at 0x7f1e4c560250>:Reporting Surfaces\n",
      "INFO:<controllables.energyplus.world.World object at 0x7f1e4c560250>:Beginning Primary Simulation\n",
      "INFO:<controllables.energyplus.world.World object at 0x7f1e4c560250>:Initializing New Environment Parameters\n",
      "INFO:<controllables.energyplus.world.World object at 0x7f1e4c560250>:Warming up {1}\n",
      "INFO:<controllables.energyplus.world.World object at 0x7f1e4c560250>:Warming up {2}\n",
      "INFO:<controllables.energyplus.world.World object at 0x7f1e4c560250>:Warming up {3}\n",
      "INFO:<controllables.energyplus.world.World object at 0x7f1e4c560250>:Warming up {4}\n",
      "INFO:<controllables.energyplus.world.World object at 0x7f1e4c560250>:Warming up {5}\n",
      "INFO:<controllables.energyplus.world.World object at 0x7f1e4c560250>:Warming up {6}\n",
      "INFO:<controllables.energyplus.world.World object at 0x7f1e4c560250>:Starting Simulation at 12/21 for DENVER CENTENNIAL ANN HTG 99.6% CONDNS DB\n",
      "INFO:<controllables.energyplus.world.World object at 0x7f1e4c560250>:Initializing New Environment Parameters\n",
      "INFO:<controllables.energyplus.world.World object at 0x7f1e4c560250>:Warming up {1}\n",
      "INFO:<controllables.energyplus.world.World object at 0x7f1e4c560250>:Warming up {2}\n",
      "INFO:<controllables.energyplus.world.World object at 0x7f1e4c560250>:Warming up {3}\n",
      "INFO:<controllables.energyplus.world.World object at 0x7f1e4c560250>:Warming up {4}\n",
      "INFO:<controllables.energyplus.world.World object at 0x7f1e4c560250>:Warming up {5}\n",
      "INFO:<controllables.energyplus.world.World object at 0x7f1e4c560250>:Warming up {6}\n",
      "INFO:<controllables.energyplus.world.World object at 0x7f1e4c560250>:Starting Simulation at 07/21 for DENVER CENTENNIAL ANN CLG 1% CONDNS DB=>MWB\n",
      "INFO:<controllables.energyplus.world.World object at 0x7f1e4c560250>:Initializing New Environment Parameters\n",
      "INFO:<controllables.energyplus.world.World object at 0x7f1e4c560250>:Warming up {1}\n",
      "INFO:<controllables.energyplus.world.World object at 0x7f1e4c560250>:Warming up {2}\n",
      "INFO:<controllables.energyplus.world.World object at 0x7f1e4c560250>:Warming up {3}\n",
      "INFO:<controllables.energyplus.world.World object at 0x7f1e4c560250>:Warming up {4}\n",
      "INFO:<controllables.energyplus.world.World object at 0x7f1e4c560250>:Warming up {5}\n",
      "INFO:<controllables.energyplus.world.World object at 0x7f1e4c560250>:Warming up {6}\n",
      "INFO:<controllables.energyplus.world.World object at 0x7f1e4c560250>:Starting Simulation at 01/01/2013 for RUN PERIOD 1\n",
      "INFO:<controllables.energyplus.world.World object at 0x7f1e4c560250>:Updating Shadowing Calculations, Start Date=01/21/2013\n",
      "INFO:<controllables.energyplus.world.World object at 0x7f1e4c560250>:Continuing Simulation at 01/21/2013 for RUN PERIOD 1\n",
      "INFO:<controllables.energyplus.world.World object at 0x7f1e4c560250>:Updating Shadowing Calculations, Start Date=02/10/2013\n",
      "INFO:<controllables.energyplus.world.World object at 0x7f1e4c560250>:Continuing Simulation at 02/10/2013 for RUN PERIOD 1\n",
      "INFO:<controllables.energyplus.world.World object at 0x7f1e4c560250>:Updating Shadowing Calculations, Start Date=03/02/2013\n",
      "INFO:<controllables.energyplus.world.World object at 0x7f1e4c560250>:Continuing Simulation at 03/02/2013 for RUN PERIOD 1\n",
      "INFO:<controllables.energyplus.world.World object at 0x7f1e4c560250>:Updating Shadowing Calculations, Start Date=03/22/2013\n",
      "INFO:<controllables.energyplus.world.World object at 0x7f1e4c560250>:Continuing Simulation at 03/22/2013 for RUN PERIOD 1\n",
      "INFO:<controllables.energyplus.world.World object at 0x7f1e4c560250>:Updating Shadowing Calculations, Start Date=04/11/2013\n",
      "INFO:<controllables.energyplus.world.World object at 0x7f1e4c560250>:Continuing Simulation at 04/11/2013 for RUN PERIOD 1\n",
      "INFO:<controllables.energyplus.world.World object at 0x7f1e4c560250>:Updating Shadowing Calculations, Start Date=05/01/2013\n",
      "INFO:<controllables.energyplus.world.World object at 0x7f1e4c560250>:Continuing Simulation at 05/01/2013 for RUN PERIOD 1\n",
      "INFO:<controllables.energyplus.world.World object at 0x7f1e4c560250>:Updating Shadowing Calculations, Start Date=05/21/2013\n",
      "INFO:<controllables.energyplus.world.World object at 0x7f1e4c560250>:Continuing Simulation at 05/21/2013 for RUN PERIOD 1\n",
      "INFO:<controllables.energyplus.world.World object at 0x7f1e4c560250>:Updating Shadowing Calculations, Start Date=06/10/2013\n",
      "INFO:<controllables.energyplus.world.World object at 0x7f1e4c560250>:Continuing Simulation at 06/10/2013 for RUN PERIOD 1\n",
      "INFO:<controllables.energyplus.world.World object at 0x7f1e4c560250>:Updating Shadowing Calculations, Start Date=06/30/2013\n",
      "INFO:<controllables.energyplus.world.World object at 0x7f1e4c560250>:Continuing Simulation at 06/30/2013 for RUN PERIOD 1\n",
      "INFO:<controllables.energyplus.world.World object at 0x7f1e4c560250>:Updating Shadowing Calculations, Start Date=07/20/2013\n",
      "INFO:<controllables.energyplus.world.World object at 0x7f1e4c560250>:Continuing Simulation at 07/20/2013 for RUN PERIOD 1\n",
      "INFO:<controllables.energyplus.world.World object at 0x7f1e4c560250>:Updating Shadowing Calculations, Start Date=08/09/2013\n",
      "INFO:<controllables.energyplus.world.World object at 0x7f1e4c560250>:Continuing Simulation at 08/09/2013 for RUN PERIOD 1\n",
      "INFO:<controllables.energyplus.world.World object at 0x7f1e4c560250>:Updating Shadowing Calculations, Start Date=08/29/2013\n",
      "INFO:<controllables.energyplus.world.World object at 0x7f1e4c560250>:Continuing Simulation at 08/29/2013 for RUN PERIOD 1\n",
      "INFO:<controllables.energyplus.world.World object at 0x7f1e4c560250>:Updating Shadowing Calculations, Start Date=09/18/2013\n",
      "INFO:<controllables.energyplus.world.World object at 0x7f1e4c560250>:Continuing Simulation at 09/18/2013 for RUN PERIOD 1\n",
      "INFO:<controllables.energyplus.world.World object at 0x7f1e4c560250>:Updating Shadowing Calculations, Start Date=10/08/2013\n",
      "INFO:<controllables.energyplus.world.World object at 0x7f1e4c560250>:Continuing Simulation at 10/08/2013 for RUN PERIOD 1\n",
      "INFO:<controllables.energyplus.world.World object at 0x7f1e4c560250>:Updating Shadowing Calculations, Start Date=10/28/2013\n",
      "INFO:<controllables.energyplus.world.World object at 0x7f1e4c560250>:Continuing Simulation at 10/28/2013 for RUN PERIOD 1\n",
      "INFO:<controllables.energyplus.world.World object at 0x7f1e4c560250>:Updating Shadowing Calculations, Start Date=11/17/2013\n",
      "INFO:<controllables.energyplus.world.World object at 0x7f1e4c560250>:Continuing Simulation at 11/17/2013 for RUN PERIOD 1\n",
      "INFO:<controllables.energyplus.world.World object at 0x7f1e4c560250>:Updating Shadowing Calculations, Start Date=12/07/2013\n",
      "INFO:<controllables.energyplus.world.World object at 0x7f1e4c560250>:Continuing Simulation at 12/07/2013 for RUN PERIOD 1\n",
      "INFO:<controllables.energyplus.world.World object at 0x7f1e4c560250>:Updating Shadowing Calculations, Start Date=12/27/2013\n",
      "INFO:<controllables.energyplus.world.World object at 0x7f1e4c560250>:Continuing Simulation at 12/27/2013 for RUN PERIOD 1\n",
      "INFO:<controllables.energyplus.world.World object at 0x7f1e4c560250>:Writing tabular output file results using tab format.\n",
      "INFO:<controllables.energyplus.world.World object at 0x7f1e4c560250>:Writing tabular output file results using HTML format.\n",
      "INFO:<controllables.energyplus.world.World object at 0x7f1e4c560250>:EnergyPlus Run Time=00hr 00min  1.42sec\n"
     ]
    }
   ],
   "source": [
    "import logging as _logging_\n",
    "#from controllables.energyplus.logging import MessageLogger\n",
    "\n",
    "# configure the global log level\n",
    "_logging_.basicConfig(level='INFO')\n",
    "# add log provider\n",
    "_ = world.add('logging:message')"
   ]
  },
  {
   "cell_type": "markdown",
   "metadata": {},
   "source": [
    "## 🤔 Reflect"
   ]
  },
  {
   "cell_type": "markdown",
   "metadata": {},
   "source": [
    "As you may have noticed, `MessageLogger` and `ProgressLogger` are imported and added to the `world` as addons.\n",
    "\n",
    "Addons may be added at any point - either before you kick off the simulation or during. \n",
    "It's totally up to you and what works best for your setup! \n",
    "\n",
    "Just a heads-up, though: some addons need to be added right at the start to wake up properly. \n",
    "If you plug them in halfway through, you might not see their magic until the next round of your simulation.\n",
    "\n",
    "So what are addons? Learn more about addons here TODO!"
   ]
  }
 ],
 "metadata": {
  "kernelspec": {
   "display_name": "Python 3 (ipykernel)",
   "language": "python",
   "name": "python3"
  },
  "language_info": {
   "codemirror_mode": {
    "name": "ipython",
    "version": 3
   },
   "file_extension": ".py",
   "mimetype": "text/x-python",
   "name": "python",
   "nbconvert_exporter": "python",
   "pygments_lexer": "ipython3",
   "version": "3.11.2"
  }
 },
 "nbformat": 4,
 "nbformat_minor": 4
}
