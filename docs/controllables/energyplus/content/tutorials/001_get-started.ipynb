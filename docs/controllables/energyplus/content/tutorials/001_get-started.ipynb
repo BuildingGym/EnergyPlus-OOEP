{
 "cells": [
  {
   "cell_type": "markdown",
   "metadata": {},
   "source": [
    "# 🤗 Get Started\n",
    "\n",
    "Before you start:\n",
    "- Make sure you have the following packages installed via `pip`:\n",
    "    - TODO ~~`controllables-energyplus`~~: see 000_installation.ipynb (TODO hyperlink)\n",
    "    - `energyplus-dataset`:\n",
    "    `python3 -m pip install git+https://github.com/SGHVAIC/EnergyPlus-Datasets`\n",
    "\n",
    "What you will learn in this chapter:\n",
    "- How to _configure_ and _run_ a world.\n",
    "- How to _add progress report_ to a running world."
   ]
  },
  {
   "cell_type": "markdown",
   "metadata": {},
   "source": [
    "## 🧳 Prepare"
   ]
  },
  {
   "cell_type": "markdown",
   "metadata": {},
   "source": [
    "Import `controllables.energyplus` into your program."
   ]
  },
  {
   "cell_type": "code",
   "execution_count": 1,
   "metadata": {},
   "outputs": [],
   "source": [
    "from controllables.energyplus import World"
   ]
  },
  {
   "cell_type": "markdown",
   "metadata": {},
   "source": [
    "Import `energyplus.dataset`.\n",
    "This will be used later to run the simulation as it contains relevant model and weather files."
   ]
  },
  {
   "cell_type": "code",
   "execution_count": 2,
   "metadata": {},
   "outputs": [],
   "source": [
    "from energyplus.dataset.basic import dataset as _epds_"
   ]
  },
  {
   "cell_type": "markdown",
   "metadata": {},
   "source": [
    "## 🛠️ Configure"
   ]
  },
  {
   "cell_type": "markdown",
   "metadata": {},
   "source": [
    "Create a world and configure it!"
   ]
  },
  {
   "cell_type": "markdown",
   "metadata": {},
   "source": [
    "Ready to go!\n",
    "\n",
    "But wait... Not so early!\n",
    "\n",
    "In order for a world to run, it needs to know its \n",
    "- Inputs: `_ooep_.World.Specs.Input`\n",
    "- Expected outputs: `_ooep_.World.Specs.Output`\n",
    "- Expected runtime behavior: `_ooep_.World.Specs.Runtime`\n",
    "\n",
    "For inputs, model and weather are the absolute mandatory, \n",
    "as they are the basis of a simulation environment.\n",
    "\n",
    "The rest is optional. So leave it for another time."
   ]
  },
  {
   "cell_type": "code",
   "execution_count": 3,
   "metadata": {},
   "outputs": [],
   "source": [
    "world = World(\n",
    "    input=World.Specs.Input(\n",
    "        world=(\n",
    "            _epds_.models / '1ZoneEvapCooler.idf'\n",
    "        ),\n",
    "        weather=(_epds_.weathers / 'USA_CO_Denver-Aurora-Buckley.AFB.724695_TMY3.epw'),\n",
    "    )\n",
    ")"
   ]
  },
  {
   "cell_type": "markdown",
   "metadata": {},
   "source": [
    "## 💨 Run!"
   ]
  },
  {
   "cell_type": "code",
   "execution_count": 4,
   "metadata": {},
   "outputs": [],
   "source": [
    "_ = world.awaitable.run()"
   ]
  },
  {
   "cell_type": "markdown",
   "metadata": {},
   "source": [
    "And that's it! Your simulation should run in the background.\n",
    "You may notice that there isn't any useful user feedback yet.\n",
    "So let's go ahead and spice it up.\n",
    "Yeehaw!"
   ]
  },
  {
   "cell_type": "markdown",
   "metadata": {},
   "source": [
    "## 👀 Observe"
   ]
  },
  {
   "cell_type": "markdown",
   "metadata": {},
   "source": [
    "### ⏱️ Progress Reporting"
   ]
  },
  {
   "cell_type": "markdown",
   "metadata": {},
   "source": [
    "Put a progress bar here so we can track the simulation progress in real time."
   ]
  },
  {
   "cell_type": "code",
   "execution_count": 5,
   "metadata": {},
   "outputs": [
    {
     "data": {
      "application/vnd.jupyter.widget-view+json": {
       "model_id": "894cb4ccfa19494d9b56c27211f3a4b9",
       "version_major": 2,
       "version_minor": 0
      },
      "text/plain": [
       "  0%|          | 0/100 [00:00<?, ?it/s]"
      ]
     },
     "metadata": {},
     "output_type": "display_data"
    }
   ],
   "source": [
    "#from controllables.energyplus.logging import ProgressLogger\n",
    "\n",
    "# add progress provider\n",
    "_ = world.add('logging:progress')"
   ]
  },
  {
   "cell_type": "markdown",
   "metadata": {},
   "source": [
    "### 📝 Message Logging"
   ]
  },
  {
   "cell_type": "markdown",
   "metadata": {},
   "source": [
    "Optionally, if progress bars aren't enough, there's also the good old standard text output.\n",
    "Activate it by adding a `MessageLogger` instance to the `world` and setting the global log level\n",
    "to `INFO`."
   ]
  },
  {
   "cell_type": "code",
   "execution_count": 6,
   "metadata": {},
   "outputs": [],
   "source": [
    "import logging as _logging_\n",
    "#from controllables.energyplus.logging import MessageLogger\n",
    "\n",
    "# configure the global log level\n",
    "_logging_.basicConfig(level='INFO')\n",
    "# add log provider\n",
    "_ = world.add('logging:message')"
   ]
  },
  {
   "cell_type": "markdown",
   "metadata": {},
   "source": [
    "## 🤔 Reflect"
   ]
  },
  {
   "cell_type": "markdown",
   "metadata": {},
   "source": [
    "As you may have noticed, `MessageLogger` and `ProgressLogger` are imported and added to the `world` as addons.\n",
    "\n",
    "Addons may be added at any point - either before you kick off the simulation or during. \n",
    "It's totally up to you and what works best for your setup! \n",
    "\n",
    "Just a heads-up, though: some addons need to be added right at the start to wake up properly. \n",
    "If you plug them in halfway through, you might not see their magic until the next round of your simulation.\n",
    "\n",
    "So what are addons? Learn more about addons here TODO!"
   ]
  }
 ],
 "metadata": {
  "kernelspec": {
   "display_name": "Python 3 (ipykernel)",
   "language": "python",
   "name": "python3"
  },
  "language_info": {
   "codemirror_mode": {
    "name": "ipython",
    "version": 3
   },
   "file_extension": ".py",
   "mimetype": "text/x-python",
   "name": "python",
   "nbconvert_exporter": "python",
   "pygments_lexer": "ipython3",
   "version": "3.11.2"
  }
 },
 "nbformat": 4,
 "nbformat_minor": 4
}
