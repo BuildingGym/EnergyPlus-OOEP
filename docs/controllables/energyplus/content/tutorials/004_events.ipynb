{
 "cells": [
  {
   "cell_type": "markdown",
   "metadata": {},
   "source": [
    "# 🔔 Events"
   ]
  },
  {
   "cell_type": "code",
   "execution_count": 1,
   "metadata": {},
   "outputs": [],
   "source": [
    "from controllables.energyplus.examples import system_1zone_evapcooler\n",
    "\n",
    "system = system_1zone_evapcooler.make_system(repeat=True)"
   ]
  },
  {
   "cell_type": "code",
   "execution_count": 2,
   "metadata": {},
   "outputs": [
    {
     "data": {
      "application/vnd.jupyter.widget-view+json": {
       "model_id": "e653b18032004d1780ec5a41176a6609",
       "version_major": 2,
       "version_minor": 0
      },
      "text/plain": [
       "  0%|          | 0/100 [00:00<?, ?it/s]"
      ]
     },
     "metadata": {},
     "output_type": "display_data"
    },
    {
     "data": {
      "text/plain": [
       "<controllables.energyplus.systems.System at 0x7fecd4462610>"
      ]
     },
     "execution_count": 2,
     "metadata": {},
     "output_type": "execute_result"
    }
   ],
   "source": [
    "system.add('logging:progress').start()"
   ]
  },
  {
   "cell_type": "markdown",
   "metadata": {},
   "source": [
    "Keep me updated - Get [in the \"loop\"](https://wiktionary.org/wiki/in_the_loop), [literally](https://wikipedia.org/wiki/Event_loop)."
   ]
  },
  {
   "cell_type": "code",
   "execution_count": 3,
   "metadata": {},
   "outputs": [],
   "source": [
    "system.events.on('message', lambda event: print('🥳', event))\n",
    "\n",
    "@system.on('message')\n",
    "def _(event): print('😋', event)\n",
    "\n",
    "@system.events['message'].on\n",
    "def _(event): print('😎', event)"
   ]
  },
  {
   "cell_type": "code",
   "execution_count": 4,
   "metadata": {},
   "outputs": [
    {
     "name": "stdout",
     "output_type": "stream",
     "text": [
      "🥳 MessageContext(event=<controllables.energyplus.events.Event object at 0x7fecd0102390>, message='Adjusting Air System Sizing')\n",
      "😋 MessageContext(event=<controllables.energyplus.events.Event object at 0x7fecd0102390>, message='Adjusting Air System Sizing')\n",
      "😎 MessageContext(event=<controllables.energyplus.events.Event object at 0x7fecd0102390>, message='Adjusting Air System Sizing')\n",
      "🥳 MessageContext(event=<controllables.energyplus.events.Event object at 0x7fecd0102390>, message='Adjusting Standard 62.1 Ventilation Sizing')\n",
      "😋 MessageContext(event=<controllables.energyplus.events.Event object at 0x7fecd0102390>, message='Adjusting Standard 62.1 Ventilation Sizing')\n",
      "😎 MessageContext(event=<controllables.energyplus.events.Event object at 0x7fecd0102390>, message='Adjusting Standard 62.1 Ventilation Sizing')\n",
      "🥳 MessageContext(event=<controllables.energyplus.events.Event object at 0x7fecd0102390>, message='Initializing Simulation')\n",
      "😋 MessageContext(event=<controllables.energyplus.events.Event object at 0x7fecd0102390>, message='Initializing Simulation')\n",
      "😎 MessageContext(event=<controllables.energyplus.events.Event object at 0x7fecd0102390>, message='Initializing Simulation')\n",
      "🥳 MessageContext(event=<controllables.energyplus.events.Event object at 0x7fecd0102390>, message='Reporting Surfaces')\n",
      "😋 MessageContext(event=<controllables.energyplus.events.Event object at 0x7fecd0102390>, message='Reporting Surfaces')\n",
      "😎 MessageContext(event=<controllables.energyplus.events.Event object at 0x7fecd0102390>, message='Reporting Surfaces')\n",
      "🥳 MessageContext(event=<controllables.energyplus.events.Event object at 0x7fecd0102390>, message='Beginning Primary Simulation')\n",
      "😋 MessageContext(event=<controllables.energyplus.events.Event object at 0x7fecd0102390>, message='Beginning Primary Simulation')\n",
      "😎 MessageContext(event=<controllables.energyplus.events.Event object at 0x7fecd0102390>, message='Beginning Primary Simulation')\n"
     ]
    },
    {
     "name": "stdout",
     "output_type": "stream",
     "text": [
      "🥳 MessageContext(event=<controllables.energyplus.events.Event object at 0x7fecd0102390>, message='Starting Simulation at 12/21 for DENVER CENTENNIAL ANN HTG 99.6% CONDNS DB')\n",
      "😋 MessageContext(event=<controllables.energyplus.events.Event object at 0x7fecd0102390>, message='Starting Simulation at 12/21 for DENVER CENTENNIAL ANN HTG 99.6% CONDNS DB')\n",
      "😎 MessageContext(event=<controllables.energyplus.events.Event object at 0x7fecd0102390>, message='Starting Simulation at 12/21 for DENVER CENTENNIAL ANN HTG 99.6% CONDNS DB')\n",
      "ExecutionContext(vars=Arguments(Context(event=<controllables.energyplus.events.Event object at 0x7fecd0102c10>), ), ack=<controllables.core.callables.ExecutionContext.Ack object at 0x7fecd0103390>)\n",
      "ExecutionContext(vars=Arguments(Context(event=<controllables.energyplus.events.Event object at 0x7fecd0102c10>), ), ack=<controllables.core.callables.ExecutionContext.Ack object at 0x7fecd0103ad0>)\n",
      "ExecutionContext(vars=Arguments(Context(event=<controllables.energyplus.events.Event object at 0x7fecd0102c10>), ), ack=<controllables.core.callables.ExecutionContext.Ack object at 0x7fecd0103c90>)\n",
      "ExecutionContext(vars=Arguments(Context(event=<controllables.energyplus.events.Event object at 0x7fecd0102c10>), ), ack=<controllables.core.callables.ExecutionContext.Ack object at 0x7fecd0103e50>)\n",
      "ExecutionContext(vars=Arguments(Context(event=<controllables.energyplus.events.Event object at 0x7fecd0102c10>), ), ack=<controllables.core.callables.ExecutionContext.Ack object at 0x7fecd0110050>)\n",
      "ExecutionContext(vars=Arguments(Context(event=<controllables.energyplus.events.Event object at 0x7fecd0102c10>), ), ack=<controllables.core.callables.ExecutionContext.Ack object at 0x7fecd0110210>)\n",
      "ExecutionContext(vars=Arguments(Context(event=<controllables.energyplus.events.Event object at 0x7fecd0102c10>), ), ack=<controllables.core.callables.ExecutionContext.Ack object at 0x7fecd01103d0>)\n",
      "ExecutionContext(vars=Arguments(Context(event=<controllables.energyplus.events.Event object at 0x7fecd0102c10>), ), ack=<controllables.core.callables.ExecutionContext.Ack object at 0x7fecd0110590>)\n",
      "ExecutionContext(vars=Arguments(Context(event=<controllables.energyplus.events.Event object at 0x7fecd0102c10>), ), ack=<controllables.core.callables.ExecutionContext.Ack object at 0x7fecd0110750>)\n",
      "ExecutionContext(vars=Arguments(Context(event=<controllables.energyplus.events.Event object at 0x7fecd0102c10>), ), ack=<controllables.core.callables.ExecutionContext.Ack object at 0x7fecd0110910>)\n"
     ]
    }
   ],
   "source": [
    "for _ in range(10):\n",
    "    ctx = system.events['timestep'].wait()\n",
    "    print(ctx)"
   ]
  },
  {
   "cell_type": "markdown",
   "metadata": {},
   "source": [
    "TODO more info see `controllables-core`"
   ]
  },
  {
   "cell_type": "code",
   "execution_count": 5,
   "metadata": {},
   "outputs": [
    {
     "name": "stdout",
     "output_type": "stream",
     "text": [
      "🥳 MessageContext(event=<controllables.energyplus.events.Event object at 0x7fecd0102390>, message='Initializing New Environment Parameters')\n",
      "😋 MessageContext(event=<controllables.energyplus.events.Event object at 0x7fecd0102390>, message='Initializing New Environment Parameters')\n",
      "😎 MessageContext(event=<controllables.energyplus.events.Event object at 0x7fecd0102390>, message='Initializing New Environment Parameters')\n",
      "🥳 MessageContext(event=<controllables.energyplus.events.Event object at 0x7fecd0102390>, message='Starting Simulation at 07/21 for DENVER CENTENNIAL ANN CLG 1% CONDNS DB=>MWB')\n",
      "😋 MessageContext(event=<controllables.energyplus.events.Event object at 0x7fecd0102390>, message='Starting Simulation at 07/21 for DENVER CENTENNIAL ANN CLG 1% CONDNS DB=>MWB')\n",
      "😎 MessageContext(event=<controllables.energyplus.events.Event object at 0x7fecd0102390>, message='Starting Simulation at 07/21 for DENVER CENTENNIAL ANN CLG 1% CONDNS DB=>MWB')\n",
      "🥳 MessageContext(event=<controllables.energyplus.events.Event object at 0x7fecd0102390>, message='Initializing New Environment Parameters')\n",
      "😋 MessageContext(event=<controllables.energyplus.events.Event object at 0x7fecd0102390>, message='Initializing New Environment Parameters')\n",
      "😎 MessageContext(event=<controllables.energyplus.events.Event object at 0x7fecd0102390>, message='Initializing New Environment Parameters')\n"
     ]
    },
    {
     "name": "stdout",
     "output_type": "stream",
     "text": [
      "🥳 MessageContext(event=<controllables.energyplus.events.Event object at 0x7fecd0102390>, message='Writing tabular output file results using tab format.')\n",
      "😋 MessageContext(event=<controllables.energyplus.events.Event object at 0x7fecd0102390>, message='Writing tabular output file results using tab format.')\n",
      "😎 MessageContext(event=<controllables.energyplus.events.Event object at 0x7fecd0102390>, message='Writing tabular output file results using tab format.')\n"
     ]
    },
    {
     "data": {
      "text/plain": [
       "<controllables.energyplus.systems.System at 0x7fecd4462610>"
      ]
     },
     "execution_count": 5,
     "metadata": {},
     "output_type": "execute_result"
    },
    {
     "name": "stdout",
     "output_type": "stream",
     "text": [
      "🥳 MessageContext(event=<controllables.energyplus.events.Event object at 0x7fecd0102390>, message='Writing tabular output file results using HTML format.')\n",
      "😋 MessageContext(event=<controllables.energyplus.events.Event object at 0x7fecd0102390>, message='Writing tabular output file results using HTML format.')\n",
      "😎 MessageContext(event=<controllables.energyplus.events.Event object at 0x7fecd0102390>, message='Writing tabular output file results using HTML format.')\n"
     ]
    },
    {
     "name": "stdout",
     "output_type": "stream",
     "text": [
      "🥳 MessageContext(event=<controllables.energyplus.events.Event object at 0x7fecd0102390>, message='EnergyPlus Run Time=00hr 00min  0.12sec')\n",
      "😋 MessageContext(event=<controllables.energyplus.events.Event object at 0x7fecd0102390>, message='EnergyPlus Run Time=00hr 00min  0.12sec')\n",
      "😎 MessageContext(event=<controllables.energyplus.events.Event object at 0x7fecd0102390>, message='EnergyPlus Run Time=00hr 00min  0.12sec')\n"
     ]
    }
   ],
   "source": [
    "system.stop()"
   ]
  }
 ],
 "metadata": {
  "kernelspec": {
   "display_name": ".venv",
   "language": "python",
   "name": "python3"
  },
  "language_info": {
   "codemirror_mode": {
    "name": "ipython",
    "version": 3
   },
   "file_extension": ".py",
   "mimetype": "text/x-python",
   "name": "python",
   "nbconvert_exporter": "python",
   "pygments_lexer": "ipython3",
   "version": "3.11.2"
  }
 },
 "nbformat": 4,
 "nbformat_minor": 2
}
