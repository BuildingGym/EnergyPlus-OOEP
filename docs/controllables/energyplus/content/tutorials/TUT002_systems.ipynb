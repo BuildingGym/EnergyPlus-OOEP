{
 "cells": [
  {
   "cell_type": "markdown",
   "metadata": {},
   "source": [
    "# 🌎 Chapter 2: Systems\n",
    "\n",
    "Before you start:\n",
    "- Make sure you have completed [](TUT000_setup.ipynb).\n",
    "\n",
    "What you will learn in this chapter:\n",
    "- How to _load_ the builtin example systems.\n",
    "- How to _configure_ and _run_ a system.\n",
    "- How to _observe_ the status of a running system."
   ]
  },
  {
   "cell_type": "markdown",
   "metadata": {},
   "source": [
    "## 🧳 Prepare"
   ]
  },
  {
   "cell_type": "code",
   "execution_count": 1,
   "metadata": {},
   "outputs": [],
   "source": [
    "from controllables.energyplus import System, examples"
   ]
  },
  {
   "cell_type": "code",
   "execution_count": 2,
   "metadata": {},
   "outputs": [],
   "source": [
    "system = examples.systems.X1ZoneEvapCooler()"
   ]
  },
  {
   "cell_type": "code",
   "execution_count": 3,
   "metadata": {},
   "outputs": [],
   "source": [
    "system = System(examples.configs.X1ZoneEvapCooler)"
   ]
  },
  {
   "cell_type": "markdown",
   "metadata": {},
   "source": [
    "Alternatively, ... TODO"
   ]
  },
  {
   "cell_type": "code",
   "execution_count": 4,
   "metadata": {},
   "outputs": [],
   "source": [
    "system = System(\n",
    "    # path to the building model or a building model instance\n",
    "    building=examples.files.buildings.X1ZoneEvapCooler,\n",
    "    # path to the weather model or a weather model instance\n",
    "    weather=examples.files.weathers.DenverAuroraBuckleyAFB,\n",
    ")"
   ]
  },
  {
   "cell_type": "markdown",
   "metadata": {},
   "source": [
    "The system may be repeated by passing in the `repeat` (TODO link) option.\n",
    "\n",
    "For more information see TODO link."
   ]
  },
  {
   "cell_type": "markdown",
   "metadata": {},
   "source": [
    "## 💨 Run!"
   ]
  },
  {
   "cell_type": "code",
   "execution_count": 5,
   "metadata": {},
   "outputs": [
    {
     "data": {
      "text/plain": [
       "System({'building': PosixPath('/home/AD/user/lab/controllables-core/.venv/lib/python3.11/site-packages/energyplus/dataset/basic/assets/models/1ZoneEvapCooler.idf'), 'weather': PosixPath('/home/AD/user/lab/controllables-core/.venv/lib/python3.11/site-packages/energyplus/dataset/basic/assets/weathers/USA_CO_Denver-Aurora-Buckley.AFB.724695_TMY3.epw')})"
      ]
     },
     "execution_count": 5,
     "metadata": {},
     "output_type": "execute_result"
    }
   ],
   "source": [
    "system.start()"
   ]
  },
  {
   "cell_type": "markdown",
   "metadata": {},
   "source": [
    "And that's it! Your simulation should now run in the background.\n",
    "To wait until it finishes, use `.wait()`.\n",
    "\n",
    "You may notice that there isn't any useful user feedback yet.\n",
    "So let's go ahead and spice it up. Yeehaw!"
   ]
  },
  {
   "cell_type": "markdown",
   "metadata": {},
   "source": [
    "## 👀 Observe"
   ]
  },
  {
   "cell_type": "markdown",
   "metadata": {},
   "source": [
    "### ⏱️ Progress Reporting"
   ]
  },
  {
   "cell_type": "markdown",
   "metadata": {},
   "source": [
    "Put a progress bar here so we can track the simulation progress in real time."
   ]
  },
  {
   "cell_type": "code",
   "execution_count": 6,
   "metadata": {},
   "outputs": [
    {
     "name": "stderr",
     "output_type": "stream",
     "text": [
      "/home/AD/user/lab/controllables-core/.venv/lib/python3.11/site-packages/tqdm/auto.py:21: TqdmWarning: IProgress not found. Please update jupyter and ipywidgets. See https://ipywidgets.readthedocs.io/en/stable/user_install.html\n",
      "  from .autonotebook import tqdm as notebook_tqdm\n",
      "  0%|          | 0/100.0 [00:00<?, ?it/s]"
     ]
    }
   ],
   "source": [
    "#from controllables.energyplus.logging import ProgressLogger\n",
    "\n",
    "# add progress provider\n",
    "_ = system.add('logging:progress')"
   ]
  },
  {
   "cell_type": "markdown",
   "metadata": {},
   "source": [
    "### 📝 Message Logging"
   ]
  },
  {
   "cell_type": "markdown",
   "metadata": {},
   "source": [
    "Optionally, if progress bars aren't enough, there's also the good old standard text output.\n",
    "Activate it by adding a `MessageLogger` instance to the `world` and setting the global log level\n",
    "to `INFO`."
   ]
  },
  {
   "cell_type": "code",
   "execution_count": 7,
   "metadata": {},
   "outputs": [],
   "source": [
    "import logging as _logging_\n",
    "#from controllables.energyplus.logging import MessageLogger\n",
    "\n",
    "# configure the global log level\n",
    "_logging_.basicConfig(level='INFO')\n",
    "# add log provider\n",
    "_ = system.add('logging:message')"
   ]
  },
  {
   "cell_type": "markdown",
   "metadata": {},
   "source": [
    "Now the system is still running. We can force it to stop:"
   ]
  },
  {
   "cell_type": "code",
   "execution_count": null,
   "metadata": {},
   "outputs": [
    {
     "name": "stderr",
     "output_type": "stream",
     "text": [
      "  0%|          | 0/100.0 [00:00<?, ?it/s, Adjusting Air System Sizing]INFO:System({'building': PosixPath('/home/AD/user/lab/controllables-core/.venv/lib/python3.11/site-packages/energyplus/dataset/basic/assets/models/1ZoneEvapCooler.idf'), 'weather': PosixPath('/home/AD/user/lab/controllables-core/.venv/lib/python3.11/site-packages/energyplus/dataset/basic/assets/weathers/USA_CO_Denver-Aurora-Buckley.AFB.724695_TMY3.epw')}):Adjusting Air System Sizing\n",
      "  0%|          | 0/100.0 [00:00<?, ?it/s, Adjusting Standard 62.1 Ventilation Sizing]INFO:System({'building': PosixPath('/home/AD/user/lab/controllables-core/.venv/lib/python3.11/site-packages/energyplus/dataset/basic/assets/models/1ZoneEvapCooler.idf'), 'weather': PosixPath('/home/AD/user/lab/controllables-core/.venv/lib/python3.11/site-packages/energyplus/dataset/basic/assets/weathers/USA_CO_Denver-Aurora-Buckley.AFB.724695_TMY3.epw')}):Adjusting Standard 62.1 Ventilation Sizing\n",
      "  0%|          | 0/100.0 [00:00<?, ?it/s, Initializing Simulation]                   INFO:System({'building': PosixPath('/home/AD/user/lab/controllables-core/.venv/lib/python3.11/site-packages/energyplus/dataset/basic/assets/models/1ZoneEvapCooler.idf'), 'weather': PosixPath('/home/AD/user/lab/controllables-core/.venv/lib/python3.11/site-packages/energyplus/dataset/basic/assets/weathers/USA_CO_Denver-Aurora-Buckley.AFB.724695_TMY3.epw')}):Initializing Simulation\n",
      "  0%|          | 0/100.0 [00:00<?, ?it/s, Initializing Response Factors]INFO:System({'building': PosixPath('/home/AD/user/lab/controllables-core/.venv/lib/python3.11/site-packages/energyplus/dataset/basic/assets/models/1ZoneEvapCooler.idf'), 'weather': PosixPath('/home/AD/user/lab/controllables-core/.venv/lib/python3.11/site-packages/energyplus/dataset/basic/assets/weathers/USA_CO_Denver-Aurora-Buckley.AFB.724695_TMY3.epw')}):Initializing Response Factors\n",
      "  0%|          | 0/100.0 [00:00<?, ?it/s, Calculating CTFs for \"FLOOR\"] INFO:System({'building': PosixPath('/home/AD/user/lab/controllables-core/.venv/lib/python3.11/site-packages/energyplus/dataset/basic/assets/models/1ZoneEvapCooler.idf'), 'weather': PosixPath('/home/AD/user/lab/controllables-core/.venv/lib/python3.11/site-packages/energyplus/dataset/basic/assets/weathers/USA_CO_Denver-Aurora-Buckley.AFB.724695_TMY3.epw')}):Calculating CTFs for \"FLOOR\"\n",
      "  0%|          | 0/100.0 [00:00<?, ?it/s, Initializing Window Optical Properties]INFO:System({'building': PosixPath('/home/AD/user/lab/controllables-core/.venv/lib/python3.11/site-packages/energyplus/dataset/basic/assets/models/1ZoneEvapCooler.idf'), 'weather': PosixPath('/home/AD/user/lab/controllables-core/.venv/lib/python3.11/site-packages/energyplus/dataset/basic/assets/weathers/USA_CO_Denver-Aurora-Buckley.AFB.724695_TMY3.epw')}):Initializing Window Optical Properties\n",
      "  0%|          | 0/100.0 [00:00<?, ?it/s, Initializing Solar Calculations]       INFO:System({'building': PosixPath('/home/AD/user/lab/controllables-core/.venv/lib/python3.11/site-packages/energyplus/dataset/basic/assets/models/1ZoneEvapCooler.idf'), 'weather': PosixPath('/home/AD/user/lab/controllables-core/.venv/lib/python3.11/site-packages/energyplus/dataset/basic/assets/weathers/USA_CO_Denver-Aurora-Buckley.AFB.724695_TMY3.epw')}):Initializing Solar Calculations\n",
      "  0%|          | 0/100.0 [00:00<?, ?it/s, Allocate Solar Module Arrays]   INFO:System({'building': PosixPath('/home/AD/user/lab/controllables-core/.venv/lib/python3.11/site-packages/energyplus/dataset/basic/assets/models/1ZoneEvapCooler.idf'), 'weather': PosixPath('/home/AD/user/lab/controllables-core/.venv/lib/python3.11/site-packages/energyplus/dataset/basic/assets/weathers/USA_CO_Denver-Aurora-Buckley.AFB.724695_TMY3.epw')}):Allocate Solar Module Arrays\n",
      "  0%|          | 0/100.0 [00:00<?, ?it/s, Initializing Zone and Enclosure Report Variables]INFO:System({'building': PosixPath('/home/AD/user/lab/controllables-core/.venv/lib/python3.11/site-packages/energyplus/dataset/basic/assets/models/1ZoneEvapCooler.idf'), 'weather': PosixPath('/home/AD/user/lab/controllables-core/.venv/lib/python3.11/site-packages/energyplus/dataset/basic/assets/weathers/USA_CO_Denver-Aurora-Buckley.AFB.724695_TMY3.epw')}):Initializing Zone and Enclosure Report Variables\n",
      "  0%|          | 0/100.0 [00:00<?, ?it/s, Initializing Surface (Shading) Report Variables] INFO:System({'building': PosixPath('/home/AD/user/lab/controllables-core/.venv/lib/python3.11/site-packages/energyplus/dataset/basic/assets/models/1ZoneEvapCooler.idf'), 'weather': PosixPath('/home/AD/user/lab/controllables-core/.venv/lib/python3.11/site-packages/energyplus/dataset/basic/assets/weathers/USA_CO_Denver-Aurora-Buckley.AFB.724695_TMY3.epw')}):Initializing Surface (Shading) Report Variables\n",
      "  0%|          | 0/100.0 [00:00<?, ?it/s, Computing Interior Solar Absorption Factors]    INFO:System({'building': PosixPath('/home/AD/user/lab/controllables-core/.venv/lib/python3.11/site-packages/energyplus/dataset/basic/assets/models/1ZoneEvapCooler.idf'), 'weather': PosixPath('/home/AD/user/lab/controllables-core/.venv/lib/python3.11/site-packages/energyplus/dataset/basic/assets/weathers/USA_CO_Denver-Aurora-Buckley.AFB.724695_TMY3.epw')}):Computing Interior Solar Absorption Factors\n",
      "  0%|          | 0/100.0 [00:00<?, ?it/s, Determining Shadowing Combinations]         INFO:System({'building': PosixPath('/home/AD/user/lab/controllables-core/.venv/lib/python3.11/site-packages/energyplus/dataset/basic/assets/models/1ZoneEvapCooler.idf'), 'weather': PosixPath('/home/AD/user/lab/controllables-core/.venv/lib/python3.11/site-packages/energyplus/dataset/basic/assets/weathers/USA_CO_Denver-Aurora-Buckley.AFB.724695_TMY3.epw')}):Determining Shadowing Combinations\n",
      "  0%|          | 0/100.0 [00:00<?, ?it/s, Computing Window Shade Absorption Factors]INFO:System({'building': PosixPath('/home/AD/user/lab/controllables-core/.venv/lib/python3.11/site-packages/energyplus/dataset/basic/assets/models/1ZoneEvapCooler.idf'), 'weather': PosixPath('/home/AD/user/lab/controllables-core/.venv/lib/python3.11/site-packages/energyplus/dataset/basic/assets/weathers/USA_CO_Denver-Aurora-Buckley.AFB.724695_TMY3.epw')}):Computing Window Shade Absorption Factors\n",
      "  0%|          | 0/100.0 [00:00<?, ?it/s, Proceeding with Initializing Solar Calculations]INFO:System({'building': PosixPath('/home/AD/user/lab/controllables-core/.venv/lib/python3.11/site-packages/energyplus/dataset/basic/assets/models/1ZoneEvapCooler.idf'), 'weather': PosixPath('/home/AD/user/lab/controllables-core/.venv/lib/python3.11/site-packages/energyplus/dataset/basic/assets/weathers/USA_CO_Denver-Aurora-Buckley.AFB.724695_TMY3.epw')}):Proceeding with Initializing Solar Calculations\n",
      "  0%|          | 0/100.0 [00:00<?, ?it/s, Initializing Surfaces]                          INFO:System({'building': PosixPath('/home/AD/user/lab/controllables-core/.venv/lib/python3.11/site-packages/energyplus/dataset/basic/assets/models/1ZoneEvapCooler.idf'), 'weather': PosixPath('/home/AD/user/lab/controllables-core/.venv/lib/python3.11/site-packages/energyplus/dataset/basic/assets/weathers/USA_CO_Denver-Aurora-Buckley.AFB.724695_TMY3.epw')}):Initializing Surfaces\n",
      "  0%|          | 0/100.0 [00:00<?, ?it/s, Initializing Outdoor environment for Surfaces]INFO:System({'building': PosixPath('/home/AD/user/lab/controllables-core/.venv/lib/python3.11/site-packages/energyplus/dataset/basic/assets/models/1ZoneEvapCooler.idf'), 'weather': PosixPath('/home/AD/user/lab/controllables-core/.venv/lib/python3.11/site-packages/energyplus/dataset/basic/assets/weathers/USA_CO_Denver-Aurora-Buckley.AFB.724695_TMY3.epw')}):Initializing Outdoor environment for Surfaces\n",
      "  0%|          | 0/100.0 [00:00<?, ?it/s, Setting up Surface Reporting Variables]       INFO:System({'building': PosixPath('/home/AD/user/lab/controllables-core/.venv/lib/python3.11/site-packages/energyplus/dataset/basic/assets/models/1ZoneEvapCooler.idf'), 'weather': PosixPath('/home/AD/user/lab/controllables-core/.venv/lib/python3.11/site-packages/energyplus/dataset/basic/assets/weathers/USA_CO_Denver-Aurora-Buckley.AFB.724695_TMY3.epw')}):Setting up Surface Reporting Variables\n",
      "  0%|          | 0/100.0 [00:00<?, ?it/s, Initializing Temperature and Flux Histories]INFO:System({'building': PosixPath('/home/AD/user/lab/controllables-core/.venv/lib/python3.11/site-packages/energyplus/dataset/basic/assets/models/1ZoneEvapCooler.idf'), 'weather': PosixPath('/home/AD/user/lab/controllables-core/.venv/lib/python3.11/site-packages/energyplus/dataset/basic/assets/weathers/USA_CO_Denver-Aurora-Buckley.AFB.724695_TMY3.epw')}):Initializing Temperature and Flux Histories\n",
      "  0%|          | 0/100.0 [00:00<?, ?it/s, Initializing Window Shading]                INFO:System({'building': PosixPath('/home/AD/user/lab/controllables-core/.venv/lib/python3.11/site-packages/energyplus/dataset/basic/assets/models/1ZoneEvapCooler.idf'), 'weather': PosixPath('/home/AD/user/lab/controllables-core/.venv/lib/python3.11/site-packages/energyplus/dataset/basic/assets/weathers/USA_CO_Denver-Aurora-Buckley.AFB.724695_TMY3.epw')}):Initializing Window Shading\n",
      "  0%|          | 0/100.0 [00:00<?, ?it/s, Computing Interior Absorption Factors]INFO:System({'building': PosixPath('/home/AD/user/lab/controllables-core/.venv/lib/python3.11/site-packages/energyplus/dataset/basic/assets/models/1ZoneEvapCooler.idf'), 'weather': PosixPath('/home/AD/user/lab/controllables-core/.venv/lib/python3.11/site-packages/energyplus/dataset/basic/assets/weathers/USA_CO_Denver-Aurora-Buckley.AFB.724695_TMY3.epw')}):Computing Interior Absorption Factors\n",
      "  0%|          | 0/100.0 [00:00<?, ?it/s, Computing Interior Diffuse Solar Absorption Factors]INFO:System({'building': PosixPath('/home/AD/user/lab/controllables-core/.venv/lib/python3.11/site-packages/energyplus/dataset/basic/assets/models/1ZoneEvapCooler.idf'), 'weather': PosixPath('/home/AD/user/lab/controllables-core/.venv/lib/python3.11/site-packages/energyplus/dataset/basic/assets/weathers/USA_CO_Denver-Aurora-Buckley.AFB.724695_TMY3.epw')}):Computing Interior Diffuse Solar Absorption Factors\n",
      "  0%|          | 0/100.0 [00:00<?, ?it/s, Initializing Solar Heat Gains]                      INFO:System({'building': PosixPath('/home/AD/user/lab/controllables-core/.venv/lib/python3.11/site-packages/energyplus/dataset/basic/assets/models/1ZoneEvapCooler.idf'), 'weather': PosixPath('/home/AD/user/lab/controllables-core/.venv/lib/python3.11/site-packages/energyplus/dataset/basic/assets/weathers/USA_CO_Denver-Aurora-Buckley.AFB.724695_TMY3.epw')}):Initializing Solar Heat Gains\n",
      "  0%|          | 0/100.0 [00:00<?, ?it/s, Initializing Internal Heat Gains]INFO:System({'building': PosixPath('/home/AD/user/lab/controllables-core/.venv/lib/python3.11/site-packages/energyplus/dataset/basic/assets/models/1ZoneEvapCooler.idf'), 'weather': PosixPath('/home/AD/user/lab/controllables-core/.venv/lib/python3.11/site-packages/energyplus/dataset/basic/assets/weathers/USA_CO_Denver-Aurora-Buckley.AFB.724695_TMY3.epw')}):Initializing Internal Heat Gains\n",
      "  0%|          | 0/100.0 [00:00<?, ?it/s, Initializing Interior Solar Distribution]INFO:System({'building': PosixPath('/home/AD/user/lab/controllables-core/.venv/lib/python3.11/site-packages/energyplus/dataset/basic/assets/models/1ZoneEvapCooler.idf'), 'weather': PosixPath('/home/AD/user/lab/controllables-core/.venv/lib/python3.11/site-packages/energyplus/dataset/basic/assets/weathers/USA_CO_Denver-Aurora-Buckley.AFB.724695_TMY3.epw')}):Initializing Interior Solar Distribution\n",
      "  0%|          | 0/100.0 [00:00<?, ?it/s, Initializing Interior Convection Coefficients]INFO:System({'building': PosixPath('/home/AD/user/lab/controllables-core/.venv/lib/python3.11/site-packages/energyplus/dataset/basic/assets/models/1ZoneEvapCooler.idf'), 'weather': PosixPath('/home/AD/user/lab/controllables-core/.venv/lib/python3.11/site-packages/energyplus/dataset/basic/assets/weathers/USA_CO_Denver-Aurora-Buckley.AFB.724695_TMY3.epw')}):Initializing Interior Convection Coefficients\n",
      "  0%|          | 0/100.0 [00:00<?, ?it/s, Gathering Information for Predefined Reporting]INFO:System({'building': PosixPath('/home/AD/user/lab/controllables-core/.venv/lib/python3.11/site-packages/energyplus/dataset/basic/assets/models/1ZoneEvapCooler.idf'), 'weather': PosixPath('/home/AD/user/lab/controllables-core/.venv/lib/python3.11/site-packages/energyplus/dataset/basic/assets/weathers/USA_CO_Denver-Aurora-Buckley.AFB.724695_TMY3.epw')}):Gathering Information for Predefined Reporting\n",
      "  0%|          | 0/100.0 [00:00<?, ?it/s, Completed Initializing Surface Heat Balance]   INFO:System({'building': PosixPath('/home/AD/user/lab/controllables-core/.venv/lib/python3.11/site-packages/energyplus/dataset/basic/assets/models/1ZoneEvapCooler.idf'), 'weather': PosixPath('/home/AD/user/lab/controllables-core/.venv/lib/python3.11/site-packages/energyplus/dataset/basic/assets/weathers/USA_CO_Denver-Aurora-Buckley.AFB.724695_TMY3.epw')}):Completed Initializing Surface Heat Balance\n",
      "  0%|          | 0/100.0 [00:00<?, ?it/s, Calculate Outside Surface Heat Balance]     INFO:System({'building': PosixPath('/home/AD/user/lab/controllables-core/.venv/lib/python3.11/site-packages/energyplus/dataset/basic/assets/models/1ZoneEvapCooler.idf'), 'weather': PosixPath('/home/AD/user/lab/controllables-core/.venv/lib/python3.11/site-packages/energyplus/dataset/basic/assets/weathers/USA_CO_Denver-Aurora-Buckley.AFB.724695_TMY3.epw')}):Calculate Outside Surface Heat Balance\n",
      "  0%|          | 0/100.0 [00:00<?, ?it/s, Calculate Inside Surface Heat Balance] INFO:System({'building': PosixPath('/home/AD/user/lab/controllables-core/.venv/lib/python3.11/site-packages/energyplus/dataset/basic/assets/models/1ZoneEvapCooler.idf'), 'weather': PosixPath('/home/AD/user/lab/controllables-core/.venv/lib/python3.11/site-packages/energyplus/dataset/basic/assets/weathers/USA_CO_Denver-Aurora-Buckley.AFB.724695_TMY3.epw')}):Calculate Inside Surface Heat Balance\n",
      "  0%|          | 0/100.0 [00:00<?, ?it/s, Calculate Air Heat Balance]           INFO:System({'building': PosixPath('/home/AD/user/lab/controllables-core/.venv/lib/python3.11/site-packages/energyplus/dataset/basic/assets/models/1ZoneEvapCooler.idf'), 'weather': PosixPath('/home/AD/user/lab/controllables-core/.venv/lib/python3.11/site-packages/energyplus/dataset/basic/assets/weathers/USA_CO_Denver-Aurora-Buckley.AFB.724695_TMY3.epw')}):Calculate Air Heat Balance\n",
      "  0%|          | 0/100.0 [00:00<?, ?it/s, Initializing HVAC]         INFO:System({'building': PosixPath('/home/AD/user/lab/controllables-core/.venv/lib/python3.11/site-packages/energyplus/dataset/basic/assets/models/1ZoneEvapCooler.idf'), 'weather': PosixPath('/home/AD/user/lab/controllables-core/.venv/lib/python3.11/site-packages/energyplus/dataset/basic/assets/weathers/USA_CO_Denver-Aurora-Buckley.AFB.724695_TMY3.epw')}):Initializing HVAC\n",
      "  0%|          | 0/100.0 [00:00<?, ?it/s, Reporting Surfaces]INFO:System({'building': PosixPath('/home/AD/user/lab/controllables-core/.venv/lib/python3.11/site-packages/energyplus/dataset/basic/assets/models/1ZoneEvapCooler.idf'), 'weather': PosixPath('/home/AD/user/lab/controllables-core/.venv/lib/python3.11/site-packages/energyplus/dataset/basic/assets/weathers/USA_CO_Denver-Aurora-Buckley.AFB.724695_TMY3.epw')}):Reporting Surfaces\n",
      "  0%|          | 0/100.0 [00:00<?, ?it/s, Beginning Primary Simulation]INFO:System({'building': PosixPath('/home/AD/user/lab/controllables-core/.venv/lib/python3.11/site-packages/energyplus/dataset/basic/assets/models/1ZoneEvapCooler.idf'), 'weather': PosixPath('/home/AD/user/lab/controllables-core/.venv/lib/python3.11/site-packages/energyplus/dataset/basic/assets/weathers/USA_CO_Denver-Aurora-Buckley.AFB.724695_TMY3.epw')}):Beginning Primary Simulation\n",
      "  0%|          | 0/100.0 [00:00<?, ?it/s, EnergyPlus Run Time=00hr 00min  0.08sec]INFO:System({'building': PosixPath('/home/AD/user/lab/controllables-core/.venv/lib/python3.11/site-packages/energyplus/dataset/basic/assets/models/1ZoneEvapCooler.idf'), 'weather': PosixPath('/home/AD/user/lab/controllables-core/.venv/lib/python3.11/site-packages/energyplus/dataset/basic/assets/weathers/USA_CO_Denver-Aurora-Buckley.AFB.724695_TMY3.epw')}):EnergyPlus Run Time=00hr 00min  0.08sec\n"
     ]
    }
   ],
   "source": [
    "if system.started:\n",
    "    system.stop()"
   ]
  },
  {
   "cell_type": "markdown",
   "metadata": {},
   "source": [
    "## 🤔 Reflect"
   ]
  },
  {
   "cell_type": "markdown",
   "metadata": {},
   "source": [
    "TODO"
   ]
  }
 ],
 "metadata": {
  "kernelspec": {
   "display_name": ".venv",
   "language": "python",
   "name": "python3"
  },
  "language_info": {
   "codemirror_mode": {
    "name": "ipython",
    "version": 3
   },
   "file_extension": ".py",
   "mimetype": "text/x-python",
   "name": "python",
   "nbconvert_exporter": "python",
   "pygments_lexer": "ipython3",
   "version": "3.11.2"
  }
 },
 "nbformat": 4,
 "nbformat_minor": 4
}
