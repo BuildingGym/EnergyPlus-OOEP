{
 "cells": [
  {
   "cell_type": "markdown",
   "metadata": {},
   "source": [
    "# 🔧 Chapter 0: Setup\n",
    "\n",
    "Before you start:\n",
    "- Make sure you have [`python`](https://wiki.python.org/moin/BeginnersGuide/Download) \n",
    "and [`pip`](https://packaging.python.org/en/latest/tutorials/installing-packages/#ensure-you-can-run-pip-from-the-command-line) installed.\n",
    "\n",
    "What you will learn in this chapter:\n",
    "- How to _install_ the package."
   ]
  },
  {
   "cell_type": "markdown",
   "metadata": {},
   "source": [
    "## 🧳 Prepare"
   ]
  },
  {
   "cell_type": "markdown",
   "metadata": {},
   "source": [
    "```sh\n",
    "# TODO install with dependencies for examples\n",
    "#python3 -m pip install controllables-energyplus[examples]\n",
    "\n",
    "# TODO mv energyplus to sep repo\n",
    "#python3 -m pip install controllables-core\n",
    "\n",
    "# TODO mv pypi\n",
    "python3 -m  pip install --extra-index-url https://test.pypi.org/simple git+https://github.com/BuildingGym/EnergyPlus-OOEP\n",
    "```"
   ]
  },
  {
   "cell_type": "markdown",
   "metadata": {},
   "source": [
    "## ✅ Validate"
   ]
  },
  {
   "cell_type": "markdown",
   "metadata": {},
   "source": [
    "Verify the installation by importing the package."
   ]
  },
  {
   "cell_type": "code",
   "execution_count": 1,
   "metadata": {},
   "outputs": [
    {
     "data": {
      "text/plain": [
       "<module 'controllables.energyplus' from '/home/AD/user/lab/controllables-core/packages/controllables/energyplus/__init__.py'>"
      ]
     },
     "execution_count": 1,
     "metadata": {},
     "output_type": "execute_result"
    }
   ],
   "source": [
    "import controllables.energyplus\n",
    "\n",
    "controllables.energyplus"
   ]
  }
 ],
 "metadata": {
  "kernelspec": {
   "display_name": ".venv",
   "language": "python",
   "name": "python3"
  },
  "language_info": {
   "codemirror_mode": {
    "name": "ipython",
    "version": 3
   },
   "file_extension": ".py",
   "mimetype": "text/x-python",
   "name": "python",
   "nbconvert_exporter": "python",
   "pygments_lexer": "ipython3",
   "version": "3.11.2"
  }
 },
 "nbformat": 4,
 "nbformat_minor": 2
}
