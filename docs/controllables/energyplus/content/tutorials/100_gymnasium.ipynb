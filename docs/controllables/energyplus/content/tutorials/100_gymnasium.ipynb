{
 "cells": [
  {
   "cell_type": "code",
   "execution_count": 1,
   "metadata": {},
   "outputs": [
    {
     "data": {
      "application/vnd.jupyter.widget-view+json": {
       "model_id": "bab9e049dc12405eb15758cc0458b2c3",
       "version_major": 2,
       "version_minor": 0
      },
      "text/plain": [
       "  0%|          | 0/100 [00:00<?, ?it/s]"
      ]
     },
     "metadata": {},
     "output_type": "display_data"
    },
    {
     "data": {
      "text/plain": [
       "<controllables.energyplus.world.World at 0x7fdbc2922b50>"
      ]
     },
     "execution_count": 1,
     "metadata": {},
     "output_type": "execute_result"
    }
   ],
   "source": [
    "from controllables.core import TemporaryUnavailableError\n",
    "from controllables.energyplus import (\n",
    "    World,\n",
    "    #WeatherModel,\n",
    "    #Report,\n",
    "    Actuator,\n",
    "    OutputVariable,\n",
    ")\n",
    "\n",
    "from energyplus.dataset.basic import dataset as _epds_\n",
    "\n",
    "world = World(\n",
    "    input=World.Specs.Input(\n",
    "        world=(\n",
    "            _epds_.models / '1ZoneEvapCooler.idf'\n",
    "        ),\n",
    "        weather=(_epds_.weathers / 'USA_CO_Denver-Aurora-Buckley.AFB.724695_TMY3.epw'),\n",
    "    ),\n",
    "    output=World.Specs.Output(\n",
    "        #report=('/tmp/ooep-report-9e1287d2-8e75-4cf5-bbc5-f76580b56a69'),\n",
    "    ),\n",
    "    runtime=World.Specs.Runtime(\n",
    "        #recurring=True,\n",
    "        #design_day=True,\n",
    "    ),\n",
    ")\n",
    "world.add('logging:progress')"
   ]
  },
  {
   "cell_type": "markdown",
   "metadata": {},
   "source": [
    "### Barebone"
   ]
  },
  {
   "cell_type": "code",
   "execution_count": 2,
   "metadata": {},
   "outputs": [],
   "source": [
    "from controllables.core.tools.gymnasium import (\n",
    "    Agent,\n",
    "    DictSpace,\n",
    "    BoxSpace,\n",
    ")\n",
    "\n",
    "import numpy as _numpy_\n",
    "\n",
    "\n",
    "agent = Agent({\n",
    "    'action_space': DictSpace({\n",
    "        'thermostat': BoxSpace(\n",
    "            low=15., high=20.,\n",
    "            dtype=_numpy_.float32,\n",
    "            shape=(),\n",
    "        ).bind(Actuator.Ref(\n",
    "            type='Zone Temperature Control',\n",
    "            control_type='Heating Setpoint',\n",
    "            key='MAIN ZONE',\n",
    "        ))\n",
    "    }),    \n",
    "    'observation_space': DictSpace({\n",
    "        'temperature': BoxSpace(\n",
    "            low=-_numpy_.inf, high=+_numpy_.inf,\n",
    "            dtype=_numpy_.float32,\n",
    "            shape=(),\n",
    "        ).bind(world[OutputVariable.Ref(\n",
    "            type='Zone Air Temperature',\n",
    "            key='MAIN ZONE',\n",
    "        )]),\n",
    "    }),\n",
    "}).__attach__(world)"
   ]
  },
  {
   "cell_type": "code",
   "execution_count": 3,
   "metadata": {},
   "outputs": [
    {
     "data": {
      "text/plain": [
       "<controllables.energyplus.world.World at 0x7fdbc2922b50>"
      ]
     },
     "execution_count": 3,
     "metadata": {},
     "output_type": "execute_result"
    }
   ],
   "source": [
    "world.start()"
   ]
  },
  {
   "cell_type": "code",
   "execution_count": 4,
   "metadata": {},
   "outputs": [
    {
     "name": "stdout",
     "output_type": "stream",
     "text": [
      "ExecutionContext(vars=Arguments(Context(event=<controllables.energyplus.events.Event object at 0x7fdb9034b6d0>), ), ack=<controllables.core.callables.ExecutionContext.Ack object at 0x7fdb903476d0>)\n",
      "ExecutionContext(vars=Arguments(Context(event=<controllables.energyplus.events.Event object at 0x7fdb9034b6d0>), ), ack=<controllables.core.callables.ExecutionContext.Ack object at 0x7fdb90353610>)\n",
      "ExecutionContext(vars=Arguments(Context(event=<controllables.energyplus.events.Event object at 0x7fdb9034b6d0>), ), ack=<controllables.core.callables.ExecutionContext.Ack object at 0x7fdb90350a50>)\n",
      "ExecutionContext(vars=Arguments(Context(event=<controllables.energyplus.events.Event object at 0x7fdb9034b6d0>), ), ack=<controllables.core.callables.ExecutionContext.Ack object at 0x7fdb90352c10>)\n",
      "ExecutionContext(vars=Arguments(Context(event=<controllables.energyplus.events.Event object at 0x7fdb9034b6d0>), ), ack=<controllables.core.callables.ExecutionContext.Ack object at 0x7fdb90350110>)\n",
      "ExecutionContext(vars=Arguments(Context(event=<controllables.energyplus.events.Event object at 0x7fdb9034b6d0>), ), ack=<controllables.core.callables.ExecutionContext.Ack object at 0x7fdb90350450>)\n",
      "ExecutionContext(vars=Arguments(Context(event=<controllables.energyplus.events.Event object at 0x7fdb9034b6d0>), ), ack=<controllables.core.callables.ExecutionContext.Ack object at 0x7fdb90350910>)\n",
      "ExecutionContext(vars=Arguments(Context(event=<controllables.energyplus.events.Event object at 0x7fdb9034b6d0>), ), ack=<controllables.core.callables.ExecutionContext.Ack object at 0x7fdb90350e90>)\n",
      "ExecutionContext(vars=Arguments(Context(event=<controllables.energyplus.events.Event object at 0x7fdb9034b6d0>), ), ack=<controllables.core.callables.ExecutionContext.Ack object at 0x7fdb90351390>)\n",
      "ExecutionContext(vars=Arguments(Context(event=<controllables.energyplus.events.Event object at 0x7fdb9034b6d0>), ), ack=<controllables.core.callables.ExecutionContext.Ack object at 0x7fdb90351790>)\n"
     ]
    }
   ],
   "source": [
    "for _ in range(10):\n",
    "    ctx = world.events['end_zone_timestep_after_zone_reporting'].wait()\n",
    "    print(ctx)"
   ]
  },
  {
   "cell_type": "code",
   "execution_count": 5,
   "metadata": {},
   "outputs": [
    {
     "name": "stdout",
     "output_type": "stream",
     "text": [
      "2005-01-01 00:10:00 {'temperature': array(20., dtype=float32)}\n",
      "2005-01-01 00:20:00 {'temperature': array(20., dtype=float32)}\n",
      "2005-01-01 00:30:00 {'temperature': array(20., dtype=float32)}\n",
      "2005-01-01 00:40:00 {'temperature': array(20., dtype=float32)}\n",
      "2005-01-01 00:50:00 {'temperature': array(20., dtype=float32)}\n",
      "2005-01-01 01:00:00 {'temperature': array(20., dtype=float32)}\n",
      "2005-01-01 01:10:00 {'temperature': array(20., dtype=float32)}\n",
      "2005-01-01 01:20:00 {'temperature': array(20., dtype=float32)}\n",
      "2005-01-01 01:30:00 {'temperature': array(20., dtype=float32)}\n",
      "2005-01-01 01:40:00 {'temperature': array(20., dtype=float32)}\n",
      "2005-01-01 01:50:00 {'temperature': array(20., dtype=float32)}\n",
      "2005-01-01 02:00:00 {'temperature': array(20., dtype=float32)}\n",
      "2005-01-01 02:10:00 {'temperature': array(20., dtype=float32)}\n",
      "2005-01-01 02:20:00 {'temperature': array(20., dtype=float32)}\n",
      "2005-01-01 02:30:00 {'temperature': array(20., dtype=float32)}\n",
      "2005-01-01 02:40:00 {'temperature': array(20., dtype=float32)}\n",
      "2005-01-01 02:50:00 {'temperature': array(20., dtype=float32)}\n",
      "2005-01-01 03:00:00 {'temperature': array(20., dtype=float32)}\n",
      "2005-01-01 03:10:00 {'temperature': array(20., dtype=float32)}\n",
      "2005-01-01 03:20:00 {'temperature': array(20., dtype=float32)}\n",
      "2005-01-01 03:30:00 {'temperature': array(20., dtype=float32)}\n",
      "2005-01-01 03:40:00 {'temperature': array(20., dtype=float32)}\n",
      "2005-01-01 03:50:00 {'temperature': array(20., dtype=float32)}\n",
      "2005-01-01 04:00:00 {'temperature': array(20., dtype=float32)}\n",
      "2005-01-01 04:10:00 {'temperature': array(20., dtype=float32)}\n",
      "2005-01-01 04:20:00 {'temperature': array(20., dtype=float32)}\n",
      "2005-01-01 04:30:00 {'temperature': array(20., dtype=float32)}\n",
      "2005-01-01 04:40:00 {'temperature': array(20., dtype=float32)}\n",
      "2005-01-01 04:50:00 {'temperature': array(20., dtype=float32)}\n",
      "2005-01-01 05:00:00 {'temperature': array(20., dtype=float32)}\n",
      "2005-01-01 05:10:00 {'temperature': array(20., dtype=float32)}\n",
      "2005-01-01 05:20:00 {'temperature': array(20., dtype=float32)}\n",
      "2005-01-01 05:30:00 {'temperature': array(20., dtype=float32)}\n",
      "2005-01-01 05:40:00 {'temperature': array(20., dtype=float32)}\n",
      "2005-01-01 05:50:00 {'temperature': array(20., dtype=float32)}\n",
      "2005-01-01 06:00:00 {'temperature': array(20., dtype=float32)}\n",
      "2005-01-01 06:10:00 {'temperature': array(20., dtype=float32)}\n",
      "2005-01-01 06:20:00 {'temperature': array(20., dtype=float32)}\n",
      "2005-01-01 06:30:00 {'temperature': array(20., dtype=float32)}\n",
      "2005-01-01 06:40:00 {'temperature': array(20., dtype=float32)}\n",
      "2005-01-01 06:50:00 {'temperature': array(20., dtype=float32)}\n",
      "2005-01-01 07:00:00 {'temperature': array(20., dtype=float32)}\n",
      "2005-01-01 07:10:00 {'temperature': array(20., dtype=float32)}\n",
      "2005-01-01 07:20:00 {'temperature': array(20., dtype=float32)}\n",
      "2005-01-01 07:30:00 {'temperature': array(20., dtype=float32)}\n",
      "2005-01-01 07:40:00 {'temperature': array(20., dtype=float32)}\n",
      "2005-01-01 07:50:00 {'temperature': array(20., dtype=float32)}\n",
      "2005-01-01 08:00:00 {'temperature': array(20., dtype=float32)}\n",
      "2005-01-01 08:10:00 {'temperature': array(20., dtype=float32)}\n",
      "2005-01-01 08:20:00 {'temperature': array(20., dtype=float32)}\n",
      "2005-01-01 08:30:00 {'temperature': array(20., dtype=float32)}\n",
      "2005-01-01 08:40:00 {'temperature': array(20., dtype=float32)}\n",
      "2005-01-01 08:50:00 {'temperature': array(20., dtype=float32)}\n",
      "2005-01-01 09:00:00 {'temperature': array(20., dtype=float32)}\n",
      "2005-01-01 09:10:00 {'temperature': array(20., dtype=float32)}\n",
      "2005-01-01 09:20:00 {'temperature': array(20., dtype=float32)}\n",
      "2005-01-01 09:30:00 {'temperature': array(20., dtype=float32)}\n",
      "2005-01-01 09:40:00 {'temperature': array(20., dtype=float32)}\n",
      "2005-01-01 09:50:00 {'temperature': array(20., dtype=float32)}\n",
      "2005-01-01 10:00:00 {'temperature': array(20., dtype=float32)}\n",
      "2005-01-01 10:10:00 {'temperature': array(20., dtype=float32)}\n",
      "2005-01-01 10:20:00 {'temperature': array(20., dtype=float32)}\n",
      "2005-01-01 10:30:00 {'temperature': array(20., dtype=float32)}\n",
      "2005-01-01 10:40:00 {'temperature': array(20., dtype=float32)}\n",
      "2005-01-01 10:50:00 {'temperature': array(20., dtype=float32)}\n",
      "2005-01-01 11:00:00 {'temperature': array(20., dtype=float32)}\n",
      "2005-01-01 11:10:00 {'temperature': array(20., dtype=float32)}\n",
      "2005-01-01 11:20:00 {'temperature': array(20., dtype=float32)}\n",
      "2005-01-01 11:30:00 {'temperature': array(20., dtype=float32)}\n",
      "2005-01-01 11:40:00 {'temperature': array(20., dtype=float32)}\n",
      "2005-01-01 11:50:00 {'temperature': array(20., dtype=float32)}\n",
      "2005-01-01 12:00:00 {'temperature': array(20., dtype=float32)}\n",
      "2005-01-01 12:10:00 {'temperature': array(20., dtype=float32)}\n",
      "2005-01-01 12:20:00 {'temperature': array(20., dtype=float32)}\n",
      "2005-01-01 12:30:00 {'temperature': array(20., dtype=float32)}\n",
      "2005-01-01 12:40:00 {'temperature': array(20., dtype=float32)}\n",
      "2005-01-01 12:50:00 {'temperature': array(20., dtype=float32)}\n",
      "2005-01-01 13:00:00 {'temperature': array(20., dtype=float32)}\n",
      "2005-01-01 13:10:00 {'temperature': array(20., dtype=float32)}\n",
      "2005-01-01 13:20:00 {'temperature': array(20., dtype=float32)}\n",
      "2005-01-01 13:30:00 {'temperature': array(20., dtype=float32)}\n",
      "2005-01-01 13:40:00 {'temperature': array(20., dtype=float32)}\n",
      "2005-01-01 13:50:00 {'temperature': array(20., dtype=float32)}\n",
      "2005-01-01 14:00:00 {'temperature': array(20., dtype=float32)}\n",
      "2005-01-01 14:10:00 {'temperature': array(20., dtype=float32)}\n",
      "2005-01-01 14:20:00 {'temperature': array(20., dtype=float32)}\n",
      "2005-01-01 14:30:00 {'temperature': array(20., dtype=float32)}\n",
      "2005-01-01 14:40:00 {'temperature': array(20., dtype=float32)}\n",
      "2005-01-01 14:50:00 {'temperature': array(20., dtype=float32)}\n",
      "2005-01-01 15:00:00 {'temperature': array(20., dtype=float32)}\n",
      "2005-01-01 15:10:00 {'temperature': array(20., dtype=float32)}\n",
      "2005-01-01 15:20:00 {'temperature': array(20., dtype=float32)}\n",
      "2005-01-01 15:30:00 {'temperature': array(20., dtype=float32)}\n",
      "2005-01-01 15:40:00 {'temperature': array(20., dtype=float32)}\n",
      "2005-01-01 15:50:00 {'temperature': array(20., dtype=float32)}\n",
      "2005-01-01 16:00:00 {'temperature': array(20., dtype=float32)}\n",
      "2005-01-01 16:10:00 {'temperature': array(20., dtype=float32)}\n",
      "2005-01-01 16:20:00 {'temperature': array(20., dtype=float32)}\n",
      "2005-01-01 16:30:00 {'temperature': array(20., dtype=float32)}\n",
      "2005-01-01 16:40:00 {'temperature': array(20., dtype=float32)}\n"
     ]
    }
   ],
   "source": [
    "for _ in range(100):\n",
    "    ctx = await world.events['end_zone_timestep_after_zone_reporting'].awaitable(deferred=True)\n",
    "    try: \n",
    "        print(world['wallclock'].value, agent.observe())\n",
    "    except TemporaryUnavailableError: \n",
    "        pass\n",
    "    except Exception as e: \n",
    "        ctx.ack()\n",
    "        raise e\n",
    "    agent.act({'thermostat': 20})\n",
    "    ctx.ack()"
   ]
  },
  {
   "cell_type": "code",
   "execution_count": 6,
   "metadata": {},
   "outputs": [
    {
     "data": {
      "text/plain": [
       "<controllables.energyplus.world.World at 0x7fdbc2922b50>"
      ]
     },
     "execution_count": 6,
     "metadata": {},
     "output_type": "execute_result"
    }
   ],
   "source": [
    "world.stop()"
   ]
  },
  {
   "cell_type": "markdown",
   "metadata": {},
   "source": [
    "### `gymnasium` `Env`s"
   ]
  },
  {
   "cell_type": "code",
   "execution_count": 7,
   "metadata": {},
   "outputs": [],
   "source": [
    "from controllables.core.tools.gymnasium import Env\n",
    "\n",
    "env = Env({\n",
    "    'action_space': DictSpace({\n",
    "        'thermostat': BoxSpace(\n",
    "            low=15., high=20.,\n",
    "            dtype=_numpy_.float32,\n",
    "            shape=(),\n",
    "        ).bind(Actuator.Ref(\n",
    "            type='Zone Temperature Control',\n",
    "            control_type='Heating Setpoint',\n",
    "            key='MAIN ZONE',\n",
    "        ))\n",
    "    }),    \n",
    "    'observation_space': DictSpace({\n",
    "        'temperature': BoxSpace(\n",
    "            low=-_numpy_.inf, high=+_numpy_.inf,\n",
    "            dtype=_numpy_.float32,\n",
    "            shape=(),\n",
    "        ).bind(world[OutputVariable.Ref(\n",
    "            type='Zone Air Temperature',\n",
    "            key='MAIN ZONE',\n",
    "        )]),\n",
    "    }),\n",
    "    'reward_function': lambda agent: 1,\n",
    "    'events': {'step': 'end_zone_timestep_after_zone_reporting'},\n",
    "}).__attach__(world)"
   ]
  },
  {
   "cell_type": "code",
   "execution_count": 8,
   "metadata": {},
   "outputs": [
    {
     "data": {
      "text/plain": [
       "<controllables.energyplus.world.World at 0x7fdbc2922b50>"
      ]
     },
     "execution_count": 8,
     "metadata": {},
     "output_type": "execute_result"
    }
   ],
   "source": [
    "world.start()"
   ]
  },
  {
   "cell_type": "code",
   "execution_count": 9,
   "metadata": {},
   "outputs": [
    {
     "name": "stdout",
     "output_type": "stream",
     "text": [
      "step StepResult(observation={'temperature': array(17.182953, dtype=float32)}, reward=1, terminated=False, truncated=False, info={})\n",
      "step StepResult(observation={'temperature': array(17.701578, dtype=float32)}, reward=1, terminated=False, truncated=False, info={})\n",
      "step StepResult(observation={'temperature': array(18.159428, dtype=float32)}, reward=1, terminated=False, truncated=False, info={})\n",
      "step StepResult(observation={'temperature': array(17.0818, dtype=float32)}, reward=1, terminated=False, truncated=False, info={})\n",
      "step StepResult(observation={'temperature': array(16.666447, dtype=float32)}, reward=1, terminated=False, truncated=False, info={})\n",
      "step StepResult(observation={'temperature': array(17.443327, dtype=float32)}, reward=1, terminated=False, truncated=False, info={})\n",
      "step StepResult(observation={'temperature': array(18.005993, dtype=float32)}, reward=1, terminated=False, truncated=False, info={})\n",
      "step StepResult(observation={'temperature': array(18.319244, dtype=float32)}, reward=1, terminated=False, truncated=False, info={})\n",
      "step StepResult(observation={'temperature': array(17.428474, dtype=float32)}, reward=1, terminated=False, truncated=False, info={})\n",
      "step StepResult(observation={'temperature': array(17.385393, dtype=float32)}, reward=1, terminated=False, truncated=False, info={})\n",
      "step StepResult(observation={'temperature': array(16.855913, dtype=float32)}, reward=1, terminated=False, truncated=False, info={})\n",
      "step StepResult(observation={'temperature': array(17.102398, dtype=float32)}, reward=1, terminated=False, truncated=False, info={})\n",
      "step StepResult(observation={'temperature': array(17.873503, dtype=float32)}, reward=1, terminated=False, truncated=False, info={})\n",
      "step StepResult(observation={'temperature': array(15.404748, dtype=float32)}, reward=1, terminated=False, truncated=False, info={})\n",
      "step StepResult(observation={'temperature': array(16.19129, dtype=float32)}, reward=1, terminated=False, truncated=False, info={})\n",
      "step StepResult(observation={'temperature': array(16.471243, dtype=float32)}, reward=1, terminated=False, truncated=False, info={})\n",
      "step StepResult(observation={'temperature': array(17.280977, dtype=float32)}, reward=1, terminated=False, truncated=False, info={})\n",
      "step StepResult(observation={'temperature': array(16.295208, dtype=float32)}, reward=1, terminated=False, truncated=False, info={})\n",
      "step StepResult(observation={'temperature': array(16.295208, dtype=float32)}, reward=1, terminated=False, truncated=False, info={})\n",
      "step StepResult(observation={'temperature': array(17.119322, dtype=float32)}, reward=1, terminated=False, truncated=False, info={})\n",
      "step StepResult(observation={'temperature': array(17.706976, dtype=float32)}, reward=1, terminated=False, truncated=False, info={})\n",
      "step StepResult(observation={'temperature': array(18.411892, dtype=float32)}, reward=1, terminated=False, truncated=False, info={})\n",
      "step StepResult(observation={'temperature': array(16.148027, dtype=float32)}, reward=1, terminated=False, truncated=False, info={})\n",
      "step StepResult(observation={'temperature': array(15.097218, dtype=float32)}, reward=1, terminated=False, truncated=False, info={})\n",
      "step StepResult(observation={'temperature': array(16.752157, dtype=float32)}, reward=1, terminated=False, truncated=False, info={})\n",
      "step StepResult(observation={'temperature': array(17.147324, dtype=float32)}, reward=1, terminated=False, truncated=False, info={})\n",
      "step StepResult(observation={'temperature': array(17.193275, dtype=float32)}, reward=1, terminated=False, truncated=False, info={})\n",
      "step StepResult(observation={'temperature': array(17.65978, dtype=float32)}, reward=1, terminated=False, truncated=False, info={})\n",
      "step StepResult(observation={'temperature': array(16.93634, dtype=float32)}, reward=1, terminated=False, truncated=False, info={})\n",
      "step StepResult(observation={'temperature': array(16.984917, dtype=float32)}, reward=1, terminated=False, truncated=False, info={})\n",
      "step StepResult(observation={'temperature': array(17.637007, dtype=float32)}, reward=1, terminated=False, truncated=False, info={})\n",
      "step StepResult(observation={'temperature': array(17.223679, dtype=float32)}, reward=1, terminated=False, truncated=False, info={})\n",
      "step StepResult(observation={'temperature': array(17.018064, dtype=float32)}, reward=1, terminated=False, truncated=False, info={})\n",
      "step StepResult(observation={'temperature': array(17.610073, dtype=float32)}, reward=1, terminated=False, truncated=False, info={})\n",
      "step StepResult(observation={'temperature': array(18.091814, dtype=float32)}, reward=1, terminated=False, truncated=False, info={})\n",
      "step StepResult(observation={'temperature': array(18.36406, dtype=float32)}, reward=1, terminated=False, truncated=False, info={})\n",
      "step StepResult(observation={'temperature': array(18.501827, dtype=float32)}, reward=1, terminated=False, truncated=False, info={})\n",
      "step StepResult(observation={'temperature': array(18.368076, dtype=float32)}, reward=1, terminated=False, truncated=False, info={})\n",
      "step StepResult(observation={'temperature': array(16.493351, dtype=float32)}, reward=1, terminated=False, truncated=False, info={})\n",
      "step StepResult(observation={'temperature': array(16.818333, dtype=float32)}, reward=1, terminated=False, truncated=False, info={})\n",
      "step StepResult(observation={'temperature': array(17.581755, dtype=float32)}, reward=1, terminated=False, truncated=False, info={})\n",
      "step StepResult(observation={'temperature': array(16.697376, dtype=float32)}, reward=1, terminated=False, truncated=False, info={})\n",
      "step StepResult(observation={'temperature': array(16.697376, dtype=float32)}, reward=1, terminated=False, truncated=False, info={})\n",
      "step StepResult(observation={'temperature': array(17.35228, dtype=float32)}, reward=1, terminated=False, truncated=False, info={})\n",
      "step StepResult(observation={'temperature': array(16.084747, dtype=float32)}, reward=1, terminated=False, truncated=False, info={})\n",
      "step StepResult(observation={'temperature': array(16.18595, dtype=float32)}, reward=1, terminated=False, truncated=False, info={})\n",
      "step StepResult(observation={'temperature': array(16.36717, dtype=float32)}, reward=1, terminated=False, truncated=False, info={})\n",
      "step StepResult(observation={'temperature': array(16.36717, dtype=float32)}, reward=1, terminated=False, truncated=False, info={})\n",
      "step StepResult(observation={'temperature': array(15.996716, dtype=float32)}, reward=1, terminated=False, truncated=False, info={})\n",
      "step StepResult(observation={'temperature': array(15.879647, dtype=float32)}, reward=1, terminated=False, truncated=False, info={})\n",
      "step StepResult(observation={'temperature': array(15.738652, dtype=float32)}, reward=1, terminated=False, truncated=False, info={})\n",
      "step StepResult(observation={'temperature': array(15.738652, dtype=float32)}, reward=1, terminated=False, truncated=False, info={})\n",
      "step StepResult(observation={'temperature': array(16.788134, dtype=float32)}, reward=1, terminated=False, truncated=False, info={})\n",
      "step StepResult(observation={'temperature': array(15.928101, dtype=float32)}, reward=1, terminated=False, truncated=False, info={})\n",
      "step StepResult(observation={'temperature': array(15.928101, dtype=float32)}, reward=1, terminated=False, truncated=False, info={})\n",
      "step StepResult(observation={'temperature': array(16.903671, dtype=float32)}, reward=1, terminated=False, truncated=False, info={})\n",
      "step StepResult(observation={'temperature': array(17.591034, dtype=float32)}, reward=1, terminated=False, truncated=False, info={})\n",
      "step StepResult(observation={'temperature': array(17.815823, dtype=float32)}, reward=1, terminated=False, truncated=False, info={})\n",
      "step StepResult(observation={'temperature': array(18.104523, dtype=float32)}, reward=1, terminated=False, truncated=False, info={})\n",
      "step StepResult(observation={'temperature': array(18.337774, dtype=float32)}, reward=1, terminated=False, truncated=False, info={})\n",
      "step StepResult(observation={'temperature': array(18.496283, dtype=float32)}, reward=1, terminated=False, truncated=False, info={})\n",
      "step StepResult(observation={'temperature': array(16.678082, dtype=float32)}, reward=1, terminated=False, truncated=False, info={})\n",
      "step StepResult(observation={'temperature': array(16.879156, dtype=float32)}, reward=1, terminated=False, truncated=False, info={})\n",
      "step StepResult(observation={'temperature': array(17.59251, dtype=float32)}, reward=1, terminated=False, truncated=False, info={})\n",
      "step StepResult(observation={'temperature': array(16.761112, dtype=float32)}, reward=1, terminated=False, truncated=False, info={})\n",
      "step StepResult(observation={'temperature': array(16.953838, dtype=float32)}, reward=1, terminated=False, truncated=False, info={})\n",
      "step StepResult(observation={'temperature': array(15.348412, dtype=float32)}, reward=1, terminated=False, truncated=False, info={})\n",
      "step StepResult(observation={'temperature': array(15.91657, dtype=float32)}, reward=1, terminated=False, truncated=False, info={})\n",
      "step StepResult(observation={'temperature': array(15.727179, dtype=float32)}, reward=1, terminated=False, truncated=False, info={})\n",
      "step StepResult(observation={'temperature': array(16.651237, dtype=float32)}, reward=1, terminated=False, truncated=False, info={})\n",
      "step StepResult(observation={'temperature': array(17.15525, dtype=float32)}, reward=1, terminated=False, truncated=False, info={})\n",
      "step StepResult(observation={'temperature': array(17.374203, dtype=float32)}, reward=1, terminated=False, truncated=False, info={})\n",
      "step StepResult(observation={'temperature': array(17.92542, dtype=float32)}, reward=1, terminated=False, truncated=False, info={})\n",
      "step StepResult(observation={'temperature': array(17.373436, dtype=float32)}, reward=1, terminated=False, truncated=False, info={})\n",
      "step StepResult(observation={'temperature': array(17.47506, dtype=float32)}, reward=1, terminated=False, truncated=False, info={})\n",
      "step StepResult(observation={'temperature': array(16.145159, dtype=float32)}, reward=1, terminated=False, truncated=False, info={})\n",
      "step StepResult(observation={'temperature': array(16.46557, dtype=float32)}, reward=1, terminated=False, truncated=False, info={})\n",
      "step StepResult(observation={'temperature': array(17.229338, dtype=float32)}, reward=1, terminated=False, truncated=False, info={})\n",
      "step StepResult(observation={'temperature': array(17.324556, dtype=float32)}, reward=1, terminated=False, truncated=False, info={})\n",
      "step StepResult(observation={'temperature': array(16.075901, dtype=float32)}, reward=1, terminated=False, truncated=False, info={})\n",
      "step StepResult(observation={'temperature': array(16.334372, dtype=float32)}, reward=1, terminated=False, truncated=False, info={})\n",
      "step StepResult(observation={'temperature': array(17.136353, dtype=float32)}, reward=1, terminated=False, truncated=False, info={})\n"
     ]
    },
    {
     "name": "stdout",
     "output_type": "stream",
     "text": [
      "step StepResult(observation={'temperature': array(17.736328, dtype=float32)}, reward=1, terminated=False, truncated=False, info={})\n",
      "step StepResult(observation={'temperature': array(17.872324, dtype=float32)}, reward=1, terminated=False, truncated=False, info={})\n",
      "step StepResult(observation={'temperature': array(16.24145, dtype=float32)}, reward=1, terminated=False, truncated=False, info={})\n",
      "step StepResult(observation={'temperature': array(17.13417, dtype=float32)}, reward=1, terminated=False, truncated=False, info={})\n",
      "step StepResult(observation={'temperature': array(17.482183, dtype=float32)}, reward=1, terminated=False, truncated=False, info={})\n",
      "step StepResult(observation={'temperature': array(16.499548, dtype=float32)}, reward=1, terminated=False, truncated=False, info={})\n",
      "step StepResult(observation={'temperature': array(16.347603, dtype=float32)}, reward=1, terminated=False, truncated=False, info={})\n",
      "step StepResult(observation={'temperature': array(16.659033, dtype=float32)}, reward=1, terminated=False, truncated=False, info={})\n",
      "step StepResult(observation={'temperature': array(17.33574, dtype=float32)}, reward=1, terminated=False, truncated=False, info={})\n",
      "step StepResult(observation={'temperature': array(18.00923, dtype=float32)}, reward=1, terminated=False, truncated=False, info={})\n",
      "step StepResult(observation={'temperature': array(17.233257, dtype=float32)}, reward=1, terminated=False, truncated=False, info={})\n",
      "step StepResult(observation={'temperature': array(17.801937, dtype=float32)}, reward=1, terminated=False, truncated=False, info={})\n",
      "step StepResult(observation={'temperature': array(16.902166, dtype=float32)}, reward=1, terminated=False, truncated=False, info={})\n",
      "step StepResult(observation={'temperature': array(16.976011, dtype=float32)}, reward=1, terminated=False, truncated=False, info={})\n",
      "step StepResult(observation={'temperature': array(17.58846, dtype=float32)}, reward=1, terminated=False, truncated=False, info={})\n",
      "step StepResult(observation={'temperature': array(16.464096, dtype=float32)}, reward=1, terminated=False, truncated=False, info={})\n",
      "step StepResult(observation={'temperature': array(16.654116, dtype=float32)}, reward=1, terminated=False, truncated=False, info={})\n",
      "step StepResult(observation={'temperature': array(17.365862, dtype=float32)}, reward=1, terminated=False, truncated=False, info={})\n"
     ]
    }
   ],
   "source": [
    "for _ in range(100):\n",
    "    try: print('step', env.step(env.action_space.sample()))\n",
    "    except TemporaryUnavailableError: pass"
   ]
  },
  {
   "cell_type": "code",
   "execution_count": 10,
   "metadata": {},
   "outputs": [
    {
     "data": {
      "text/plain": [
       "<controllables.energyplus.world.World at 0x7fdbc2922b50>"
      ]
     },
     "execution_count": 10,
     "metadata": {},
     "output_type": "execute_result"
    }
   ],
   "source": [
    "world.stop()"
   ]
  }
 ],
 "metadata": {
  "kernelspec": {
   "display_name": "Python 3 (ipykernel)",
   "language": "python",
   "name": "python3"
  },
  "language_info": {
   "codemirror_mode": {
    "name": "ipython",
    "version": 3
   },
   "file_extension": ".py",
   "mimetype": "text/x-python",
   "name": "python",
   "nbconvert_exporter": "python",
   "pygments_lexer": "ipython3",
   "version": "3.11.2"
  }
 },
 "nbformat": 4,
 "nbformat_minor": 4
}
