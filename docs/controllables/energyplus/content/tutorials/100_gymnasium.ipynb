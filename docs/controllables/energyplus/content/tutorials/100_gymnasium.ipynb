{
 "cells": [
  {
   "cell_type": "code",
   "execution_count": 1,
   "metadata": {},
   "outputs": [],
   "source": [
    "from controllables.energyplus import (\n",
    "    World,\n",
    "    #WeatherModel,\n",
    "    #Report,\n",
    "    Actuator,\n",
    "    OutputVariable,\n",
    ")\n",
    "\n",
    "from energyplus.dataset.basic import dataset as _epds_\n",
    "\n",
    "world = World(\n",
    "    input=World.Specs.Input(\n",
    "        world=(\n",
    "            _epds_.models / '1ZoneEvapCooler.idf'\n",
    "        ),\n",
    "        weather=(_epds_.weathers / 'USA_CO_Denver-Aurora-Buckley.AFB.724695_TMY3.epw'),\n",
    "    ),\n",
    "    output=World.Specs.Output(\n",
    "        #report=('/tmp/ooep-report-9e1287d2-8e75-4cf5-bbc5-f76580b56a69'),\n",
    "    ),\n",
    "    runtime=World.Specs.Runtime(\n",
    "        #recurring=True,\n",
    "        #design_day=True,\n",
    "    ),\n",
    ")"
   ]
  },
  {
   "cell_type": "code",
   "execution_count": 3,
   "metadata": {},
   "outputs": [
    {
     "data": {
      "application/vnd.jupyter.widget-view+json": {
       "model_id": "fc71be0c70a740e486520a1c4d0313e7",
       "version_major": 2,
       "version_minor": 0
      },
      "text/plain": [
       "  0%|          | 0/100 [00:00<?, ?it/s]"
      ]
     },
     "metadata": {},
     "output_type": "display_data"
    },
    {
     "data": {
      "text/plain": [
       "<Task pending name='Task-5' coro=<World.run() running at /home/user@AD/lab/EnergyPlus-OOEP/packages/controllables/core/utils/awaitables.py:81>>"
      ]
     },
     "execution_count": 3,
     "metadata": {},
     "output_type": "execute_result"
    }
   ],
   "source": [
    "world.add('logging:progress').awaitable.run()"
   ]
  },
  {
   "cell_type": "markdown",
   "metadata": {},
   "source": [
    "### Barebone"
   ]
  },
  {
   "cell_type": "code",
   "execution_count": 2,
   "metadata": {},
   "outputs": [],
   "source": [
    "from controllables.core.tools.gymnasium import (\n",
    "    Agent,\n",
    "    DictSpace,\n",
    "    BoxSpace,\n",
    ")\n",
    "\n",
    "import numpy as _numpy_\n",
    "\n",
    "\n",
    "agent = Agent({\n",
    "    'action_space': DictSpace({\n",
    "        'thermostat': BoxSpace(\n",
    "            low=15., high=20.,\n",
    "            dtype=_numpy_.float32,\n",
    "            shape=(),\n",
    "        ).bind(Actuator.Ref(\n",
    "            type='Zone Temperature Control',\n",
    "            control_type='Heating Setpoint',\n",
    "            key='MAIN ZONE',\n",
    "        ))\n",
    "    }),    \n",
    "    'observation_space': DictSpace({\n",
    "        'temperature': BoxSpace(\n",
    "            low=-_numpy_.inf, high=+_numpy_.inf,\n",
    "            dtype=_numpy_.float32,\n",
    "            shape=(),\n",
    "        ).bind(world[OutputVariable.Ref(\n",
    "            type='Zone Air Temperature',\n",
    "            key='MAIN ZONE',\n",
    "        )]),\n",
    "    }),\n",
    "}).__attach__(world)"
   ]
  },
  {
   "cell_type": "code",
   "execution_count": 4,
   "metadata": {},
   "outputs": [
    {
     "name": "stdout",
     "output_type": "stream",
     "text": [
      "CallbackContext(input=CallbackArguments(Context(event=Event(ref='end_zone_timestep_after_zone_reporting')), ), output=<controllables.core.specs.callbacks.CallbackResult object at 0x7fa5d05bb890>)\n",
      "CallbackContext(input=CallbackArguments(Context(event=Event(ref='end_zone_timestep_after_zone_reporting')), ), output=<controllables.core.specs.callbacks.CallbackResult object at 0x7fa5d05bb650>)\n",
      "CallbackContext(input=CallbackArguments(Context(event=Event(ref='end_zone_timestep_after_zone_reporting')), ), output=<controllables.core.specs.callbacks.CallbackResult object at 0x7fa5d05bb590>)\n",
      "CallbackContext(input=CallbackArguments(Context(event=Event(ref='end_zone_timestep_after_zone_reporting')), ), output=<controllables.core.specs.callbacks.CallbackResult object at 0x7fa5d05bbc10>)\n",
      "CallbackContext(input=CallbackArguments(Context(event=Event(ref='end_zone_timestep_after_zone_reporting')), ), output=<controllables.core.specs.callbacks.CallbackResult object at 0x7fa5d05bbdd0>)\n",
      "CallbackContext(input=CallbackArguments(Context(event=Event(ref='end_zone_timestep_after_zone_reporting')), ), output=<controllables.core.specs.callbacks.CallbackResult object at 0x7fa5d05bbf50>)\n",
      "CallbackContext(input=CallbackArguments(Context(event=Event(ref='end_zone_timestep_after_zone_reporting')), ), output=<controllables.core.specs.callbacks.CallbackResult object at 0x7fa5d05c0150>)\n",
      "CallbackContext(input=CallbackArguments(Context(event=Event(ref='end_zone_timestep_after_zone_reporting')), ), output=<controllables.core.specs.callbacks.CallbackResult object at 0x7fa5d05c0390>)\n",
      "CallbackContext(input=CallbackArguments(Context(event=Event(ref='end_zone_timestep_after_zone_reporting')), ), output=<controllables.core.specs.callbacks.CallbackResult object at 0x7fa5d05c05d0>)\n",
      "CallbackContext(input=CallbackArguments(Context(event=Event(ref='end_zone_timestep_after_zone_reporting')), ), output=<controllables.core.specs.callbacks.CallbackResult object at 0x7fa5d05c0810>)\n"
     ]
    }
   ],
   "source": [
    "for _ in range(10):\n",
    "    ctx = world.events['end_zone_timestep_after_zone_reporting'].wait()\n",
    "    print(ctx)"
   ]
  },
  {
   "cell_type": "code",
   "execution_count": 5,
   "metadata": {},
   "outputs": [
    {
     "name": "stdout",
     "output_type": "stream",
     "text": [
      "2024-07-21 00:11:00 {'temperature': array(22.434202, dtype=float32)}\n",
      "2024-07-21 00:25:00 {'temperature': array(23.254333, dtype=float32)}\n",
      "2024-07-21 00:31:25.714286 {'temperature': array(22.179026, dtype=float32)}\n",
      "2024-07-21 00:40:00 {'temperature': array(21.829006, dtype=float32)}\n",
      "2024-07-21 00:53:20 {'temperature': array(22.748838, dtype=float32)}\n",
      "2024-07-21 01:03:20 {'temperature': array(22.092676, dtype=float32)}\n",
      "2024-07-21 01:11:15 {'temperature': array(21.604664, dtype=float32)}\n",
      "2024-07-21 01:20:00 {'temperature': array(22.797531, dtype=float32)}\n",
      "2024-07-21 01:35:00 {'temperature': array(23.166058, dtype=float32)}\n",
      "2024-07-21 01:45:00 {'temperature': array(20.270628, dtype=float32)}\n",
      "2024-07-21 01:50:00 {'temperature': array(20.614998, dtype=float32)}\n",
      "2024-07-21 02:03:20 {'temperature': array(21.791773, dtype=float32)}\n",
      "2024-07-21 02:12:30 {'temperature': array(22.170866, dtype=float32)}\n",
      "2024-07-21 02:25:00 {'temperature': array(22.271648, dtype=float32)}\n",
      "2024-07-21 02:35:00 {'temperature': array(22.811836, dtype=float32)}\n",
      "2024-07-21 02:45:00 {'temperature': array(23.102867, dtype=float32)}\n",
      "2024-07-21 02:50:00 {'temperature': array(23.230175, dtype=float32)}\n",
      "2024-07-21 03:01:15 {'temperature': array(21.787388, dtype=float32)}\n",
      "2024-07-21 03:15:00 {'temperature': array(22.241241, dtype=float32)}\n",
      "2024-07-21 03:23:20 {'temperature': array(22.517294, dtype=float32)}\n",
      "2024-07-21 03:30:00 {'temperature': array(22.571486, dtype=float32)}\n",
      "2024-07-21 03:40:00 {'temperature': array(22.791595, dtype=float32)}\n",
      "2024-07-21 03:50:00 {'temperature': array(22.96415, dtype=float32)}\n",
      "2024-07-21 04:00:00 {'temperature': array(23.066397, dtype=float32)}\n",
      "2024-07-21 04:10:00 {'temperature': array(23.110062, dtype=float32)}\n",
      "2024-07-21 04:21:15 {'temperature': array(21.635017, dtype=float32)}\n",
      "2024-07-21 04:35:00 {'temperature': array(22.035715, dtype=float32)}\n",
      "2024-07-21 04:43:20 {'temperature': array(22.271791, dtype=float32)}\n",
      "2024-07-21 04:50:00 {'temperature': array(22.306843, dtype=float32)}\n",
      "2024-07-21 05:00:00 {'temperature': array(22.491365, dtype=float32)}\n",
      "2024-07-21 05:10:00 {'temperature': array(22.64465, dtype=float32)}\n",
      "2024-07-21 05:20:00 {'temperature': array(22.756739, dtype=float32)}\n",
      "2024-07-21 05:30:00 {'temperature': array(22.842985, dtype=float32)}\n",
      "2024-07-21 05:40:00 {'temperature': array(22.924053, dtype=float32)}\n",
      "2024-07-21 05:50:00 {'temperature': array(23.007492, dtype=float32)}\n",
      "2024-07-21 06:00:00 {'temperature': array(23.091658, dtype=float32)}\n",
      "2024-07-21 06:11:15 {'temperature': array(21.627653, dtype=float32)}\n",
      "2024-07-21 06:25:00 {'temperature': array(22.144127, dtype=float32)}\n",
      "2024-07-21 06:33:20 {'temperature': array(22.464586, dtype=float32)}\n",
      "2024-07-21 06:40:00 {'temperature': array(22.562887, dtype=float32)}\n",
      "2024-07-21 06:55:00 {'temperature': array(22.802988, dtype=float32)}\n",
      "2024-07-21 07:00:00 {'temperature': array(22.92019, dtype=float32)}\n",
      "2024-07-21 07:10:00 {'temperature': array(23.156221, dtype=float32)}\n",
      "2024-07-21 07:20:00 {'temperature': array(23.365242, dtype=float32)}\n",
      "2024-07-21 07:31:06.666667 {'temperature': array(22.26865, dtype=float32)}\n",
      "2024-07-21 07:40:00 {'temperature': array(21.907227, dtype=float32)}\n",
      "2024-07-21 07:55:00 {'temperature': array(22.63131, dtype=float32)}\n",
      "2024-07-21 08:03:20 {'temperature': array(22.883627, dtype=float32)}\n",
      "2024-07-21 08:15:00 {'temperature': array(23.009924, dtype=float32)}\n",
      "2024-07-21 08:25:00 {'temperature': array(21.348705, dtype=float32)}\n",
      "2024-07-21 08:30:00 {'temperature': array(21.516645, dtype=float32)}\n",
      "2024-07-21 08:43:20 {'temperature': array(22.44786, dtype=float32)}\n",
      "2024-07-21 08:53:20 {'temperature': array(23.16816, dtype=float32)}\n",
      "2024-07-21 09:03:20 {'temperature': array(22.186567, dtype=float32)}\n",
      "2024-07-21 09:10:00 {'temperature': array(22.238106, dtype=float32)}\n",
      "2024-07-21 09:23:20 {'temperature': array(23.002743, dtype=float32)}\n",
      "2024-07-21 09:33:20 {'temperature': array(22.351131, dtype=float32)}\n",
      "2024-07-21 09:40:00 {'temperature': array(22.562874, dtype=float32)}\n",
      "2024-07-21 09:53:20 {'temperature': array(23.260366, dtype=float32)}\n",
      "2024-07-21 10:05:00 {'temperature': array(21.985655, dtype=float32)}\n",
      "2024-07-21 10:10:00 {'temperature': array(22.16158, dtype=float32)}\n",
      "2024-07-21 10:23:20 {'temperature': array(23.069172, dtype=float32)}\n",
      "2024-07-21 10:33:20 {'temperature': array(22.745625, dtype=float32)}\n",
      "2024-07-21 10:45:00 {'temperature': array(23.29097, dtype=float32)}\n",
      "2024-07-21 10:53:20 {'temperature': array(21.921839, dtype=float32)}\n",
      "2024-07-21 11:00:00 {'temperature': array(22.27911, dtype=float32)}\n",
      "2024-07-21 11:13:20 {'temperature': array(23.218575, dtype=float32)}\n",
      "2024-07-21 11:23:20 {'temperature': array(23.04098, dtype=float32)}\n",
      "2024-07-21 11:35:00 {'temperature': array(22.459494, dtype=float32)}\n",
      "2024-07-21 11:45:00 {'temperature': array(23.440563, dtype=float32)}\n",
      "2024-07-21 11:53:20 {'temperature': array(22.246252, dtype=float32)}\n",
      "2024-07-21 12:00:00 {'temperature': array(22.541172, dtype=float32)}\n",
      "2024-07-21 12:13:20 {'temperature': array(23.447927, dtype=float32)}\n",
      "2024-07-21 12:23:20 {'temperature': array(24.191488, dtype=float32)}\n",
      "2024-07-21 12:33:20 {'temperature': array(24.72056, dtype=float32)}\n",
      "2024-07-21 12:45:00 {'temperature': array(24.777294, dtype=float32)}\n",
      "2024-07-21 12:50:00 {'temperature': array(24.878836, dtype=float32)}\n",
      "2024-07-21 13:05:00 {'temperature': array(25.175787, dtype=float32)}\n",
      "2024-07-21 13:10:00 {'temperature': array(25.346367, dtype=float32)}\n",
      "2024-07-21 13:20:00 {'temperature': array(25.637709, dtype=float32)}\n",
      "2024-07-21 13:30:00 {'temperature': array(25.884556, dtype=float32)}\n",
      "2024-07-21 13:40:00 {'temperature': array(26.077042, dtype=float32)}\n",
      "2024-07-21 13:50:00 {'temperature': array(26.22822, dtype=float32)}\n",
      "2024-07-21 14:00:00 {'temperature': array(26.353283, dtype=float32)}\n",
      "2024-07-21 14:10:00 {'temperature': array(26.460413, dtype=float32)}\n",
      "2024-07-21 14:20:00 {'temperature': array(26.554127, dtype=float32)}\n",
      "2024-07-21 14:30:00 {'temperature': array(26.637505, dtype=float32)}\n",
      "2024-07-21 14:40:00 {'temperature': array(26.71279, dtype=float32)}\n",
      "2024-07-21 14:50:00 {'temperature': array(26.781567, dtype=float32)}\n",
      "2024-07-21 15:00:00 {'temperature': array(26.844881, dtype=float32)}\n",
      "2024-07-21 15:10:00 {'temperature': array(26.901157, dtype=float32)}\n",
      "2024-07-21 15:20:00 {'temperature': array(26.94947, dtype=float32)}\n",
      "2024-07-21 15:30:00 {'temperature': array(26.990332, dtype=float32)}\n",
      "2024-07-21 15:40:00 {'temperature': array(27.02468, dtype=float32)}\n",
      "2024-07-21 15:50:00 {'temperature': array(27.053383, dtype=float32)}\n",
      "2024-07-21 16:01:15 {'temperature': array(25.955961, dtype=float32)}\n",
      "2024-07-21 16:15:00 {'temperature': array(26.258524, dtype=float32)}\n",
      "2024-07-21 16:25:00 {'temperature': array(26.535227, dtype=float32)}\n",
      "2024-07-21 16:30:00 {'temperature': array(26.643255, dtype=float32)}\n",
      "2024-07-21 16:40:00 {'temperature': array(26.782759, dtype=float32)}\n"
     ]
    }
   ],
   "source": [
    "for _ in range(100):\n",
    "    ctx = await world.events['end_zone_timestep_after_zone_reporting'].awaitable(deferred=True)\n",
    "    try: \n",
    "        print(world['wallclock'].value, agent.observe())\n",
    "    except Exception as e: \n",
    "        ctx.ack()\n",
    "        raise e\n",
    "    agent.act({'thermostat': 20})\n",
    "    ctx.ack()"
   ]
  },
  {
   "cell_type": "markdown",
   "metadata": {},
   "source": [
    "### `gymnasium` `Env`s"
   ]
  },
  {
   "cell_type": "code",
   "execution_count": 6,
   "metadata": {},
   "outputs": [],
   "source": [
    "from controllables.core.tools.gymnasium import Env\n",
    "\n",
    "env = Env({\n",
    "    'action_space': DictSpace({\n",
    "        'thermostat': BoxSpace(\n",
    "            low=15., high=20.,\n",
    "            dtype=_numpy_.float32,\n",
    "            shape=(),\n",
    "        ).bind(Actuator.Ref(\n",
    "            type='Zone Temperature Control',\n",
    "            control_type='Heating Setpoint',\n",
    "            key='MAIN ZONE',\n",
    "        ))\n",
    "    }),    \n",
    "    'observation_space': DictSpace({\n",
    "        'temperature': BoxSpace(\n",
    "            low=-_numpy_.inf, high=+_numpy_.inf,\n",
    "            dtype=_numpy_.float32,\n",
    "            shape=(),\n",
    "        ).bind(world[OutputVariable.Ref(\n",
    "            type='Zone Air Temperature',\n",
    "            key='MAIN ZONE',\n",
    "        )]),\n",
    "    }),\n",
    "    'reward_function': lambda agent: 1,\n",
    "    'events': {'step': 'end_zone_timestep_after_zone_reporting'},\n",
    "}).__attach__(world)"
   ]
  },
  {
   "cell_type": "code",
   "execution_count": 7,
   "metadata": {},
   "outputs": [
    {
     "name": "stdout",
     "output_type": "stream",
     "text": [
      "step StepResult(observation={'temperature': array(20., dtype=float32)}, reward=1, terminated=False, truncated=False, info={})\n",
      "step StepResult(observation={'temperature': array(18.951159, dtype=float32)}, reward=1, terminated=False, truncated=False, info={})\n",
      "step StepResult(observation={'temperature': array(19.010223, dtype=float32)}, reward=1, terminated=False, truncated=False, info={})\n",
      "step StepResult(observation={'temperature': array(18.566862, dtype=float32)}, reward=1, terminated=False, truncated=False, info={})\n",
      "step StepResult(observation={'temperature': array(17.70477, dtype=float32)}, reward=1, terminated=False, truncated=False, info={})\n",
      "step StepResult(observation={'temperature': array(17.530119, dtype=float32)}, reward=1, terminated=False, truncated=False, info={})\n",
      "step StepResult(observation={'temperature': array(17.36541, dtype=float32)}, reward=1, terminated=False, truncated=False, info={})\n",
      "step StepResult(observation={'temperature': array(19.778484, dtype=float32)}, reward=1, terminated=False, truncated=False, info={})\n",
      "step StepResult(observation={'temperature': array(18.566742, dtype=float32)}, reward=1, terminated=False, truncated=False, info={})\n",
      "step StepResult(observation={'temperature': array(18.17159, dtype=float32)}, reward=1, terminated=False, truncated=False, info={})\n",
      "step StepResult(observation={'temperature': array(19.712582, dtype=float32)}, reward=1, terminated=False, truncated=False, info={})\n",
      "step StepResult(observation={'temperature': array(19.535934, dtype=float32)}, reward=1, terminated=False, truncated=False, info={})\n",
      "step StepResult(observation={'temperature': array(18.77453, dtype=float32)}, reward=1, terminated=False, truncated=False, info={})\n",
      "step StepResult(observation={'temperature': array(18.141111, dtype=float32)}, reward=1, terminated=False, truncated=False, info={})\n",
      "step StepResult(observation={'temperature': array(18.027634, dtype=float32)}, reward=1, terminated=False, truncated=False, info={})\n",
      "step StepResult(observation={'temperature': array(17.949957, dtype=float32)}, reward=1, terminated=False, truncated=False, info={})\n",
      "step StepResult(observation={'temperature': array(17.393978, dtype=float32)}, reward=1, terminated=False, truncated=False, info={})\n",
      "step StepResult(observation={'temperature': array(17.21497, dtype=float32)}, reward=1, terminated=False, truncated=False, info={})\n",
      "step StepResult(observation={'temperature': array(17.103418, dtype=float32)}, reward=1, terminated=False, truncated=False, info={})\n",
      "step StepResult(observation={'temperature': array(16.960253, dtype=float32)}, reward=1, terminated=False, truncated=False, info={})\n",
      "step StepResult(observation={'temperature': array(17.162605, dtype=float32)}, reward=1, terminated=False, truncated=False, info={})\n",
      "step StepResult(observation={'temperature': array(17.168957, dtype=float32)}, reward=1, terminated=False, truncated=False, info={})\n",
      "step StepResult(observation={'temperature': array(17.031597, dtype=float32)}, reward=1, terminated=False, truncated=False, info={})\n",
      "step StepResult(observation={'temperature': array(16.869993, dtype=float32)}, reward=1, terminated=False, truncated=False, info={})\n",
      "step StepResult(observation={'temperature': array(18.32605, dtype=float32)}, reward=1, terminated=False, truncated=False, info={})\n",
      "step StepResult(observation={'temperature': array(18.361929, dtype=float32)}, reward=1, terminated=False, truncated=False, info={})\n",
      "step StepResult(observation={'temperature': array(17.71665, dtype=float32)}, reward=1, terminated=False, truncated=False, info={})\n",
      "step StepResult(observation={'temperature': array(16.895514, dtype=float32)}, reward=1, terminated=False, truncated=False, info={})\n",
      "step StepResult(observation={'temperature': array(16.732964, dtype=float32)}, reward=1, terminated=False, truncated=False, info={})\n",
      "step StepResult(observation={'temperature': array(18.17361, dtype=float32)}, reward=1, terminated=False, truncated=False, info={})\n",
      "step StepResult(observation={'temperature': array(19.643147, dtype=float32)}, reward=1, terminated=False, truncated=False, info={})\n",
      "step StepResult(observation={'temperature': array(19.049492, dtype=float32)}, reward=1, terminated=False, truncated=False, info={})\n",
      "step StepResult(observation={'temperature': array(18.235489, dtype=float32)}, reward=1, terminated=False, truncated=False, info={})\n",
      "step StepResult(observation={'temperature': array(17.02825, dtype=float32)}, reward=1, terminated=False, truncated=False, info={})\n",
      "step StepResult(observation={'temperature': array(16.930164, dtype=float32)}, reward=1, terminated=False, truncated=False, info={})\n",
      "step StepResult(observation={'temperature': array(16.677837, dtype=float32)}, reward=1, terminated=False, truncated=False, info={})\n",
      "step StepResult(observation={'temperature': array(16.448713, dtype=float32)}, reward=1, terminated=False, truncated=False, info={})\n",
      "step StepResult(observation={'temperature': array(16.28288, dtype=float32)}, reward=1, terminated=False, truncated=False, info={})\n",
      "step StepResult(observation={'temperature': array(16.171837, dtype=float32)}, reward=1, terminated=False, truncated=False, info={})\n",
      "step StepResult(observation={'temperature': array(17.452671, dtype=float32)}, reward=1, terminated=False, truncated=False, info={})\n",
      "step StepResult(observation={'temperature': array(18.463385, dtype=float32)}, reward=1, terminated=False, truncated=False, info={})\n",
      "step StepResult(observation={'temperature': array(18.172985, dtype=float32)}, reward=1, terminated=False, truncated=False, info={})\n",
      "step StepResult(observation={'temperature': array(19.407011, dtype=float32)}, reward=1, terminated=False, truncated=False, info={})\n",
      "step StepResult(observation={'temperature': array(19.064177, dtype=float32)}, reward=1, terminated=False, truncated=False, info={})\n",
      "step StepResult(observation={'temperature': array(18.752201, dtype=float32)}, reward=1, terminated=False, truncated=False, info={})\n",
      "step StepResult(observation={'temperature': array(18.063381, dtype=float32)}, reward=1, terminated=False, truncated=False, info={})\n",
      "step StepResult(observation={'temperature': array(18.91042, dtype=float32)}, reward=1, terminated=False, truncated=False, info={})\n",
      "step StepResult(observation={'temperature': array(18.686445, dtype=float32)}, reward=1, terminated=False, truncated=False, info={})\n",
      "step StepResult(observation={'temperature': array(17.824898, dtype=float32)}, reward=1, terminated=False, truncated=False, info={})\n",
      "step StepResult(observation={'temperature': array(17.11219, dtype=float32)}, reward=1, terminated=False, truncated=False, info={})\n",
      "step StepResult(observation={'temperature': array(18.395851, dtype=float32)}, reward=1, terminated=False, truncated=False, info={})\n",
      "step StepResult(observation={'temperature': array(17.646341, dtype=float32)}, reward=1, terminated=False, truncated=False, info={})\n",
      "step StepResult(observation={'temperature': array(19.23731, dtype=float32)}, reward=1, terminated=False, truncated=False, info={})\n",
      "step StepResult(observation={'temperature': array(19.23731, dtype=float32)}, reward=1, terminated=False, truncated=False, info={})\n",
      "step StepResult(observation={'temperature': array(17.496847, dtype=float32)}, reward=1, terminated=False, truncated=False, info={})\n",
      "step StepResult(observation={'temperature': array(17.393215, dtype=float32)}, reward=1, terminated=False, truncated=False, info={})\n",
      "step StepResult(observation={'temperature': array(17.2923, dtype=float32)}, reward=1, terminated=False, truncated=False, info={})\n",
      "step StepResult(observation={'temperature': array(17.61575, dtype=float32)}, reward=1, terminated=False, truncated=False, info={})\n",
      "step StepResult(observation={'temperature': array(18.522663, dtype=float32)}, reward=1, terminated=False, truncated=False, info={})\n",
      "step StepResult(observation={'temperature': array(18.522663, dtype=float32)}, reward=1, terminated=False, truncated=False, info={})\n",
      "step StepResult(observation={'temperature': array(19.270323, dtype=float32)}, reward=1, terminated=False, truncated=False, info={})\n",
      "step StepResult(observation={'temperature': array(18.281746, dtype=float32)}, reward=1, terminated=False, truncated=False, info={})\n",
      "step StepResult(observation={'temperature': array(19.853699, dtype=float32)}, reward=1, terminated=False, truncated=False, info={})\n",
      "step StepResult(observation={'temperature': array(19.448484, dtype=float32)}, reward=1, terminated=False, truncated=False, info={})\n",
      "step StepResult(observation={'temperature': array(18.314974, dtype=float32)}, reward=1, terminated=False, truncated=False, info={})\n",
      "step StepResult(observation={'temperature': array(17.918736, dtype=float32)}, reward=1, terminated=False, truncated=False, info={})\n",
      "step StepResult(observation={'temperature': array(19.296524, dtype=float32)}, reward=1, terminated=False, truncated=False, info={})\n",
      "step StepResult(observation={'temperature': array(18.954977, dtype=float32)}, reward=1, terminated=False, truncated=False, info={})\n",
      "step StepResult(observation={'temperature': array(17.970587, dtype=float32)}, reward=1, terminated=False, truncated=False, info={})\n",
      "step StepResult(observation={'temperature': array(17.139128, dtype=float32)}, reward=1, terminated=False, truncated=False, info={})\n",
      "step StepResult(observation={'temperature': array(18.206242, dtype=float32)}, reward=1, terminated=False, truncated=False, info={})\n",
      "step StepResult(observation={'temperature': array(18.206242, dtype=float32)}, reward=1, terminated=False, truncated=False, info={})\n",
      "step StepResult(observation={'temperature': array(17.429745, dtype=float32)}, reward=1, terminated=False, truncated=False, info={})\n",
      "step StepResult(observation={'temperature': array(17.04684, dtype=float32)}, reward=1, terminated=False, truncated=False, info={})\n",
      "step StepResult(observation={'temperature': array(16.87257, dtype=float32)}, reward=1, terminated=False, truncated=False, info={})\n",
      "step StepResult(observation={'temperature': array(16.009363, dtype=float32)}, reward=1, terminated=False, truncated=False, info={})\n",
      "step StepResult(observation={'temperature': array(16.6717, dtype=float32)}, reward=1, terminated=False, truncated=False, info={})\n",
      "step StepResult(observation={'temperature': array(18.210075, dtype=float32)}, reward=1, terminated=False, truncated=False, info={})\n",
      "step StepResult(observation={'temperature': array(18.02802, dtype=float32)}, reward=1, terminated=False, truncated=False, info={})\n",
      "step StepResult(observation={'temperature': array(17.859465, dtype=float32)}, reward=1, terminated=False, truncated=False, info={})\n",
      "step StepResult(observation={'temperature': array(19.790216, dtype=float32)}, reward=1, terminated=False, truncated=False, info={})\n",
      "step StepResult(observation={'temperature': array(19.482784, dtype=float32)}, reward=1, terminated=False, truncated=False, info={})\n",
      "step StepResult(observation={'temperature': array(18.646696, dtype=float32)}, reward=1, terminated=False, truncated=False, info={})\n",
      "step StepResult(observation={'temperature': array(18.385284, dtype=float32)}, reward=1, terminated=False, truncated=False, info={})\n",
      "step StepResult(observation={'temperature': array(18.1692, dtype=float32)}, reward=1, terminated=False, truncated=False, info={})\n",
      "step StepResult(observation={'temperature': array(19.15247, dtype=float32)}, reward=1, terminated=False, truncated=False, info={})\n",
      "step StepResult(observation={'temperature': array(19.306072, dtype=float32)}, reward=1, terminated=False, truncated=False, info={})\n",
      "step StepResult(observation={'temperature': array(18.77292, dtype=float32)}, reward=1, terminated=False, truncated=False, info={})\n",
      "step StepResult(observation={'temperature': array(19.755224, dtype=float32)}, reward=1, terminated=False, truncated=False, info={})\n",
      "step StepResult(observation={'temperature': array(19.74727, dtype=float32)}, reward=1, terminated=False, truncated=False, info={})\n",
      "step StepResult(observation={'temperature': array(19.188217, dtype=float32)}, reward=1, terminated=False, truncated=False, info={})\n",
      "step StepResult(observation={'temperature': array(19.298283, dtype=float32)}, reward=1, terminated=False, truncated=False, info={})\n",
      "step StepResult(observation={'temperature': array(19.087673, dtype=float32)}, reward=1, terminated=False, truncated=False, info={})\n",
      "step StepResult(observation={'temperature': array(18.819862, dtype=float32)}, reward=1, terminated=False, truncated=False, info={})\n",
      "step StepResult(observation={'temperature': array(18.613535, dtype=float32)}, reward=1, terminated=False, truncated=False, info={})\n",
      "step StepResult(observation={'temperature': array(18.488934, dtype=float32)}, reward=1, terminated=False, truncated=False, info={})\n",
      "step StepResult(observation={'temperature': array(18.564436, dtype=float32)}, reward=1, terminated=False, truncated=False, info={})\n",
      "step StepResult(observation={'temperature': array(18.612766, dtype=float32)}, reward=1, terminated=False, truncated=False, info={})\n",
      "step StepResult(observation={'temperature': array(18.569462, dtype=float32)}, reward=1, terminated=False, truncated=False, info={})\n",
      "step StepResult(observation={'temperature': array(18.55362, dtype=float32)}, reward=1, terminated=False, truncated=False, info={})\n"
     ]
    }
   ],
   "source": [
    "from controllables.core import TemporaryUnavailableError\n",
    "\n",
    "for _ in range(100):\n",
    "    try: print('step', env.step(env.action_space.sample()))\n",
    "    except TemporaryUnavailableError: print('.')"
   ]
  },
  {
   "cell_type": "code",
   "execution_count": 8,
   "metadata": {},
   "outputs": [
    {
     "data": {
      "text/plain": [
       "<controllables.energyplus.world.World at 0x7fa5defbcc10>"
      ]
     },
     "execution_count": 8,
     "metadata": {},
     "output_type": "execute_result"
    }
   ],
   "source": [
    "world.stop()"
   ]
  }
 ],
 "metadata": {
  "kernelspec": {
   "display_name": "Python 3 (ipykernel)",
   "language": "python",
   "name": "python3"
  },
  "language_info": {
   "codemirror_mode": {
    "name": "ipython",
    "version": 3
   },
   "file_extension": ".py",
   "mimetype": "text/x-python",
   "name": "python",
   "nbconvert_exporter": "python",
   "pygments_lexer": "ipython3",
   "version": "3.11.2"
  }
 },
 "nbformat": 4,
 "nbformat_minor": 4
}
