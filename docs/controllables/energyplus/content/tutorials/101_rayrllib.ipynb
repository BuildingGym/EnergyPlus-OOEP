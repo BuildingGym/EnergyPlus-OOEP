{
 "cells": [
  {
   "cell_type": "code",
   "execution_count": null,
   "metadata": {
    "editable": true,
    "slideshow": {
     "slide_type": "skip"
    },
    "tags": []
   },
   "outputs": [],
   "source": [
    "#%pip install --extra-index-url https://test.pypi.org/simple ../../EnergyPlus-OOEP/\n",
    "#%pip install git+https://github.com/NTU-CCA-HVAC-OPTIM-a842a748/EnergyPlus-Datasets.git\n",
    "#%pip install ipywidgets tqdm gymnasium torch ray[rllib]"
   ]
  },
  {
   "cell_type": "markdown",
   "metadata": {
    "slideshow": {
     "slide_type": "slide"
    }
   },
   "source": [
    "# 🤖 Reinforcement Learning\n",
    "\n",
    "TODO description"
   ]
  },
  {
   "cell_type": "markdown",
   "metadata": {
    "slideshow": {
     "slide_type": "slide"
    }
   },
   "source": [
    "Kickstart the simulation."
   ]
  },
  {
   "cell_type": "code",
   "execution_count": null,
   "metadata": {
    "editable": true,
    "scrolled": true,
    "slideshow": {
     "slide_type": "subslide"
    },
    "tags": []
   },
   "outputs": [],
   "source": [
    "from controllables.energyplus import (\n",
    "    World,\n",
    "    #WeatherModel,\n",
    "    #Report,\n",
    "    Actuator,\n",
    "    OutputVariable,\n",
    ")\n",
    "\n",
    "from energyplus.dataset.basic import dataset as _epds_\n",
    "\n",
    "world = World(\n",
    "    input=World.Specs.Input(\n",
    "        world=(\n",
    "            _epds_.models / 'ASHRAE901_OfficeLarge_STD2019_Denver_Chiller205_Detailed.idf'\n",
    "        ),\n",
    "        weather=(_epds_.weathers / 'USA_CO_Denver-Aurora-Buckley.AFB.724695_TMY3.epw'),\n",
    "    ),\n",
    "    output=World.Specs.Output(\n",
    "        report=('/tmp/ooep-report-9e1287d2-8e75-4cf5-bbc5-f76580b56a69'),\n",
    "    ),\n",
    "    runtime=World.Specs.Runtime(\n",
    "        recurring=True,\n",
    "        #design_day=True,\n",
    "    ),\n",
    ")"
   ]
  },
  {
   "cell_type": "markdown",
   "metadata": {
    "editable": true,
    "slideshow": {
     "slide_type": "slide"
    },
    "tags": []
   },
   "source": [
    "Configure the controller (an RLlib algorithm)."
   ]
  },
  {
   "cell_type": "code",
   "execution_count": null,
   "metadata": {
    "editable": true,
    "scrolled": true,
    "slideshow": {
     "slide_type": "subslide"
    },
    "tags": []
   },
   "outputs": [],
   "source": [
    "import numpy as _numpy_\n",
    "import gymnasium as _gymnasium_\n",
    "\n",
    "from controllables.energyplus import (\n",
    "    Actuator,\n",
    "    OutputVariable,\n",
    ")\n",
    "from controllables.core.tools.gymnasium import (\n",
    "    VariableBox,\n",
    ")\n",
    "from controllables.core.tools.ray import ExternalEnv\n",
    "\n",
    "from ray.rllib.algorithms.ppo import PPO, PPOConfig\n",
    "from ray.rllib.algorithms.callbacks import DefaultCallbacks\n",
    "\n",
    "\n",
    "config = (\n",
    "    PPOConfig()\n",
    "    .environment(\n",
    "        ExternalEnv, \n",
    "        env_config=ExternalEnv.Config(\n",
    "            action_space=_gymnasium_.spaces.Dict({\n",
    "                'thermostat': VariableBox(\n",
    "                    low=15., high=20.,\n",
    "                    dtype=_numpy_.float32,\n",
    "                    shape=(),\n",
    "                ).bind(Actuator.Ref(\n",
    "                    type='Zone Temperature Control',\n",
    "                    control_type='Heating Setpoint',\n",
    "                    key='CORE_MID',\n",
    "                ))\n",
    "            }),    \n",
    "            observation_space=_gymnasium_.spaces.Dict({\n",
    "                'temperature': VariableBox(\n",
    "                    low=-_numpy_.inf, high=+_numpy_.inf,\n",
    "                    dtype=_numpy_.float32,\n",
    "                    shape=(),\n",
    "                ).bind(OutputVariable.Ref(\n",
    "                    type='People Air Temperature',\n",
    "                    key='CORE_MID',\n",
    "                )),\n",
    "            }),\n",
    "            system=lambda: world,\n",
    "            reward_function=lambda agent: 1,\n",
    "            episode_events={\n",
    "                'step': 'begin_zone_timestep_after_init_heat_balance',\n",
    "            },\n",
    "        )\n",
    "    )\n",
    "    .rollouts(\n",
    "        create_env_on_local_worker=True,\n",
    "        #num_rollout_workers=10,\n",
    "        num_rollout_workers=0,\n",
    "        enable_connectors=False,\n",
    "    )\n",
    "    .framework('torch')\n",
    "    .evaluation(\n",
    "        #evaluation_interval=1,\n",
    "        #evaluation_num_workers=0\n",
    "    )\n",
    ")\n",
    "\n",
    "algo = PPO(\n",
    "    config=config,\n",
    ")"
   ]
  },
  {
   "cell_type": "markdown",
   "metadata": {
    "editable": true,
    "slideshow": {
     "slide_type": "slide"
    },
    "tags": []
   },
   "source": [
    "Train the algorithm."
   ]
  },
  {
   "cell_type": "code",
   "execution_count": null,
   "metadata": {},
   "outputs": [
    {
     "name": "stderr",
     "output_type": "stream",
     "text": [
      "Exception ignored on calling ctypes callback function: <function EventManager._core_callback_setters.<locals>._Dispatcher._state at 0x7fc9bc6ea840>\n",
      "Traceback (most recent call last):\n",
      "  File \"/home/user@AD/lab/EnergyPlus-OOEP/packages/controllables/energyplus/events.py\", line 212, in cb_\n",
      "    raise e\n",
      "  File \"/home/user@AD/lab/EnergyPlus-OOEP/packages/controllables/energyplus/events.py\", line 209, in cb_\n",
      "    return cb(*args, **kwargs)\n",
      "           ^^^^^^^^^^^^^^^^^^^\n",
      "  File \"/home/user@AD/lab/EnergyPlus-OOEP/packages/controllables/energyplus/events.py\", line 200, in _state\n",
      "    self._manager.__call__(\n",
      "  File \"/home/user@AD/lab/EnergyPlus-OOEP/packages/controllables/energyplus/events.py\", line 291, in __call__\n",
      "    return super().__call__(\n",
      "           ^^^^^^^^^^^^^^^^^\n",
      "  File \"/home/user@AD/lab/EnergyPlus-OOEP/packages/controllables/core/specs/callbacks.py\", line 563, in __call__\n",
      "    return self[ref].__call__(*args, **kwargs)\n",
      "           ^^^^^^^^^^^^^^^^^^^^^^^^^^^^^^^^^^^\n",
      "  File \"/home/user@AD/lab/EnergyPlus-OOEP/packages/controllables/energyplus/events.py\", line 102, in __call__\n",
      "    return super().__call__(*args, **kwargs)\n",
      "           ^^^^^^^^^^^^^^^^^^^^^^^^^^^^^^^^^\n",
      "  File \"/home/user@AD/lab/EnergyPlus-OOEP/packages/controllables/core/specs/callbacks.py\", line 507, in __call__\n",
      "    return self._callables.__call__(*args, **kwargs)\n",
      "           ^^^^^^^^^^^^^^^^^^^^^^^^^^^^^^^^^^^^^^^^^\n",
      "  File \"/home/user@AD/lab/EnergyPlus-OOEP/packages/controllables/core/specs/callbacks.py\", line 79, in __call__\n",
      "    res[f] = f(*args, **kwargs)\n",
      "             ^^^^^^^^^^^^^^^^^^\n",
      "  File \"/home/user@AD/lab/EnergyPlus-OOEP/packages/controllables/core/tools/ray/env.py\", line 461, in <lambda>\n",
      "    ('step', lambda _, tracker=tracker: tracker.step()),\n",
      "                                        ^^^^^^^^^^^^^^\n",
      "  File \"/home/user@AD/lab/EnergyPlus-OOEP/packages/controllables/core/tools/ray/env.py\", line 399, in step\n",
      "    self._manager.action.value = self.get_action()\n",
      "                                 ^^^^^^^^^^^^^^^^^\n",
      "  File \"/home/user@AD/lab/EnergyPlus-OOEP/packages/controllables/core/tools/ray/env.py\", line 415, in get_action\n",
      "    return super().get_action(observation=observation)\n",
      "           ^^^^^^^^^^^^^^^^^^^^^^^^^^^^^^^^^^^^^^^^^^^\n",
      "  File \"/home/user@AD/lab/EnergyPlus-OOEP/packages/controllables/core/tools/ray/env.py\", line 293, in get_action\n",
      "    return self._manager.get_action(\n",
      "           ^^^^^^^^^^^^^^^^^^^^^^^^^\n",
      "  File \"/home/user@AD/lab/EnergyPlus-OOEP/.venv/lib/python3.11/site-packages/ray/rllib/env/external_env.py\", line 139, in get_action\n",
      "    return episode.wait_for_action(observation)\n",
      "           ^^^^^^^^^^^^^^^^^^^^^^^^^^^^^^^^^^^^\n",
      "  File \"/home/user@AD/lab/EnergyPlus-OOEP/.venv/lib/python3.11/site-packages/ray/rllib/env/external_env.py\", line 297, in wait_for_action\n",
      "    return self.action_queue.get(True, timeout=300.0)\n",
      "           ^^^^^^^^^^^^^^^^^^^^^^^^^^^^^^^^^^^^^^^^^^\n",
      "  File \"/usr/lib/python3.11/queue.py\", line 179, in get\n",
      "    raise Empty\n",
      "_queue.Empty: \n"
     ]
    }
   ],
   "source": [
    "world.awaitable.run()"
   ]
  },
  {
   "cell_type": "code",
   "execution_count": null,
   "metadata": {},
   "outputs": [],
   "source": [
    "# TODO\n",
    "#algo.workers.local_worker().env._engine"
   ]
  },
  {
   "cell_type": "code",
   "execution_count": null,
   "metadata": {},
   "outputs": [],
   "source": [
    "#import logging as _logging_\n",
    "#_logging_.basicConfig(level='INFO')\n",
    "#from energyplus.ooep.addons.logging import MessageLogger\n",
    "\n",
    "from controllables.energyplus.logging import ProgressLogger\n",
    "\n",
    "world.add(\n",
    "    ProgressLogger(),\n",
    ")"
   ]
  },
  {
   "cell_type": "code",
   "execution_count": null,
   "metadata": {
    "editable": true,
    "scrolled": true,
    "slideshow": {
     "slide_type": "subslide"
    },
    "tags": []
   },
   "outputs": [],
   "source": [
    "# start training\n",
    "for _ in range(5):\n",
    "    print(algo.train())"
   ]
  },
  {
   "cell_type": "markdown",
   "metadata": {
    "editable": true,
    "slideshow": {
     "slide_type": "slide"
    },
    "tags": []
   },
   "source": [
    "Evaluate the algorithm."
   ]
  },
  {
   "cell_type": "code",
   "execution_count": null,
   "metadata": {
    "editable": true,
    "scrolled": true,
    "slideshow": {
     "slide_type": "subslide"
    },
    "tags": []
   },
   "outputs": [],
   "source": [
    "algo.evaluate()"
   ]
  },
  {
   "cell_type": "markdown",
   "metadata": {
    "editable": true,
    "slideshow": {
     "slide_type": "slide"
    },
    "tags": []
   },
   "source": [
    "Stop the simulation environment when we are done!"
   ]
  },
  {
   "cell_type": "code",
   "execution_count": null,
   "metadata": {},
   "outputs": [],
   "source": [
    "# TODO tree view\n",
    "import pandas as _pandas_\n",
    "import itables as _itables_\n",
    "_itables_.init_notebook_mode(all_interactive=True)\n",
    "\n",
    "_pandas_.DataFrame(world.variables.available_keys().group(type)[Actuator.Ref])"
   ]
  },
  {
   "cell_type": "code",
   "execution_count": null,
   "metadata": {
    "editable": true,
    "slideshow": {
     "slide_type": "subslide"
    },
    "tags": []
   },
   "outputs": [],
   "source": [
    "world.stop()"
   ]
  }
 ],
 "metadata": {
  "kernelspec": {
   "display_name": "Python 3 (ipykernel)",
   "language": "python",
   "name": "python3"
  },
  "language_info": {
   "codemirror_mode": {
    "name": "ipython",
    "version": 3
   },
   "file_extension": ".py",
   "mimetype": "text/x-python",
   "name": "python",
   "nbconvert_exporter": "python",
   "pygments_lexer": "ipython3",
   "version": "3.11.2"
  }
 },
 "nbformat": 4,
 "nbformat_minor": 4
}
