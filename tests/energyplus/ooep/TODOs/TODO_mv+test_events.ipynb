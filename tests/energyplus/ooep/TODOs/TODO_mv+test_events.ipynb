{
 "cells": [
  {
   "cell_type": "code",
   "execution_count": 1,
   "metadata": {},
   "outputs": [
    {
     "data": {
      "application/vnd.jupyter.widget-view+json": {
       "model_id": "e6a65b65127f4b5ea6f2080a4274aebf",
       "version_major": 2,
       "version_minor": 0
      },
      "text/plain": [
       "  0%|          | 0/100 [00:00<?, ?it/s]"
      ]
     },
     "metadata": {},
     "output_type": "display_data"
    }
   ],
   "source": [
    "import logging as _logging_\n",
    "_logging_.basicConfig(level='DEBUG')\n",
    "from energyplus.ooep.addons.logging import LogProvider\n",
    "\n",
    "from energyplus.ooep.addons.display import ProgressProvider\n",
    "\n",
    "from energyplus.ooep import (\n",
    "    Simulator,\n",
    "    Model,\n",
    "    Weather,\n",
    "    Report,\n",
    ")\n",
    "\n",
    "from energyplus.dataset.basic import dataset as _epds_\n",
    "\n",
    "simulator = Simulator().add(\n",
    "    ProgressProvider(),\n",
    "    LogProvider(),\n",
    ")"
   ]
  },
  {
   "cell_type": "code",
   "execution_count": 2,
   "metadata": {},
   "outputs": [
    {
     "data": {
      "text/plain": [
       "<energyplus.ooep.components.events.EventManager at 0x7f2988f93850>"
      ]
     },
     "execution_count": 2,
     "metadata": {},
     "output_type": "execute_result"
    }
   ],
   "source": [
    "def handler_with_exception(event):\n",
    "    raise Exception('test')\n",
    "simulator.events.on('begin_new_environment', handler_with_exception)"
   ]
  },
  {
   "cell_type": "code",
   "execution_count": 3,
   "metadata": {},
   "outputs": [
    {
     "data": {
      "text/plain": [
       "<Task pending name='Task-6' coro=<Engine.run() running at /home/user@AD/lab/EnergyPlus-OOEP/packages/energyplus/ooep/utils/awaitables.py:22>>"
      ]
     },
     "execution_count": 3,
     "metadata": {},
     "output_type": "execute_result"
    },
    {
     "name": "stderr",
     "output_type": "stream",
     "text": [
      "INFO:<energyplus.ooep.engines.simulators.Simulator object at 0x7f2988f9e710>:EnergyPlus Starting\n",
      "INFO:<energyplus.ooep.engines.simulators.Simulator object at 0x7f2988f9e710>:EnergyPlus, Version 23.2.0-7636e6b3e9, YMD=2024.04.02 00:28\n"
     ]
    },
    {
     "name": "stderr",
     "output_type": "stream",
     "text": [
      "INFO:<energyplus.ooep.engines.simulators.Simulator object at 0x7f2988f9e710>:Initializing Response Factors\n",
      "INFO:<energyplus.ooep.engines.simulators.Simulator object at 0x7f2988f9e710>:Calculating CTFs for \"INTERIORFURNISHINGS\"\n",
      "INFO:<energyplus.ooep.engines.simulators.Simulator object at 0x7f2988f9e710>:Calculating CTFs for \"DROPCEILING\"\n",
      "INFO:<energyplus.ooep.engines.simulators.Simulator object at 0x7f2988f9e710>:Calculating CTFs for \"INT_WALL\"\n",
      "INFO:<energyplus.ooep.engines.simulators.Simulator object at 0x7f2988f9e710>:Calculating CTFs for \"EXT_SLAB_8IN_WITH_CARPET\"\n",
      "INFO:<energyplus.ooep.engines.simulators.Simulator object at 0x7f2988f9e710>:Calculating CTFs for \"INT_SLAB_FLOOR\"\n",
      "INFO:<energyplus.ooep.engines.simulators.Simulator object at 0x7f2988f9e710>:Calculating CTFs for \"NONRES_ROOF\"\n",
      "INFO:<energyplus.ooep.engines.simulators.Simulator object at 0x7f2988f9e710>:Calculating CTFs for \"NONRES_EXT_WALL\"\n",
      "INFO:<energyplus.ooep.engines.simulators.Simulator object at 0x7f2988f9e710>:Calculating CTFs for \"BASEMENT_WALL_EAST_CFACTOR\"\n",
      "INFO:<energyplus.ooep.engines.simulators.Simulator object at 0x7f2988f9e710>:Calculating CTFs for \"BASEMENT_WALL_SOUTH_CFACTOR\"\n",
      "INFO:<energyplus.ooep.engines.simulators.Simulator object at 0x7f2988f9e710>:Calculating CTFs for \"BASEMENT_WALL_NORTH_CFACTOR\"\n",
      "INFO:<energyplus.ooep.engines.simulators.Simulator object at 0x7f2988f9e710>:Calculating CTFs for \"DATACENTER_BASEMENT_ZN_6_WALL_NORTH_CFACTOR\"\n",
      "INFO:<energyplus.ooep.engines.simulators.Simulator object at 0x7f2988f9e710>:Calculating CTFs for \"DATACENTER_BASEMENT_ZN_6_WALL_SOUTH_CFACTOR\"\n",
      "INFO:<energyplus.ooep.engines.simulators.Simulator object at 0x7f2988f9e710>:Calculating CTFs for \"DATACENTER_BASEMENT_ZN_6_WALL_WEST_CFACTOR\"\n",
      "INFO:<energyplus.ooep.engines.simulators.Simulator object at 0x7f2988f9e710>:Initializing Window Optical Properties\n",
      "INFO:<energyplus.ooep.engines.simulators.Simulator object at 0x7f2988f9e710>:Initializing Solar Calculations\n",
      "INFO:<energyplus.ooep.engines.simulators.Simulator object at 0x7f2988f9e710>:Allocate Solar Module Arrays\n",
      "INFO:<energyplus.ooep.engines.simulators.Simulator object at 0x7f2988f9e710>:Initializing Zone and Enclosure Report Variables\n",
      "INFO:<energyplus.ooep.engines.simulators.Simulator object at 0x7f2988f9e710>:Initializing Surface (Shading) Report Variables\n",
      "INFO:<energyplus.ooep.engines.simulators.Simulator object at 0x7f2988f9e710>:Computing Interior Solar Absorption Factors\n",
      "INFO:<energyplus.ooep.engines.simulators.Simulator object at 0x7f2988f9e710>:Determining Shadowing Combinations\n",
      "INFO:<energyplus.ooep.engines.simulators.Simulator object at 0x7f2988f9e710>:Computing Window Shade Absorption Factors\n",
      "INFO:<energyplus.ooep.engines.simulators.Simulator object at 0x7f2988f9e710>:Proceeding with Initializing Solar Calculations\n",
      "INFO:<energyplus.ooep.engines.simulators.Simulator object at 0x7f2988f9e710>:Initializing Surfaces\n",
      "INFO:<energyplus.ooep.engines.simulators.Simulator object at 0x7f2988f9e710>:Initializing Outdoor environment for Surfaces\n",
      "INFO:<energyplus.ooep.engines.simulators.Simulator object at 0x7f2988f9e710>:Setting up Surface Reporting Variables\n",
      "INFO:<energyplus.ooep.engines.simulators.Simulator object at 0x7f2988f9e710>:Initializing Temperature and Flux Histories\n",
      "INFO:<energyplus.ooep.engines.simulators.Simulator object at 0x7f2988f9e710>:Initializing Window Shading\n",
      "INFO:<energyplus.ooep.engines.simulators.Simulator object at 0x7f2988f9e710>:Computing Interior Absorption Factors\n",
      "INFO:<energyplus.ooep.engines.simulators.Simulator object at 0x7f2988f9e710>:Computing Interior Diffuse Solar Absorption Factors\n",
      "INFO:<energyplus.ooep.engines.simulators.Simulator object at 0x7f2988f9e710>:Initializing Solar Heat Gains\n",
      "INFO:<energyplus.ooep.engines.simulators.Simulator object at 0x7f2988f9e710>:Initializing Internal Heat Gains\n",
      "INFO:<energyplus.ooep.engines.simulators.Simulator object at 0x7f2988f9e710>:Initializing Interior Solar Distribution\n",
      "INFO:<energyplus.ooep.engines.simulators.Simulator object at 0x7f2988f9e710>:Initializing Interior Convection Coefficients\n",
      "INFO:<energyplus.ooep.engines.simulators.Simulator object at 0x7f2988f9e710>:Gathering Information for Predefined Reporting\n",
      "INFO:<energyplus.ooep.engines.simulators.Simulator object at 0x7f2988f9e710>:Completed Initializing Surface Heat Balance\n",
      "INFO:<energyplus.ooep.engines.simulators.Simulator object at 0x7f2988f9e710>:Calculate Outside Surface Heat Balance\n",
      "INFO:<energyplus.ooep.engines.simulators.Simulator object at 0x7f2988f9e710>:Calculate Inside Surface Heat Balance\n",
      "INFO:<energyplus.ooep.engines.simulators.Simulator object at 0x7f2988f9e710>:Calculate Air Heat Balance\n",
      "INFO:<energyplus.ooep.engines.simulators.Simulator object at 0x7f2988f9e710>:Initializing HVAC\n",
      "INFO:<energyplus.ooep.engines.simulators.Simulator object at 0x7f2988f9e710>:Warming up\n",
      "INFO:<energyplus.ooep.engines.simulators.Simulator object at 0x7f2988f9e710>:Calculating Detailed Daylighting Factors, Start Date=12/21\n",
      "INFO:<energyplus.ooep.engines.simulators.Simulator object at 0x7f2988f9e710>:Warming up\n",
      "INFO:<energyplus.ooep.engines.simulators.Simulator object at 0x7f2988f9e710>:Warming up\n",
      "INFO:<energyplus.ooep.engines.simulators.Simulator object at 0x7f2988f9e710>:Warming up\n",
      "INFO:<energyplus.ooep.engines.simulators.Simulator object at 0x7f2988f9e710>:Warming up\n",
      "INFO:<energyplus.ooep.engines.simulators.Simulator object at 0x7f2988f9e710>:Warming up\n",
      "INFO:<energyplus.ooep.engines.simulators.Simulator object at 0x7f2988f9e710>:Warming up\n",
      "INFO:<energyplus.ooep.engines.simulators.Simulator object at 0x7f2988f9e710>:Performing Zone Sizing Simulation\n",
      "INFO:<energyplus.ooep.engines.simulators.Simulator object at 0x7f2988f9e710>:...for Sizing Period: #1 DENVER-AURORA-BUCKLEY.AFB_CO_USA ANN HTG 99.6% CONDNS DB\n",
      "INFO:<energyplus.ooep.engines.simulators.Simulator object at 0x7f2988f9e710>:Warming up\n",
      "INFO:<energyplus.ooep.engines.simulators.Simulator object at 0x7f2988f9e710>:Calculating Detailed Daylighting Factors, Start Date=07/21\n",
      "INFO:<energyplus.ooep.engines.simulators.Simulator object at 0x7f2988f9e710>:Warming up\n",
      "INFO:<energyplus.ooep.engines.simulators.Simulator object at 0x7f2988f9e710>:Warming up\n",
      "INFO:<energyplus.ooep.engines.simulators.Simulator object at 0x7f2988f9e710>:Warming up\n",
      "INFO:<energyplus.ooep.engines.simulators.Simulator object at 0x7f2988f9e710>:Warming up\n",
      "INFO:<energyplus.ooep.engines.simulators.Simulator object at 0x7f2988f9e710>:Warming up\n",
      "INFO:<energyplus.ooep.engines.simulators.Simulator object at 0x7f2988f9e710>:Performing Zone Sizing Simulation\n",
      "INFO:<energyplus.ooep.engines.simulators.Simulator object at 0x7f2988f9e710>:...for Sizing Period: #2 DENVER-AURORA-BUCKLEY.AFB_CO_USA ANN CLG .4% CONDNS DB=>MWB\n",
      "INFO:<energyplus.ooep.engines.simulators.Simulator object at 0x7f2988f9e710>:Calculating System sizing\n",
      "INFO:<energyplus.ooep.engines.simulators.Simulator object at 0x7f2988f9e710>:...for Sizing Period: #1 DENVER-AURORA-BUCKLEY.AFB_CO_USA ANN HTG 99.6% CONDNS DB\n",
      "INFO:<energyplus.ooep.engines.simulators.Simulator object at 0x7f2988f9e710>:Calculating System sizing\n",
      "INFO:<energyplus.ooep.engines.simulators.Simulator object at 0x7f2988f9e710>:...for Sizing Period: #2 DENVER-AURORA-BUCKLEY.AFB_CO_USA ANN CLG .4% CONDNS DB=>MWB\n",
      "INFO:<energyplus.ooep.engines.simulators.Simulator object at 0x7f2988f9e710>:Adjusting Air System Sizing\n",
      "INFO:<energyplus.ooep.engines.simulators.Simulator object at 0x7f2988f9e710>:Adjusting Standard 62.1 Ventilation Sizing\n",
      "INFO:<energyplus.ooep.engines.simulators.Simulator object at 0x7f2988f9e710>:Initializing Simulation\n",
      "INFO:<energyplus.ooep.engines.simulators.Simulator object at 0x7f2988f9e710>:Reporting Surfaces\n",
      "INFO:<energyplus.ooep.engines.simulators.Simulator object at 0x7f2988f9e710>:Beginning Primary Simulation\n",
      "INFO:<energyplus.ooep.engines.simulators.Simulator object at 0x7f2988f9e710>:Initializing New Environment Parameters\n",
      "Exception ignored on calling ctypes callback function: <function EventManager._ep_callback_setters.<locals>.<dictcomp>.<lambda>.<locals>.<lambda> at 0x7f2988ebbf60>\n",
      "Traceback (most recent call last):\n",
      "  File \"/home/user@AD/lab/EnergyPlus-OOEP/packages/energyplus/ooep/components/events.py\", line 74, in <lambda>\n",
      "    state, lambda _: trigger(StateEvent(specs=specs))\n",
      "                     ^^^^^^^^^^^^^^^^^^^^^^^^^^^^^^^^\n",
      "  File \"/home/user@AD/lab/EnergyPlus-OOEP/packages/energyplus/ooep/components/events.py\", line 51, in trigger\n",
      "    raise e\n",
      "  File \"/home/user@AD/lab/EnergyPlus-OOEP/packages/energyplus/ooep/components/events.py\", line 46, in trigger\n",
      "    try: self.trigger(*args, **kwargs)\n",
      "         ^^^^^^^^^^^^^^^^^^^^^^^^^^^^^\n",
      "  File \"/home/user@AD/lab/EnergyPlus-OOEP/packages/energyplus/ooep/utils/events.py\", line 43, in trigger\n",
      "    return self._handlers[event.specs](event, *args, **kwargs)\n",
      "           ^^^^^^^^^^^^^^^^^^^^^^^^^^^^^^^^^^^^^^^^^^^^^^^^^^^\n",
      "  File \"/home/user@AD/lab/EnergyPlus-OOEP/packages/energyplus/ooep/utils/containers.py\", line 26, in __call__\n",
      "    return _collections_.OrderedDict({\n",
      "                                     ^\n",
      "  File \"/home/user@AD/lab/EnergyPlus-OOEP/packages/energyplus/ooep/utils/containers.py\", line 27, in <dictcomp>\n",
      "    key: f.__call__(*args, **kwargs)\n",
      "         ^^^^^^^^^^^^^^^^^^^^^^^^^^^\n",
      "  File \"/tmp/ipykernel_2283040/1174945552.py\", line 2, in handler_with_exception\n",
      "Exception: test\n",
      "Exception ignored on calling ctypes callback function: <function EventManager._ep_callback_setters.<locals>.<dictcomp>.<lambda>.<locals>.<lambda> at 0x7f2988ebb920>\n",
      "Traceback (most recent call last):\n",
      "  File \"/home/user@AD/lab/EnergyPlus-OOEP/packages/energyplus/ooep/components/events.py\", line 74, in <lambda>\n",
      "    state, lambda _: trigger(StateEvent(specs=specs))\n",
      "                     ^^^^^^^^^^^^^^^^^^^^^^^^^^^^^^^^\n",
      "  File \"/home/user@AD/lab/EnergyPlus-OOEP/packages/energyplus/ooep/components/events.py\", line 51, in trigger\n",
      "    raise e\n",
      "  File \"/home/user@AD/lab/EnergyPlus-OOEP/packages/energyplus/ooep/components/events.py\", line 46, in trigger\n",
      "    try: self.trigger(*args, **kwargs)\n",
      "         ^^^^^^^^^^^^^^^^^^^^^^^^^^^^^\n",
      "  File \"/home/user@AD/lab/EnergyPlus-OOEP/packages/energyplus/ooep/utils/events.py\", line 43, in trigger\n",
      "    return self._handlers[event.specs](event, *args, **kwargs)\n",
      "           ^^^^^^^^^^^^^^^^^^^^^^^^^^^^^^^^^^^^^^^^^^^^^^^^^^^\n",
      "  File \"/home/user@AD/lab/EnergyPlus-OOEP/packages/energyplus/ooep/utils/containers.py\", line 26, in __call__\n",
      "    return _collections_.OrderedDict({\n",
      "                                     ^\n",
      "  File \"/home/user@AD/lab/EnergyPlus-OOEP/packages/energyplus/ooep/utils/containers.py\", line 27, in <dictcomp>\n",
      "    key: f.__call__(*args, **kwargs)\n",
      "         ^^^^^^^^^^^^^^^^^^^^^^^^^^^\n",
      "  File \"/tmp/ipykernel_2283040/1174945552.py\", line 2, in handler_with_exception\n",
      "Exception: test\n",
      "INFO:<energyplus.ooep.engines.simulators.Simulator object at 0x7f2988f9e710>:EnergyPlus Run Time=00hr 00min  0.66sec\n"
     ]
    }
   ],
   "source": [
    "await simulator.awaitable.run(\n",
    "    input=Simulator.InputSpecs(\n",
    "        model=Model().open(\n",
    "            _epds_.models / 'ASHRAE901_OfficeLarge_STD2019_Denver_Chiller205_Detailed.idf'\n",
    "        ),\n",
    "        weather=Weather().open(_epds_.weathers / 'USA_FL_Tampa.Intl.AP.722110_TMY3.epw'),\n",
    "    ),\n",
    "    options=Simulator.RuntimeOptions(\n",
    "        #design_day=True,\n",
    "    ),\n",
    ")"
   ]
  },
  {
   "cell_type": "code",
   "execution_count": null,
   "metadata": {},
   "outputs": [],
   "source": []
  }
 ],
 "metadata": {
  "kernelspec": {
   "display_name": ".venv",
   "language": "python",
   "name": "python3"
  },
  "language_info": {
   "codemirror_mode": {
    "name": "ipython",
    "version": 3
   },
   "file_extension": ".py",
   "mimetype": "text/x-python",
   "name": "python",
   "nbconvert_exporter": "python",
   "pygments_lexer": "ipython3",
   "version": "3.11.2"
  }
 },
 "nbformat": 4,
 "nbformat_minor": 2
}
