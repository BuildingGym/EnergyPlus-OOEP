{
 "cells": [
  {
   "cell_type": "code",
   "execution_count": 11,
   "metadata": {},
   "outputs": [],
   "source": [
    "#%pip install git+https://github.com/NTU-CCA-HVAC-OPTIM-a842a748/EnergyPlus-Datasets.git\n",
    "#%pip install tqdm ipywidgets\n",
    "#%pip install gymnasium\n",
    "#%pip install torch"
   ]
  },
  {
   "cell_type": "code",
   "execution_count": 12,
   "metadata": {},
   "outputs": [
    {
     "data": {
      "application/vnd.jupyter.widget-view+json": {
       "model_id": "8f91425e89a34393870fc27b11d5449f",
       "version_major": 2,
       "version_minor": 0
      },
      "text/plain": [
       "  0%|          | 0/100 [00:00<?, ?it/s]"
      ]
     },
     "metadata": {},
     "output_type": "display_data"
    },
    {
     "data": {
      "text/plain": [
       "<Task pending name='Task-8' coro=<Engine.run_forever() running at /home/user@AD/lab/EnergyPlus-OOEP/packages/energyplus/ooep/utils/awaitables.py:22>>"
      ]
     },
     "execution_count": 12,
     "metadata": {},
     "output_type": "execute_result"
    }
   ],
   "source": [
    "import logging as _logging_\n",
    "_logging_.basicConfig(level='INFO')\n",
    "#from energyplus.ooep.addons.logging import LogProvider\n",
    "\n",
    "import energyplus.ooep as _ooep_\n",
    "\n",
    "from energyplus.ooep.addons.display import ProgressProvider\n",
    "\n",
    "from energyplus.ooep import (\n",
    "    Simulator,\n",
    "    Model,\n",
    "    Weather,\n",
    "    Report,\n",
    ")\n",
    "\n",
    "from energyplus.dataset.basic import dataset as _epds_\n",
    "\n",
    "simulator = Simulator().add(\n",
    "    ProgressProvider(),\n",
    "    #LogProvider(),\n",
    ")\n",
    "\n",
    "await simulator.awaitable.run_forever(\n",
    "    input=Simulator.InputSpecs(\n",
    "        environment=Model().open(\n",
    "            _epds_.models / 'ASHRAE901_OfficeLarge_STD2019_Denver_Chiller205_Detailed.idf'\n",
    "        ),\n",
    "        weather=Weather().open(_epds_.weathers / 'USA_FL_Tampa.Intl.AP.722110_TMY3.epw'),\n",
    "    ),\n",
    "    options=Simulator.RuntimeOptions(\n",
    "        #design_day=True,\n",
    "    ),\n",
    ")"
   ]
  },
  {
   "cell_type": "code",
   "execution_count": 13,
   "metadata": {},
   "outputs": [],
   "source": [
    "import numpy as _numpy_\n",
    "import gymnasium as _gymnasium_\n",
    "\n",
    "from energyplus.ooep.addons.rl.gymnasium.spaces import VariableBox\n",
    "from energyplus.ooep.addons.rl.ray import SimulatorEnv\n",
    "\n",
    "from energyplus.ooep.components.variables import (\n",
    "    Actuator,\n",
    "    OutputVariable,\n",
    ")\n",
    "from energyplus.ooep.addons.rl.gymnasium.core import BaseThinEnv\n",
    "\n",
    "class TestThinEnv(BaseThinEnv):\n",
    "    @property\n",
    "    def action_space(self):\n",
    "        return _gymnasium_.spaces.Dict({\n",
    "            'thermostat': VariableBox(\n",
    "                low=20., high=30.,\n",
    "                dtype=_numpy_.float32,\n",
    "                shape=(),\n",
    "            ).bind(Actuator.Specs(\n",
    "                type='Zone Temperature Control',\n",
    "                control_type='Cooling Setpoint',\n",
    "                key='CORE_MID',\n",
    "            ))\n",
    "        })\n",
    "    \n",
    "    @property\n",
    "    def observation_space(self):\n",
    "        return _gymnasium_.spaces.Dict({\n",
    "            'temperature': VariableBox(\n",
    "                low=-_numpy_.inf, high=+_numpy_.inf,\n",
    "                dtype=_numpy_.float32,\n",
    "                shape=(),\n",
    "            ).bind(OutputVariable.Specs(\n",
    "                type='People Air Temperature',\n",
    "                key='CORE_MID',\n",
    "            )),\n",
    "        })\n",
    "    \n",
    "simulator.add(\n",
    "    env := TestThinEnv()\n",
    ")\n",
    "\n",
    "# TODO mv testing\n",
    "_ = '''\n",
    "env.observe()\n",
    "env.action_space.sample()['thermostat']\n",
    "env.act(env.action_space.sample())\n",
    "'''"
   ]
  },
  {
   "cell_type": "code",
   "execution_count": null,
   "metadata": {},
   "outputs": [
    {
     "data": {
      "text/plain": [
       "<energyplus.ooep.engines.simulators.Simulator at 0x7f750c75ef10>"
      ]
     },
     "execution_count": 3,
     "metadata": {},
     "output_type": "execute_result"
    }
   ],
   "source": [
    "simulator\n",
    "simulator._workflows._handlers\n",
    "simulator._variables._variable_data"
   ]
  },
  {
   "cell_type": "code",
   "execution_count": null,
   "metadata": {},
   "outputs": [],
   "source": [
    "def _hotfix10447_monkey():\n",
    "    import energyplus.core\n",
    "    DataExchange = energyplus.core.pyenergyplus.datatransfer.DataExchange\n",
    "\n",
    "    if getattr(DataExchange, '_hotfix10447', False):\n",
    "        return\n",
    "    \n",
    "    _get_api_data = DataExchange.get_api_data\n",
    "    def _hotfix10447_get_api_data(self, state):\n",
    "        return [\n",
    "            DataExchange.APIDataExchangePoint(\n",
    "                _what=datapoint.what,\n",
    "                _name=datapoint.name, \n",
    "                _key=datapoint.type, \n",
    "                _type=datapoint.key,\n",
    "            )\n",
    "            for datapoint in (\n",
    "                _get_api_data(self, state)\n",
    "            )\n",
    "        ]\n",
    "    DataExchange.get_api_data = _hotfix10447_get_api_data\n",
    "    setattr(DataExchange, '_hotfix10447', True)\n",
    "\n",
    "_hotfix10447_monkey()"
   ]
  },
  {
   "cell_type": "code",
   "execution_count": null,
   "metadata": {},
   "outputs": [
    {
     "data": {
      "text/plain": [
       "('Zone Mechanical Ventilation Air Changes per Hour',\n",
       " '',\n",
       " 'DATACENTER_BASEMENT_ZN_6')"
      ]
     },
     "execution_count": 7,
     "metadata": {},
     "output_type": "execute_result"
    }
   ],
   "source": [
    "TODO = list(filter(lambda x: x.what == 'OutputVariable', simulator._core.api.exchange.get_api_data(simulator._core.state)))[-1]\n",
    "TODO.name, TODO.key, TODO.type"
   ]
  },
  {
   "cell_type": "code",
   "execution_count": null,
   "metadata": {},
   "outputs": [
    {
     "data": {
      "text/html": [
       "<details>\n",
       "            <summary>&#x27;GroupView&#x27;</summary>\n",
       "            <dl>\n",
       "            <dt>energyplus.ooep.components.variables.Clock.Specs</dt><dd>&lt;energyplus.ooep.components.variables.VariableManager.KeysView at 0x7f68077d5490&gt;</dd><dt>energyplus.ooep.components.variables.Actuator.Specs</dt><dd>&lt;energyplus.ooep.components.variables.VariableManager.KeysView at 0x7f67ca8a0a10&gt;</dd><dt>energyplus.ooep.components.variables.InternalVariable.Specs</dt><dd>&lt;energyplus.ooep.components.variables.VariableManager.KeysView at 0x7f68003aa8d0&gt;</dd><dt>energyplus.ooep.components.variables.OutputMeter.Specs</dt><dd>&lt;energyplus.ooep.components.variables.VariableManager.KeysView at 0x7f67ca8dead0&gt;</dd><dt>energyplus.ooep.components.variables.OutputVariable.Specs</dt><dd>&lt;energyplus.ooep.components.variables.VariableManager.KeysView at 0x7f67ca8ddd10&gt;</dd>\n",
       "        </dl>\n",
       "        </details>"
      ],
      "text/plain": [
       "{<class 'energyplus.ooep.components.variables.Clock.Specs'>: <energyplus.ooep.components.variables.VariableManager.KeysView object at 0x7f68077d5490>, <class 'energyplus.ooep.components.variables.Actuator.Specs'>: <energyplus.ooep.components.variables.VariableManager.KeysView object at 0x7f67ca8a0a10>, <class 'energyplus.ooep.components.variables.InternalVariable.Specs'>: <energyplus.ooep.components.variables.VariableManager.KeysView object at 0x7f68003aa8d0>, <class 'energyplus.ooep.components.variables.OutputMeter.Specs'>: <energyplus.ooep.components.variables.VariableManager.KeysView object at 0x7f67ca8dead0>, <class 'energyplus.ooep.components.variables.OutputVariable.Specs'>: <energyplus.ooep.components.variables.VariableManager.KeysView object at 0x7f67ca8ddd10>}"
      ]
     },
     "execution_count": 3,
     "metadata": {},
     "output_type": "execute_result"
    }
   ],
   "source": [
    "((simulator.variables.keys()).group(type))"
   ]
  },
  {
   "cell_type": "code",
   "execution_count": null,
   "metadata": {},
   "outputs": [
    {
     "data": {
      "text/html": [
       "<details>\n",
       "            <summary>&#x27;GroupView&#x27;</summary>\n",
       "            <dl>\n",
       "            <dt>&#x27;Outdoor Dry Bulb&#x27;</dt><dd>&lt;energyplus.ooep.components.variables.VariableManager.KeysView at 0x7fd5c4130f50&gt;</dd><dt>&#x27;Outdoor Dew Point&#x27;</dt><dd>&lt;energyplus.ooep.components.variables.VariableManager.KeysView at 0x7fd5c4130fd0&gt;</dd><dt>&#x27;Outdoor Relative Humidity&#x27;</dt><dd>&lt;energyplus.ooep.components.variables.VariableManager.KeysView at 0x7fd5c4130d90&gt;</dd><dt>&#x27;Diffuse Solar&#x27;</dt><dd>&lt;energyplus.ooep.components.variables.VariableManager.KeysView at 0x7fd5c4130dd0&gt;</dd><dt>&#x27;Direct Solar&#x27;</dt><dd>&lt;energyplus.ooep.components.variables.VariableManager.KeysView at 0x7fd5c4130cd0&gt;</dd><dt>&#x27;Wind Speed&#x27;</dt><dd>&lt;energyplus.ooep.components.variables.VariableManager.KeysView at 0x7fd5c4131190&gt;</dd><dt>&#x27;Wind Direction&#x27;</dt><dd>&lt;energyplus.ooep.components.variables.VariableManager.KeysView at 0x7fd5c4131250&gt;</dd><dt>&#x27;Schedule Value&#x27;</dt><dd>&lt;energyplus.ooep.components.variables.VariableManager.KeysView at 0x7fd5c41312d0&gt;</dd><dt>&#x27;Surface Property Solar Absorptance&#x27;</dt><dd>&lt;energyplus.ooep.components.variables.VariableManager.KeysView at 0x7fd5c4131350&gt;</dd><dt>&#x27;Surface Property Thermal Absorptance&#x27;</dt><dd>&lt;energyplus.ooep.components.variables.VariableManager.KeysView at 0x7fd5c4131410&gt;</dd><dt>&#x27;Surface Property Visible Absorptance&#x27;</dt><dd>&lt;energyplus.ooep.components.variables.VariableManager.KeysView at 0x7fd5c4131490&gt;</dd><dt>&#x27;Number of People&#x27;</dt><dd>&lt;energyplus.ooep.components.variables.VariableManager.KeysView at 0x7fd5c4131510&gt;</dd><dt>&#x27;Electricity Rate&#x27;</dt><dd>&lt;energyplus.ooep.components.variables.VariableManager.KeysView at 0x7fd5c4131650&gt;</dd><dt>&#x27;Interior Surface Convection Heat Transfer Coefficient&#x27;</dt><dd>&lt;energyplus.ooep.components.variables.VariableManager.KeysView at 0x7fd5c41316d0&gt;</dd><dt>&#x27;Exterior Surface Convection Heat Transfer Coefficient&#x27;</dt><dd>&lt;energyplus.ooep.components.variables.VariableManager.KeysView at 0x7fd5c4131790&gt;</dd><dt>&#x27;Construction State&#x27;</dt><dd>&lt;energyplus.ooep.components.variables.VariableManager.KeysView at 0x7fd5c4131810&gt;</dd><dt>&#x27;View Factor To Ground&#x27;</dt><dd>&lt;energyplus.ooep.components.variables.VariableManager.KeysView at 0x7fd5c4131890&gt;</dd><dt>&#x27;Outdoor Air Drybulb Temperature&#x27;</dt><dd>&lt;energyplus.ooep.components.variables.VariableManager.KeysView at 0x7fd5c4131950&gt;</dd><dt>&#x27;Outdoor Air Wetbulb Temperature&#x27;</dt><dd>&lt;energyplus.ooep.components.variables.VariableManager.KeysView at 0x7fd5c41319d0&gt;</dd><dt>&#x27;Outdoor Air Wind Speed&#x27;</dt><dd>&lt;energyplus.ooep.components.variables.VariableManager.KeysView at 0x7fd5c4131a50&gt;</dd><dt>&#x27;Outdoor Air Wind Direction&#x27;</dt><dd>&lt;energyplus.ooep.components.variables.VariableManager.KeysView at 0x7fd5c4131b10&gt;</dd><dt>&#x27;Air Exchange Flow Rate&#x27;</dt><dd>&lt;energyplus.ooep.components.variables.VariableManager.KeysView at 0x7fd5c4131b90&gt;</dd><dt>&#x27;On/Off Supervisory&#x27;</dt><dd>&lt;energyplus.ooep.components.variables.VariableManager.KeysView at 0x7fd5c4131c10&gt;</dd><dt>&#x27;Zone Design Heating Air Mass Flow Rate&#x27;</dt><dd>&lt;energyplus.ooep.components.variables.VariableManager.KeysView at 0x7fd5c4131cd0&gt;</dd><dt>&#x27;Zone Design Cooling Air Mass Flow Rate&#x27;</dt><dd>&lt;energyplus.ooep.components.variables.VariableManager.KeysView at 0x7fd5c4131d50&gt;</dd><dt>&#x27;Zone Design Heating Load&#x27;</dt><dd>&lt;energyplus.ooep.components.variables.VariableManager.KeysView at 0x7fd5c4131dd0&gt;</dd><dt>&#x27;Zone Design Cooling Load&#x27;</dt><dd>&lt;energyplus.ooep.components.variables.VariableManager.KeysView at 0x7fd5c4131e90&gt;</dd><dt>&#x27;Zone Design Heating Vol Flow&#x27;</dt><dd>&lt;energyplus.ooep.components.variables.VariableManager.KeysView at 0x7fd5c4131f10&gt;</dd><dt>&#x27;Zone Design Cooling Vol Flow&#x27;</dt><dd>&lt;energyplus.ooep.components.variables.VariableManager.KeysView at 0x7fd5c4131f90&gt;</dd><dt>&#x27;Heating Setpoint&#x27;</dt><dd>&lt;energyplus.ooep.components.variables.VariableManager.KeysView at 0x7fd5c4132050&gt;</dd><dt>&#x27;Cooling Setpoint&#x27;</dt><dd>&lt;energyplus.ooep.components.variables.VariableManager.KeysView at 0x7fd5c41320d0&gt;</dd><dt>&#x27;Relative Humidity Humidifying Setpoint&#x27;</dt><dd>&lt;energyplus.ooep.components.variables.VariableManager.KeysView at 0x7fd5c4132150&gt;</dd><dt>&#x27;Relative Humidity Dehumidifying Setpoint&#x27;</dt><dd>&lt;energyplus.ooep.components.variables.VariableManager.KeysView at 0x7fd5c4132210&gt;</dd><dt>&#x27;Mass Flow Rate&#x27;</dt><dd>&lt;energyplus.ooep.components.variables.VariableManager.KeysView at 0x7fd5c4132290&gt;</dd><dt>&#x27;Fan Air Mass Flow Rate&#x27;</dt><dd>&lt;energyplus.ooep.components.variables.VariableManager.KeysView at 0x7fd5c4132310&gt;</dd><dt>&#x27;Fan Pressure Rise&#x27;</dt><dd>&lt;energyplus.ooep.components.variables.VariableManager.KeysView at 0x7fd5c41323d0&gt;</dd><dt>&#x27;Fan Total Efficiency&#x27;</dt><dd>&lt;energyplus.ooep.components.variables.VariableManager.KeysView at 0x7fd5c4132450&gt;</dd><dt>&#x27;Fan Autosized Air Flow Rate&#x27;</dt><dd>&lt;energyplus.ooep.components.variables.VariableManager.KeysView at 0x7fd5c41324d0&gt;</dd><dt>&#x27;Main Supply Volume Flow Rate&#x27;</dt><dd>&lt;energyplus.ooep.components.variables.VariableManager.KeysView at 0x7fd5c41325d0&gt;</dd><dt>&#x27;Main Supply Coincident Peak Cooling Mass Flow Rate&#x27;</dt><dd>&lt;energyplus.ooep.components.variables.VariableManager.KeysView at 0x7fd5c4132590&gt;</dd><dt>&#x27;Main Supply Coincident Peak Heating Mass Flow Rate&#x27;</dt><dd>&lt;energyplus.ooep.components.variables.VariableManager.KeysView at 0x7fd5c4132690&gt;</dd><dt>&#x27;Main Supply Noncoincident Peak Cooling Mass Flow Rate&#x27;</dt><dd>&lt;energyplus.ooep.components.variables.VariableManager.KeysView at 0x7fd5c4132650&gt;</dd><dt>&#x27;Main Supply Noncoincident Peak Heating Mass Flow Rate&#x27;</dt><dd>&lt;energyplus.ooep.components.variables.VariableManager.KeysView at 0x7fd5c4132750&gt;</dd><dt>&#x27;Main Heating Volume Flow Rate&#x27;</dt><dd>&lt;energyplus.ooep.components.variables.VariableManager.KeysView at 0x7fd5c4132710&gt;</dd><dt>&#x27;Main Cooling Volume Flow Rate&#x27;</dt><dd>&lt;energyplus.ooep.components.variables.VariableManager.KeysView at 0x7fd5c41327d0&gt;</dd><dt>&#x27;Air Mass Flow Rate&#x27;</dt><dd>&lt;energyplus.ooep.components.variables.VariableManager.KeysView at 0x7fd5c4132890&gt;</dd><dt>&#x27;Autosized Supply Air Flow Rate&#x27;</dt><dd>&lt;energyplus.ooep.components.variables.VariableManager.KeysView at 0x7fd5c4132850&gt;</dd><dt>&#x27;Sensible Load Request&#x27;</dt><dd>&lt;energyplus.ooep.components.variables.VariableManager.KeysView at 0x7fd5c4132950&gt;</dd><dt>&#x27;Moisture Load Request&#x27;</dt><dd>&lt;energyplus.ooep.components.variables.VariableManager.KeysView at 0x7fd5c4132910&gt;</dd><dt>&#x27;Pump Mass Flow Rate&#x27;</dt><dd>&lt;energyplus.ooep.components.variables.VariableManager.KeysView at 0x7fd5c4132a10&gt;</dd><dt>&#x27;Pump Pressure Rise&#x27;</dt><dd>&lt;energyplus.ooep.components.variables.VariableManager.KeysView at 0x7fd5c41329d0&gt;</dd><dt>&#x27;Curve Result&#x27;</dt><dd>&lt;energyplus.ooep.components.variables.VariableManager.KeysView at 0x7fd5c4132a90&gt;</dd><dt>&#x27;Temperature Setpoint&#x27;</dt><dd>&lt;energyplus.ooep.components.variables.VariableManager.KeysView at 0x7fd5c4132b10&gt;</dd><dt>&#x27;Temperature Minimum Setpoint&#x27;</dt><dd>&lt;energyplus.ooep.components.variables.VariableManager.KeysView at 0x7fd5c4132b90&gt;</dd><dt>&#x27;Temperature Maximum Setpoint&#x27;</dt><dd>&lt;energyplus.ooep.components.variables.VariableManager.KeysView at 0x7fd5c4132c10&gt;</dd><dt>&#x27;Humidity Ratio Setpoint&#x27;</dt><dd>&lt;energyplus.ooep.components.variables.VariableManager.KeysView at 0x7fd5c4132cd0&gt;</dd><dt>&#x27;Humidity Ratio Maximum Setpoint&#x27;</dt><dd>&lt;energyplus.ooep.components.variables.VariableManager.KeysView at 0x7fd5c4132d50&gt;</dd><dt>&#x27;Humidity Ratio Minimum Setpoint&#x27;</dt><dd>&lt;energyplus.ooep.components.variables.VariableManager.KeysView at 0x7fd5c4132dd0&gt;</dd><dt>&#x27;Mass Flow Rate Setpoint&#x27;</dt><dd>&lt;energyplus.ooep.components.variables.VariableManager.KeysView at 0x7fd5c4132e90&gt;</dd><dt>&#x27;Mass Flow Rate Maximum Available Setpoint&#x27;</dt><dd>&lt;energyplus.ooep.components.variables.VariableManager.KeysView at 0x7fd5c4132f10&gt;</dd><dt>&#x27;Mass Flow Rate Minimum Available Setpoint&#x27;</dt><dd>&lt;energyplus.ooep.components.variables.VariableManager.KeysView at 0x7fd5c4132f90&gt;</dd><dt>&#x27;Drybulb Temperature&#x27;</dt><dd>&lt;energyplus.ooep.components.variables.VariableManager.KeysView at 0x7fd5c4133050&gt;</dd><dt>&#x27;Wetbulb Temperature&#x27;</dt><dd>&lt;energyplus.ooep.components.variables.VariableManager.KeysView at 0x7fd5c41330d0&gt;</dd><dt>&#x27;Availability Status&#x27;</dt><dd>&lt;energyplus.ooep.components.variables.VariableManager.KeysView at 0x7fd5c4133150&gt;</dd>\n",
       "        </dl>\n",
       "        </details>"
      ],
      "text/plain": [
       "{'Outdoor Dry Bulb': <energyplus.ooep.components.variables.VariableManager.KeysView object at 0x7fd5c4130f50>, 'Outdoor Dew Point': <energyplus.ooep.components.variables.VariableManager.KeysView object at 0x7fd5c4130fd0>, 'Outdoor Relative Humidity': <energyplus.ooep.components.variables.VariableManager.KeysView object at 0x7fd5c4130d90>, 'Diffuse Solar': <energyplus.ooep.components.variables.VariableManager.KeysView object at 0x7fd5c4130dd0>, 'Direct Solar': <energyplus.ooep.components.variables.VariableManager.KeysView object at 0x7fd5c4130cd0>, 'Wind Speed': <energyplus.ooep.components.variables.VariableManager.KeysView object at 0x7fd5c4131190>, 'Wind Direction': <energyplus.ooep.components.variables.VariableManager.KeysView object at 0x7fd5c4131250>, 'Schedule Value': <energyplus.ooep.components.variables.VariableManager.KeysView object at 0x7fd5c41312d0>, 'Surface Property Solar Absorptance': <energyplus.ooep.components.variables.VariableManager.KeysView object at 0x7fd5c4131350>, 'Surface Property Thermal Absorptance': <energyplus.ooep.components.variables.VariableManager.KeysView object at 0x7fd5c4131410>, 'Surface Property Visible Absorptance': <energyplus.ooep.components.variables.VariableManager.KeysView object at 0x7fd5c4131490>, 'Number of People': <energyplus.ooep.components.variables.VariableManager.KeysView object at 0x7fd5c4131510>, 'Electricity Rate': <energyplus.ooep.components.variables.VariableManager.KeysView object at 0x7fd5c4131650>, 'Interior Surface Convection Heat Transfer Coefficient': <energyplus.ooep.components.variables.VariableManager.KeysView object at 0x7fd5c41316d0>, 'Exterior Surface Convection Heat Transfer Coefficient': <energyplus.ooep.components.variables.VariableManager.KeysView object at 0x7fd5c4131790>, 'Construction State': <energyplus.ooep.components.variables.VariableManager.KeysView object at 0x7fd5c4131810>, 'View Factor To Ground': <energyplus.ooep.components.variables.VariableManager.KeysView object at 0x7fd5c4131890>, 'Outdoor Air Drybulb Temperature': <energyplus.ooep.components.variables.VariableManager.KeysView object at 0x7fd5c4131950>, 'Outdoor Air Wetbulb Temperature': <energyplus.ooep.components.variables.VariableManager.KeysView object at 0x7fd5c41319d0>, 'Outdoor Air Wind Speed': <energyplus.ooep.components.variables.VariableManager.KeysView object at 0x7fd5c4131a50>, 'Outdoor Air Wind Direction': <energyplus.ooep.components.variables.VariableManager.KeysView object at 0x7fd5c4131b10>, 'Air Exchange Flow Rate': <energyplus.ooep.components.variables.VariableManager.KeysView object at 0x7fd5c4131b90>, 'On/Off Supervisory': <energyplus.ooep.components.variables.VariableManager.KeysView object at 0x7fd5c4131c10>, 'Zone Design Heating Air Mass Flow Rate': <energyplus.ooep.components.variables.VariableManager.KeysView object at 0x7fd5c4131cd0>, 'Zone Design Cooling Air Mass Flow Rate': <energyplus.ooep.components.variables.VariableManager.KeysView object at 0x7fd5c4131d50>, 'Zone Design Heating Load': <energyplus.ooep.components.variables.VariableManager.KeysView object at 0x7fd5c4131dd0>, 'Zone Design Cooling Load': <energyplus.ooep.components.variables.VariableManager.KeysView object at 0x7fd5c4131e90>, 'Zone Design Heating Vol Flow': <energyplus.ooep.components.variables.VariableManager.KeysView object at 0x7fd5c4131f10>, 'Zone Design Cooling Vol Flow': <energyplus.ooep.components.variables.VariableManager.KeysView object at 0x7fd5c4131f90>, 'Heating Setpoint': <energyplus.ooep.components.variables.VariableManager.KeysView object at 0x7fd5c4132050>, 'Cooling Setpoint': <energyplus.ooep.components.variables.VariableManager.KeysView object at 0x7fd5c41320d0>, 'Relative Humidity Humidifying Setpoint': <energyplus.ooep.components.variables.VariableManager.KeysView object at 0x7fd5c4132150>, 'Relative Humidity Dehumidifying Setpoint': <energyplus.ooep.components.variables.VariableManager.KeysView object at 0x7fd5c4132210>, 'Mass Flow Rate': <energyplus.ooep.components.variables.VariableManager.KeysView object at 0x7fd5c4132290>, 'Fan Air Mass Flow Rate': <energyplus.ooep.components.variables.VariableManager.KeysView object at 0x7fd5c4132310>, 'Fan Pressure Rise': <energyplus.ooep.components.variables.VariableManager.KeysView object at 0x7fd5c41323d0>, 'Fan Total Efficiency': <energyplus.ooep.components.variables.VariableManager.KeysView object at 0x7fd5c4132450>, 'Fan Autosized Air Flow Rate': <energyplus.ooep.components.variables.VariableManager.KeysView object at 0x7fd5c41324d0>, 'Main Supply Volume Flow Rate': <energyplus.ooep.components.variables.VariableManager.KeysView object at 0x7fd5c41325d0>, 'Main Supply Coincident Peak Cooling Mass Flow Rate': <energyplus.ooep.components.variables.VariableManager.KeysView object at 0x7fd5c4132590>, 'Main Supply Coincident Peak Heating Mass Flow Rate': <energyplus.ooep.components.variables.VariableManager.KeysView object at 0x7fd5c4132690>, 'Main Supply Noncoincident Peak Cooling Mass Flow Rate': <energyplus.ooep.components.variables.VariableManager.KeysView object at 0x7fd5c4132650>, 'Main Supply Noncoincident Peak Heating Mass Flow Rate': <energyplus.ooep.components.variables.VariableManager.KeysView object at 0x7fd5c4132750>, 'Main Heating Volume Flow Rate': <energyplus.ooep.components.variables.VariableManager.KeysView object at 0x7fd5c4132710>, 'Main Cooling Volume Flow Rate': <energyplus.ooep.components.variables.VariableManager.KeysView object at 0x7fd5c41327d0>, 'Air Mass Flow Rate': <energyplus.ooep.components.variables.VariableManager.KeysView object at 0x7fd5c4132890>, 'Autosized Supply Air Flow Rate': <energyplus.ooep.components.variables.VariableManager.KeysView object at 0x7fd5c4132850>, 'Sensible Load Request': <energyplus.ooep.components.variables.VariableManager.KeysView object at 0x7fd5c4132950>, 'Moisture Load Request': <energyplus.ooep.components.variables.VariableManager.KeysView object at 0x7fd5c4132910>, 'Pump Mass Flow Rate': <energyplus.ooep.components.variables.VariableManager.KeysView object at 0x7fd5c4132a10>, 'Pump Pressure Rise': <energyplus.ooep.components.variables.VariableManager.KeysView object at 0x7fd5c41329d0>, 'Curve Result': <energyplus.ooep.components.variables.VariableManager.KeysView object at 0x7fd5c4132a90>, 'Temperature Setpoint': <energyplus.ooep.components.variables.VariableManager.KeysView object at 0x7fd5c4132b10>, 'Temperature Minimum Setpoint': <energyplus.ooep.components.variables.VariableManager.KeysView object at 0x7fd5c4132b90>, 'Temperature Maximum Setpoint': <energyplus.ooep.components.variables.VariableManager.KeysView object at 0x7fd5c4132c10>, 'Humidity Ratio Setpoint': <energyplus.ooep.components.variables.VariableManager.KeysView object at 0x7fd5c4132cd0>, 'Humidity Ratio Maximum Setpoint': <energyplus.ooep.components.variables.VariableManager.KeysView object at 0x7fd5c4132d50>, 'Humidity Ratio Minimum Setpoint': <energyplus.ooep.components.variables.VariableManager.KeysView object at 0x7fd5c4132dd0>, 'Mass Flow Rate Setpoint': <energyplus.ooep.components.variables.VariableManager.KeysView object at 0x7fd5c4132e90>, 'Mass Flow Rate Maximum Available Setpoint': <energyplus.ooep.components.variables.VariableManager.KeysView object at 0x7fd5c4132f10>, 'Mass Flow Rate Minimum Available Setpoint': <energyplus.ooep.components.variables.VariableManager.KeysView object at 0x7fd5c4132f90>, 'Drybulb Temperature': <energyplus.ooep.components.variables.VariableManager.KeysView object at 0x7fd5c4133050>, 'Wetbulb Temperature': <energyplus.ooep.components.variables.VariableManager.KeysView object at 0x7fd5c41330d0>, 'Availability Status': <energyplus.ooep.components.variables.VariableManager.KeysView object at 0x7fd5c4133150>}"
      ]
     },
     "execution_count": 5,
     "metadata": {},
     "output_type": "execute_result"
    }
   ],
   "source": [
    "(simulator.variables.keys()).group(type)[_ooep_.components.variables.Actuator.Specs].group(lambda x: x.control_type)"
   ]
  },
  {
   "cell_type": "code",
   "execution_count": null,
   "metadata": {},
   "outputs": [],
   "source": []
  }
 ],
 "metadata": {
  "kernelspec": {
   "display_name": ".venv",
   "language": "python",
   "name": "python3"
  },
  "language_info": {
   "codemirror_mode": {
    "name": "ipython",
    "version": 3
   },
   "file_extension": ".py",
   "mimetype": "text/x-python",
   "name": "python",
   "nbconvert_exporter": "python",
   "pygments_lexer": "ipython3",
   "version": "3.11.2"
  }
 },
 "nbformat": 4,
 "nbformat_minor": 2
}
