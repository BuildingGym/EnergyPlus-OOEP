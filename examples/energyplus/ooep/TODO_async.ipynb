{
 "cells": [
  {
   "cell_type": "code",
   "execution_count": 1,
   "id": "30c4b509",
   "metadata": {},
   "outputs": [],
   "source": [
    "#%load_ext autoreload\n",
    "#%autoreload all"
   ]
  },
  {
   "cell_type": "code",
   "execution_count": 2,
   "id": "4bd6b2b7",
   "metadata": {},
   "outputs": [
    {
     "data": {
      "text/plain": [
       "'\\nwhile true:\\n    await env.step()\\n\\nenv.step()\\n\\n    \\n'"
      ]
     },
     "execution_count": 2,
     "metadata": {},
     "output_type": "execute_result"
    }
   ],
   "source": [
    "import asyncio\n",
    "import functools\n",
    "from typing import Any\n",
    "\n",
    "class AsyncWrapper:\n",
    "    def __init__(self, executor=None):\n",
    "        self._executor = executor\n",
    "\n",
    "    async def __call__(self, func, *args, **kwargs):\n",
    "        loop = asyncio.get_running_loop()\n",
    "        return await loop.run_in_executor(\n",
    "            self._executor, \n",
    "            functools.partial(func, *args, **kwargs)\n",
    "        )\n",
    "async_wrapper = AsyncWrapper()\n",
    "\n",
    "# TODO Promisification\n",
    "\n",
    "queue = asyncio.Queue()\n",
    "# TODO in callback\n",
    "# TODO put - wait for .get\n",
    "#loop.call_soon_threadsafe(queue.put_nowait, ...)\n",
    "\n",
    "# TODO\n",
    "#await queue.get()\n",
    "\n",
    "\n",
    "import queue\n",
    "class _TODO_aaa:\n",
    "    def __init__(self):\n",
    "        # TODO\n",
    "        self._queue = queue.Queue(maxsize=1)\n",
    "\n",
    "    def __call__(self):\n",
    "        # TODO\n",
    "        self._queue.put(None, block=True)\n",
    "\n",
    "    def _TODO(self):\n",
    "        while True:\n",
    "            yield self._queue.get(block=True)\n",
    "\n",
    "'''\n",
    "while true:\n",
    "    await env.step()\n",
    "\n",
    "env.step()\n",
    "\n",
    "    \n",
    "'''"
   ]
  },
  {
   "cell_type": "code",
   "execution_count": 3,
   "id": "25075823",
   "metadata": {},
   "outputs": [],
   "source": [
    "# TODO ref https://stackoverflow.com/a/53996189\n",
    "def _TODO_make_async_conn():\n",
    "    loop = asyncio.get_event_loop()\n",
    "    # TODO\n",
    "    queue = asyncio.Queue(maxsize=1)\n",
    "\n",
    "    def put(*args):\n",
    "        loop.call_soon_threadsafe(queue.put_nowait, args)\n",
    "\n",
    "    async def get():\n",
    "        while True:\n",
    "            yield await queue.get()\n",
    "    return get(), put\n",
    "\n",
    "iter_get, func_put = _TODO_make_async_conn()"
   ]
  },
  {
   "cell_type": "code",
   "execution_count": 6,
   "id": "49a1b81a",
   "metadata": {},
   "outputs": [
    {
     "name": "stdout",
     "output_type": "stream",
     "text": [
      "qsize get 0\n",
      "waiting\n"
     ]
    }
   ],
   "source": [
    "import energyplus.ooep\n",
    "import energyplus.ooep.ems\n",
    "env = energyplus.ooep.ems.Environment().__enter__()\n",
    "\n",
    "\n",
    "# TODO\n",
    "import queue\n",
    "_queue = queue.Queue(maxsize=1)\n",
    "\n",
    "#import asyncio\n",
    "#_queue = asyncio.Queue(maxsize=1)\n",
    "\n",
    "loop = asyncio.get_event_loop()\n",
    "\n",
    "\n",
    "event = asyncio.Event()\n",
    "\n",
    "def _f_callback():\n",
    "    global loop\n",
    "\n",
    "    global env\n",
    "    if env.warming_up:\n",
    "        return\n",
    "\n",
    "    global _queue\n",
    "    print('qsize put', (_queue).qsize())\n",
    "\n",
    "    #asyncio.ensure_future(_queue.put('test item'), loop=loop)\n",
    "    _queue.put('test item')\n",
    "\n",
    "    print('qsize put', (_queue).qsize())\n",
    "\n",
    "\n",
    "\n",
    "env.event_listener.subscribe(\n",
    "    dict(event_name='begin_zone_timestep_after_init_heat_balance'),\n",
    "    #dict(event_name='after_component_input'),\n",
    "    _f_callback\n",
    ")\n",
    "\n",
    "\n",
    "from energyplus.dataset.basic import dataset as epds\n",
    "_TODO_future = async_wrapper(\n",
    "    env,\n",
    "    # TODO\n",
    "    '--design-day',\n",
    "    #'--annual',\n",
    "    '--output-directory', 'build/demo-eplus',\n",
    "    '--weather', f'{epds.weathers}/USA_FL_Tampa.Intl.AP.722110_TMY3.epw',\n",
    "    f'{epds.models}/ASHRAE901_OfficeLarge_STD2019_Denver_Chiller205_Detailed.idf',\n",
    "    verbose=True,\n",
    ")\n",
    "\n",
    "\n",
    "#asyncio.get_event_loop().create_task(_TODO_future)\n",
    "#await _TODO_future\n",
    "\n",
    "for _ in range(10):\n",
    "    print('qsize get', _queue.qsize())\n",
    "    print('waiting')\n",
    "    _queue.get()\n",
    "    continue\n",
    "    await asyncio.sleep(10)\n",
    "    await event.wait()\n",
    "    continue\n",
    "    await _queue.get()\n",
    "\n",
    "#print(_queue.qsize())"
   ]
  },
  {
   "cell_type": "code",
   "execution_count": 7,
   "id": "69874d0e",
   "metadata": {},
   "outputs": [
    {
     "data": {
      "text/plain": [
       "<Task pending name='Task-11' coro=<sleep() running at /opt/tljh/user/envs/essentials/lib/python3.11/asyncio/tasks.py:637>>"
      ]
     },
     "execution_count": 7,
     "metadata": {},
     "output_type": "execute_result"
    }
   ],
   "source": [
    "import asyncio\n",
    "asyncio.get_event_loop().create_task(asyncio.sleep(10))"
   ]
  },
  {
   "cell_type": "code",
   "execution_count": null,
   "id": "e2c056b9",
   "metadata": {},
   "outputs": [],
   "source": [
    "import asyncio\n",
    "asyncio.run_coroutine_threadsafe(asyncio.sleep(1, result=3), loop=asyncio.get_event_loop()).result()"
   ]
  },
  {
   "cell_type": "code",
   "execution_count": 20,
   "id": "6a77b557",
   "metadata": {},
   "outputs": [
    {
     "ename": "TypeError",
     "evalue": "can't send non-None value to a just-started generator",
     "output_type": "error",
     "traceback": [
      "\u001b[0;31m---------------------------------------------------------------------------\u001b[0m",
      "\u001b[0;31mTypeError\u001b[0m                                 Traceback (most recent call last)",
      "Cell \u001b[0;32mIn[20], line 4\u001b[0m\n\u001b[1;32m      1\u001b[0m \u001b[38;5;28;01mdef\u001b[39;00m \u001b[38;5;21m_TODO_gen\u001b[39m():\n\u001b[1;32m      2\u001b[0m     \u001b[38;5;28;01myield\u001b[39;00m \u001b[38;5;124m'\u001b[39m\u001b[38;5;124ma\u001b[39m\u001b[38;5;124m'\u001b[39m\n\u001b[0;32m----> 4\u001b[0m \u001b[43m_TODO_gen\u001b[49m\u001b[43m(\u001b[49m\u001b[43m)\u001b[49m\u001b[38;5;241;43m.\u001b[39;49m\u001b[43msend\u001b[49m\u001b[43m(\u001b[49m\u001b[38;5;241;43m1\u001b[39;49m\u001b[43m)\u001b[49m\n",
      "\u001b[0;31mTypeError\u001b[0m: can't send non-None value to a just-started generator"
     ]
    }
   ],
   "source": [
    "def _TODO_gen():\n",
    "    yield 'a'\n",
    "\n",
    "_TODO_gen().send(1)"
   ]
  },
  {
   "cell_type": "code",
   "execution_count": null,
   "id": "e0d3943e",
   "metadata": {},
   "outputs": [],
   "source": [
    "# TODO custom event loop for ep!!!!"
   ]
  },
  {
   "cell_type": "code",
   "execution_count": null,
   "id": "d5dcaa7b",
   "metadata": {},
   "outputs": [],
   "source": [
    "async def waiter(event):\n",
    "    print('waiting for it ...')\n",
    "    await event.wait()\n",
    "    print('... got it!')\n",
    "\n",
    "async def main():\n",
    "    # Create an Event object.\n",
    "    event = asyncio.Event()\n",
    "\n",
    "    # Spawn a Task to wait until 'event' is set.\n",
    "    waiter_task = asyncio.create_task(waiter(event))\n",
    "\n",
    "    # Sleep for 1 second and set the event.\n",
    "    await asyncio.sleep(1)\n",
    "    event.set()\n",
    "\n",
    "    # Wait until the waiter task is finished.\n",
    "    await waiter_task\n",
    "\n",
    "asyncio.run(main())"
   ]
  },
  {
   "cell_type": "code",
   "execution_count": null,
   "id": "1d619c99",
   "metadata": {},
   "outputs": [],
   "source": []
  },
  {
   "cell_type": "code",
   "execution_count": null,
   "id": "d4676f9e",
   "metadata": {},
   "outputs": [],
   "source": []
  }
 ],
 "metadata": {
  "kernelspec": {
   "display_name": "Python 3 (ipykernel)",
   "language": "python",
   "name": "python3"
  },
  "language_info": {
   "codemirror_mode": {
    "name": "ipython",
    "version": 3
   },
   "file_extension": ".py",
   "mimetype": "text/x-python",
   "name": "python",
   "nbconvert_exporter": "python",
   "pygments_lexer": "ipython3",
   "version": "3.11.6"
  },
  "rise": {
   "scroll": true
  }
 },
 "nbformat": 4,
 "nbformat_minor": 5
}
