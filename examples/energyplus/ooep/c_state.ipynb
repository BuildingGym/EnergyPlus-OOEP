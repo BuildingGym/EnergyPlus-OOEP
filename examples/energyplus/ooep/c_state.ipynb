{
 "cells": [
  {
   "cell_type": "code",
   "execution_count": 1,
   "metadata": {},
   "outputs": [
    {
     "name": "stdout",
     "output_type": "stream",
     "text": [
      "EnergyPlus Starting\n",
      "EnergyPlus, Version 23.2.0-7636e6b3e9, YMD=2024.01.04 22:24\n"
     ]
    }
   ],
   "source": [
    "import energyplus.ooep as ooep\n",
    "import energyplus.ooep.ems\n",
    "import energyplus.ooep.addons.state\n",
    "\n",
    "from energyplus.dataset.basic import dataset as epds"
   ]
  },
  {
   "cell_type": "code",
   "execution_count": null,
   "metadata": {},
   "outputs": [],
   "source": [
    "# create environment\n",
    "env = energyplus.ooep.ems.Environment()\n",
    "\n",
    "# create state machine interface for the environment\n",
    "sm_env = ooep.addons.state.StateMachine(env)\n",
    "sm_stepf = sm_env.step_function(\n",
    "    dict(event_name='begin_new_environment')\n",
    ")\n",
    "\n",
    "# run the environment\n",
    "sm_env.run(\n",
    "    '--design-day',\n",
    "    #'--annual',\n",
    "    '--output-directory', 'build/demo-eplus',\n",
    "    '--weather', f'{epds.weathers}/USA_FL_Tampa.Intl.AP.722110_TMY3.epw',\n",
    "    f'{epds.models}/ASHRAE901_OfficeLarge_STD2019_Denver_Chiller205_Detailed.idf',\n",
    "    verbose=True,\n",
    ")"
   ]
  },
  {
   "cell_type": "code",
   "execution_count": 4,
   "metadata": {},
   "outputs": [],
   "source": [
    "# run one step inside the environment\n",
    "sm_stepf()"
   ]
  }
 ],
 "metadata": {
  "kernelspec": {
   "display_name": "Python 3 (ipykernel)",
   "language": "python",
   "name": "python3"
  },
  "language_info": {
   "codemirror_mode": {
    "name": "ipython",
    "version": 3
   },
   "file_extension": ".py",
   "mimetype": "text/x-python",
   "name": "python",
   "nbconvert_exporter": "python",
   "pygments_lexer": "ipython3",
   "version": "3.10.10"
  }
 },
 "nbformat": 4,
 "nbformat_minor": 4
}
