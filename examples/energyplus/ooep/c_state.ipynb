{
 "cells": [
  {
   "cell_type": "code",
   "execution_count": 2,
   "metadata": {},
   "outputs": [
    {
     "name": "stdout",
     "output_type": "stream",
     "text": [
      "EnergyPlus Starting\n",
      "EnergyPlus, Version 23.2.0-7636e6b3e9, YMD=2023.12.26 23:05\n"
     ]
    }
   ],
   "source": [
    "import energyplus.ooep as ooep\n",
    "import energyplus.ooep.ems\n",
    "import energyplus.ooep.addons.state\n",
    "\n",
    "from energyplus.dataset.basic import dataset as epds\n",
    "\n",
    "env = energyplus.ooep.ems.Environment().__enter__()\n",
    "\n",
    "sm_env = ooep.addons.state.StateMachine(env)\n",
    "sm_stepf = sm_env.step_function(\n",
    "    dict(event_name='begin_new_environment')\n",
    ")\n",
    "\n",
    "sm_env.run(\n",
    "    '--design-day',\n",
    "    #'--annual',\n",
    "    '--output-directory', 'build/demo-eplus',\n",
    "    '--weather', f'{epds.weathers}/USA_FL_Tampa.Intl.AP.722110_TMY3.epw',\n",
    "    f'{epds.models}/ASHRAE901_OfficeLarge_STD2019_Denver_Chiller205_Detailed.idf',\n",
    "    verbose=True,\n",
    ")"
   ]
  },
  {
   "cell_type": "code",
   "execution_count": 4,
   "metadata": {},
   "outputs": [
    {
     "name": "stdout",
     "output_type": "stream",
     "text": [
      "Warming up {1}\n",
      "Calculating Detailed Daylighting Factors, Start Date=12/21\n"
     ]
    },
    {
     "name": "stdout",
     "output_type": "stream",
     "text": [
      "Warming up {2}\n",
      "Warming up {3}\n",
      "Warming up {4}\n",
      "Warming up {5}\n",
      "Warming up {6}\n",
      "Warming up {7}\n",
      "Warming up {8}\n",
      "Starting Simulation at 12/21 for DENVER-AURORA-BUCKLEY.AFB_CO_USA ANN HTG 99.6% CONDNS DB\n",
      "Initializing New Environment Parameters\n"
     ]
    }
   ],
   "source": [
    "sm_stepf()"
   ]
  }
 ],
 "metadata": {
  "kernelspec": {
   "display_name": "essentials",
   "language": "python",
   "name": "python3"
  },
  "language_info": {
   "codemirror_mode": {
    "name": "ipython",
    "version": 3
   },
   "file_extension": ".py",
   "mimetype": "text/x-python",
   "name": "python",
   "nbconvert_exporter": "python",
   "pygments_lexer": "ipython3",
   "version": "3.11.6"
  }
 },
 "nbformat": 4,
 "nbformat_minor": 2
}
