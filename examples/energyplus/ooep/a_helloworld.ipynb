{
 "cells": [
  {
   "cell_type": "code",
   "execution_count": 1,
   "metadata": {},
   "outputs": [],
   "source": [
    "import energyplus.ooep\n",
    "import energyplus.ooep.ems"
   ]
  },
  {
   "cell_type": "code",
   "execution_count": 2,
   "metadata": {},
   "outputs": [
    {
     "name": "stdout",
     "output_type": "stream",
     "text": [
      "\n",
      "PythonLinkage: This version of EnergyPlus not linked to Python library.\n",
      "Built on Platform: Ubuntu22.04_x86_64\n",
      "\n",
      "Usage: energyplus [OPTIONS] [input_file]\n",
      "\n",
      "Positionals:\n",
      "  input_file TEXT:FILE        Input file (default: in.idf in current directory)\n",
      "\n",
      "Options:\n",
      "  -h,--help                   Print this help message and exit\n",
      "  -v,--version                Display program version information and exit\n",
      "  -a,--annual Excludes: --design-day\n",
      "                              Force annual simulation\n",
      "  -D,--design-day Excludes: --annual\n",
      "                              Force design-day-only simulation\n",
      "  -d,--output-directory DIR   Output directory path (default: current directory)\n",
      "  -i,--idd IDD                Input data dictionary path (default: Energy+.idd in executable directory)\n",
      "  -m,--epmacro                Run EPMacro prior to simulation\n",
      "  -p,--output-prefix PRE      Prefix for output file names (default: eplus)\n",
      "  -r,--readvars               Run ReadVarsESO after simulation\n",
      "  -c,--convert                Output IDF->epJSON or epJSON->IDF, dependent on input file type\n",
      "  --convert-only              Only convert IDF->epJSON or epJSON->IDF, dependent on input file type. No simulation\n",
      "  -s,--output-suffix SUFFIX   Suffix style for output file names (default: L)\n",
      "                                 L: Legacy (e.g., eplustbl.csv)\n",
      "                                 C: Capital (e.g., eplusTable.csv)\n",
      "                                 D: Dash (e.g., eplus-table.csv)\n",
      "  -j,--jobs N                 Multi-thread with N threads; 1 thread with no arg. (Currently only for G-Function generation)\n",
      "  -w,--weather EPW            Weather file path (default: in.epw in current directory)\n",
      "  -x,--expandobjects          Run ExpandObjects prior to simulation\n",
      "\n",
      "\n",
      "Example: energyplus -w weather.epw -r input.idf\n"
     ]
    }
   ],
   "source": [
    "with energyplus.ooep.ems.Environment() as env:\n",
    "    env('--help', verbose=True)"
   ]
  }
 ],
 "metadata": {
  "kernelspec": {
   "display_name": "Python 3 (ipykernel)",
   "language": "python",
   "name": "python3"
  },
  "language_info": {
   "codemirror_mode": {
    "name": "ipython",
    "version": 3
   },
   "file_extension": ".py",
   "mimetype": "text/x-python",
   "name": "python",
   "nbconvert_exporter": "python",
   "pygments_lexer": "ipython3",
   "version": "3.10.10"
  }
 },
 "nbformat": 4,
 "nbformat_minor": 4
}
